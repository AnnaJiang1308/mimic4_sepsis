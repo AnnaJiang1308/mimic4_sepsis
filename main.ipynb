{
   "cells": [
      {
         "attachments": {},
         "cell_type": "markdown",
         "metadata": {},
         "source": [
            "# MIMIC_Sepsis\n",
            "\n",
            "## 1 Preparation\n",
            "\n",
            "To run this document the following requirements must be satisfied:\n",
            "\n",
            "- Implement the database mimic in **PostgreSQL** and start it. The instruction can be seen [here](https://github.com/MIT-LCP/mimic-code/tree/main/mimic-iv/buildmimic/postgres). (The name of this environment should be **mimiciv**)\n",
            "- generate useful abstractions of raw MIMIC-IV data. The instruction be seen [here](https://github.com/MIT-LCP/mimic-code/tree/main/mimic-iv/concepts_postgres) \n",
            "\n",
            "\n",
            "\n",
            "To install all the libraries, run:\n",
            "```\n",
            "pip install psycopg2 csv pandas sklearn\n",
            "```\n",
            "\n",
            "\n",
            "After all the preparation is done, run the following cell to set the connection to the database.\n",
            " "
         ]
      },
      {
         "cell_type": "code",
         "execution_count": 57,
         "metadata": {},
         "outputs": [],
         "source": [
            "import psycopg2\n",
            "from psycopg2 import sql\n",
            "import csv\n",
            "import pandas as pd\n",
            "import os\n",
            "import shutil\n",
            "import csv\n",
            "from sklearn.impute import KNNImputer\n",
            "from sklearn.neighbors import KNeighborsRegressor\n",
            "\n",
            "# implement the username, password and database name\n",
            "conn = psycopg2.connect(host='', user='', password='', database='mimiciv')"
         ]
      },
      {
         "attachments": {},
         "cell_type": "markdown",
         "metadata": {},
         "source": [
            "## 2 Extract selected data from the original database \n",
            "\n",
            "According to the paper we need to extract the **state space** and **action space** respectively from the mimiciv database. The table **mimic4 itemid.csv** lists all the items required.\n",
            "\n",
            "* Here the *IV fluid bolus* of the action space is removed as no data could be found.\n",
            "\n",
            "**Uncomment the following line if you first time run the code**"
         ]
      },
      {
         "cell_type": "code",
         "execution_count": 2,
         "metadata": {},
         "outputs": [],
         "source": [
            "# uncomment the following line if you first time run the code\n",
            "\n",
            "# Read the SQL file\n",
            "\n",
            "try:\n",
            "    with open('sql_file/selection_patients_cohort.sql', 'r') as file0:\n",
            "        sql_script_selection_patients_cohort = file0.read()\n",
            "\n",
            "    with open('sql_file/action_from_inputevents.sql', 'r') as file1:\n",
            "        sql_script_action = file1.read()\n",
            "        \n",
            "    with open('sql_file/chartevents_dataneeded.sql', 'r') as file2:\n",
            "        sql_script_state = file2.read()\n",
            "\n",
            "    # Execute the SQL script\n",
            "    cursor = conn.cursor()\n",
            "    \n",
            "    # cursor.execute(sql.SQL(sql_script_selection_patients_cohort))\n",
            "    cursor.execute(sql.SQL(sql_script_action))\n",
            "    # cursor.execute(sql.SQL(sql_script_state))\n",
            "\n",
            "    conn.commit()\n",
            "    cursor.close()\n",
            "    \n",
            "    \n",
            "except (Exception, psycopg2.DatabaseError) as error:\n",
            "    print(\"Error executing SQL statement:\", error)"
         ]
      },
      {
         "cell_type": "code",
         "execution_count": 3,
         "metadata": {},
         "outputs": [
            {
               "name": "stdout",
               "output_type": "stream",
               "text": [
                  "Number of stay_ids: 6669\n"
               ]
            }
         ],
         "source": [
            "with conn.cursor() as cursor:\n",
            "    command = \"SELECT distinct stay_id FROM mimiciv_derived.sepsis_patients_cohort ;\"\n",
            "    cursor.execute(command)   \n",
            "    result = cursor.fetchall()\n",
            "    stay_ids= [row[0] for row in result]\n",
            "    num_stay_ids = len(stay_ids)\n",
            "    print('Number of stay_ids: ' + str(num_stay_ids))\n",
            "    cursor.close()"
         ]
      },
      {
         "attachments": {},
         "cell_type": "markdown",
         "metadata": {},
         "source": [
            "## 3 Data transfor"
         ]
      },
      {
         "attachments": {},
         "cell_type": "markdown",
         "metadata": {},
         "source": [
            "### 3.1 Data transfer of State Space\n",
            "We transfer the data of State Space from Postgresql to csv."
         ]
      },
      {
         "cell_type": "code",
         "execution_count": 4,
         "metadata": {},
         "outputs": [
            {
               "name": "stdout",
               "output_type": "stream",
               "text": [
                  "output:Heartrate.csv                           \tnumber of stay_id:6669\n",
                  "output:ABPs.csv                                \tnumber of stay_id:2129\n",
                  "output:NBPs.csv                                \tnumber of stay_id:6632\n",
                  "output:ABPd.csv                                \tnumber of stay_id:2131\n",
                  "output:NBPd.csv                                \tnumber of stay_id:6632\n",
                  "output:ABPm.csv                                \tnumber of stay_id:2168\n",
                  "output:NBPm.csv                                \tnumber of stay_id:6632\n",
                  "output:RespiratoryRate.csv                     \tnumber of stay_id:6669\n",
                  "output:TemperatureF.csv                        \tnumber of stay_id:6576\n",
                  "output:TemperatureC.csv                        \tnumber of stay_id:832\n",
                  "output:PH_A.csv                                \tnumber of stay_id:3663\n",
                  "output:PH_V.csv                                \tnumber of stay_id:3184\n",
                  "output:ABE.csv                                 \tnumber of stay_id:3645\n",
                  "output:Hematocrit_serum.csv                    \tnumber of stay_id:6596\n",
                  "output:Hematocrit_wholeblood.csv               \tnumber of stay_id:1200\n",
                  "output:Hemoglobin.csv                          \tnumber of stay_id:6591\n",
                  "output:Platele.csv                             \tnumber of stay_id:6591\n",
                  "output:WBC.csv                                 \tnumber of stay_id:6593\n",
                  "output:Chloride_serum.csv                      \tnumber of stay_id:6618\n",
                  "output:Chloride_wholeblood.csv                 \tnumber of stay_id:1058\n",
                  "output:Calcium_ion.csv                         \tnumber of stay_id:3459\n",
                  "output:Calcium_nonion.csv                      \tnumber of stay_id:6549\n",
                  "output:Potassium_serum.csv                     \tnumber of stay_id:6617\n",
                  "output:Potassium_wholeblood.csv                \tnumber of stay_id:2181\n",
                  "output:Sodium_serum.csv                        \tnumber of stay_id:6617\n",
                  "output:Sodium_wholeblood.csv                   \tnumber of stay_id:1401\n",
                  "output:ProthrombinTime.csv                     \tnumber of stay_id:6011\n",
                  "output:PTT.csv                                 \tnumber of stay_id:5970\n",
                  "output:INR.csv                                 \tnumber of stay_id:6011\n",
                  "output:SaO2.csv                                \tnumber of stay_id:1905\n",
                  "output:SpO2.csv                                \tnumber of stay_id:6665\n",
                  "Error executing SQL statement: Length mismatch: Expected axis has 0 elements, new values have 3 elements\n",
                  "drop:PaO2.csv                                \tnumber of stay_id:0\n",
                  "output:PaCO2.csv                               \tnumber of stay_id:3645\n",
                  "output:FiO2.csv                                \tnumber of stay_id:4044\n",
                  "output:BUN.csv                                 \tnumber of stay_id:6616\n",
                  "output:Creatinine_serum.csv                    \tnumber of stay_id:6618\n",
                  "output:Creatinine_wholeblood.csv               \tnumber of stay_id:40\n",
                  "output:Albumin.csv                             \tnumber of stay_id:3608\n",
                  "output:AnionGap.csv                            \tnumber of stay_id:6617\n",
                  "output:TotalBilirubin.csv                      \tnumber of stay_id:4797\n",
                  "output:DirectBilirubin.csv                     \tnumber of stay_id:818\n",
                  "output:ALT.csv                                 \tnumber of stay_id:4771\n",
                  "output:AST.csv                                 \tnumber of stay_id:4769\n",
                  "drop:UrineOutput.csv                         \tnumber of stay_id:1\n",
                  "output:GCS_EyeOpening.csv                      \tnumber of stay_id:6669\n",
                  "output:GCS_VerbalResponse.csv                  \tnumber of stay_id:6668\n",
                  "output:GCS_MotorResponse.csv                   \tnumber of stay_id:6668\n",
                  "['220045', '220050', '220179', '220051', '220180', '220052', '220181', '220210', '223761', '223762', '223830', '220274', '224828', '220545', '226540', '220228', '227457', '220546', '220602', '226536', '225667', '225625', '227442', '227464', '220645', '226534', '227465', '227466', '227467', '220227', '220277', '220235', '223835', '225624', '220615', '229761', '227456', '227073', '225690', '225651', '220644', '220587', '220739', '223900', '223901']\n"
               ]
            }
         ],
         "source": [
            "threshold = 1000\n",
            "# generate the list of itemid\n",
            "itemid_list_state=[]\n",
            "# generate the dictionary of itemid-abbr\n",
            "with open('csv/itemid_label_state.csv', newline='') as csvfile:\n",
            "    # Create a CSV reader object\n",
            "    reader = csv.reader(csvfile)\n",
            "    # Skip the header row\n",
            "    next(reader)\n",
            "    # Initialize an empty dictionary and list\n",
            "    label_state = {}\n",
            "    itemid_list = []\n",
            "    # Iterate over the rows in the CSV file\n",
            "    for row in reader:\n",
            "        # Add the key-value pair to the dictionary\n",
            "        label_state[row[0]] = row[1]\n",
            "        # Add the itemid to the list\n",
            "        itemid_list.append(row[0])\n",
            "\n",
            "# Execute the SQL command\n",
            "with conn.cursor() as cursor:\n",
            "    \n",
            "    for itemid in itemid_list:\n",
            "        \n",
            "        command_count = \"select count(distinct(stay_id)) from mimiciv_derived.sepsis_state where itemid={};\".format(itemid)\n",
            "        cursor.execute(command_count)\n",
            "        num = cursor.fetchone()[0]\n",
            "        \n",
            "        command = \"select stay_id, charttime, valuenum from mimiciv_derived.sepsis_state where itemid={} order by charttime;\".format(itemid)\n",
            "        cursor.execute(command)   \n",
            "        result = cursor.fetchall()\n",
            "        df=pd.DataFrame(result)\n",
            "        try:\n",
            "            df.columns = ['stay_id', 'charttime', 'valuenum']\n",
            "            df.astype({'stay_id': int, 'charttime': 'datetime64[ns]', 'valuenum': float})\n",
            "        except (Exception, psycopg2.DatabaseError) as error:\n",
            "            print(\"Error executing SQL statement:\", error) \n",
            "        os.makedirs('./output/state', exist_ok=True)\n",
            "        \n",
            "        if (num<num_stay_ids/threshold):\n",
            "            print(\"drop:{0:40}\".format(label_state[str(itemid)]+\".csv\")+\"\\tnumber of stay_id:\"+str(num))\n",
            "            \n",
            "        else:\n",
            "            df.to_csv('./output/state/{}.csv'.format(label_state[str(itemid)]),index=0)\n",
            "            itemid_list_state.append(itemid)\n",
            "            print(\"output:{0:40}\".format(label_state[str(itemid)]+\".csv\")+\"\\tnumber of stay_id:\"+str(num))\n",
            "        \n",
            "        \n",
            "        \n",
            "    cursor.close()\n",
            "print(itemid_list_state)"
         ]
      },
      {
         "attachments": {},
         "cell_type": "markdown",
         "metadata": {},
         "source": [
            "### 3.2 Data transfer of Action Space\n",
            "\n",
            "In *3.2.1* we transfer data of following actions from Postgresql to csv:\n",
            "\n",
            " - IV fluid bolus\n",
            "   - NaCl_0.9%\n",
            "   - Dextrose_5%\n",
            " - Vasopressors \n",
            "   - Norepinephrine\n",
            "   - Phenylephrine\n",
            "   - Vasopressin\n",
            "   - Epinephrine\n",
            "   - Dopamine\n",
            "   - Dobutamine\n",
            "   - Milrinone\n",
            "\n",
            "After calculation and comparison, in *3.2.2* we will omit the two insignificant vasopressors: Dobutamine and Milrinone.\n",
            "\n",
            "So that in *3.2.3* we can directly obtain a vasopressors_norepinephrine_equivalent_dose based on \"Vasopressor dose equivalence: A scoping review and suggested formula\" by Goradia et al. 2020."
         ]
      },
      {
         "attachments": {},
         "cell_type": "markdown",
         "metadata": {},
         "source": [
            "#### 3.2.1 Read action data of IV fluid bolus & Vasopressors"
         ]
      },
      {
         "cell_type": "code",
         "execution_count": 5,
         "metadata": {},
         "outputs": [
            {
               "name": "stdout",
               "output_type": "stream",
               "text": [
                  "output action (IV_fluid_bolus):\tNaCl_0_9%.csv\n",
                  "output action (IV_fluid_bolus):\tDextrose_5%.csv\n",
                  "output action (vasopressors):\tNorepinephrine.csv\n",
                  "output action (vasopressors):\tVasopressin.csv\n",
                  "output action (vasopressors):\tDobutamine.csv\n",
                  "output action (vasopressors):\tMilrinone.csv\n",
                  "output action (vasopressors):\tPhenylephrine.csv\n",
                  "output action (vasopressors):\tDopamine.csv\n",
                  "output action (vasopressors):\tEpinephrine.csv\n"
               ]
            }
         ],
         "source": [
            "# TODO: here the value per minute is computed, do we need this? (paper4.1,P5)\n",
            "\n",
            "# generate the dictionary of action\n",
            "with open('csv/itemid_label_action.csv', newline='') as csvfile:\n",
            "    # Create a CSV reader object\n",
            "    reader = csv.reader(csvfile)\n",
            "    # Skip the header row\n",
            "    next(reader)\n",
            "    # Initialize an empty dictionary and list\n",
            "    action_label = {}\n",
            "    a_itemid_list = []\n",
            "    # Iterate over the rows in the CSV file\n",
            "    for row in reader:\n",
            "        # Add the key-value pair to the dictionary\n",
            "        action_label[row[0]] = row[1]\n",
            "        # Add the itemid to the list\n",
            "        a_itemid_list.append(row[0])\n",
            "\n",
            "if os.path.exists('./output/action/IV_fluid_bolus'):shutil.rmtree('./output/action/IV_fluid_bolus')\n",
            "if os.path.exists('./output/action/vasopressors'):shutil.rmtree('./output/action/vasopressors')\n",
            "os.makedirs('./output/action/IV_fluid_bolus')\n",
            "os.makedirs('./output/action/vasopressors')\n",
            "\n",
            "with conn.cursor() as cursor:\n",
            "\n",
            "    for itemid in a_itemid_list:\n",
            "        # QUESTION: why do we need to order by starttime?\n",
            "        command = \"select stay_id, starttime, endtime, amount from mimiciv_derived.sepsis_action where itemid={} order by starttime;\".format(itemid)\n",
            "        cursor.execute(command)\n",
            "\n",
            "        result = cursor.fetchall()\n",
            "        df = pd.DataFrame(result)\n",
            "        df.columns = ['stay_id', 'starttime', 'endtime', 'amount']\n",
            "        \n",
            "        df['duration'] = df['endtime'] - df['starttime']\n",
            "        df['duration'] = df['duration'].dt.total_seconds()  # Convert duration to seconds\n",
            "        df['duration'] = df['duration'] / 60\n",
            "        df['value_per_minute'] = df['amount'] / df['duration']\n",
            "        df['value_per_4hours'] = df['value_per_minute'] * 240\n",
            "        \n",
            "        if \"Dextrose_5%\" in action_label[str(itemid)] or \"NaCl_0_9%\" in action_label[str(itemid)]:\n",
            "            df.to_csv('./output/action/IV_fluid_bolus/{}.csv'.format(action_label[str(itemid)]), index=0)\n",
            "            print(\"output action (IV_fluid_bolus):\\t\"+action_label[str(itemid)]+\".csv\")\n",
            "        else:\n",
            "            df.to_csv('./output/action/vasopressors/{}.csv'.format(action_label[str(itemid)]), index=0)\n",
            "            print(\"output action (vasopressors):\\t\"+action_label[str(itemid)]+\".csv\")\n",
            "    cursor.close()"
         ]
      },
      {
         "attachments": {},
         "cell_type": "markdown",
         "metadata": {},
         "source": [
            "#### 3.2.2 Analyze action data of IV fluid bolus & Vasopressors "
         ]
      },
      {
         "attachments": {},
         "cell_type": "markdown",
         "metadata": {},
         "source": [
            "##### 3.2.2.1 Get IV fluid bolus statistical data"
         ]
      },
      {
         "cell_type": "code",
         "execution_count": 6,
         "metadata": {},
         "outputs": [
            {
               "name": "stdout",
               "output_type": "stream",
               "text": [
                  "项目\tIV fluid bolus\tCount\n",
                  "1\tNaCl_0_9%\t183559\n",
                  "2\tDextrose_5%\t144445\n"
               ]
            }
         ],
         "source": [
            "# 文件夹路径\n",
            "folder_path = 'output/action/IV_fluid_bolus'\n",
            "print('项目\\tIV fluid bolus\\tCount')\n",
            "\n",
            "# 获取文件夹中的所有CSV文件路径\n",
            "file_paths = [os.path.join(folder_path, file) for file in os.listdir(folder_path) if file.endswith('.csv')]\n",
            "\n",
            "index = 0\n",
            "# 遍历每个CSV文件，获取行数\n",
            "for file_path in file_paths:\n",
            "    file_name = os.path.basename(file_path)\n",
            "    with open(file_path, 'r', newline='') as csvfile:\n",
            "        csv_reader = csv.reader(csvfile)\n",
            "        rows = sum(1 for row in csv_reader)\n",
            "        index += 1\n",
            "    print(f\"{index}\\t{file_path[29:-4]}\\t{rows}\")"
         ]
      },
      {
         "attachments": {},
         "cell_type": "markdown",
         "metadata": {},
         "source": [
            "##### 3.2.2.2 Get Vasopressors statistical data"
         ]
      },
      {
         "cell_type": "code",
         "execution_count": 7,
         "metadata": {},
         "outputs": [
            {
               "name": "stdout",
               "output_type": "stream",
               "text": [
                  "项目\tVasopressors\tCount\t占比\t前n项占比\n",
                  "1\tNorepinephrine\t60081\t66.46%\t66.46%\n",
                  "2\tPhenylephrine\t19667\t21.76%\t88.22%\n",
                  "3\tVasopressin\t3763\t4.16%\t92.38%\n",
                  "4\tEpinephrine\t2829\t3.13%\t95.51%\n",
                  "5\tDopamine\t2448\t2.71%\t98.22%\n",
                  "6\tDobutamine\t1132\t1.25%\t99.47%\n",
                  "7\tMilrinone\t481\t0.53%\t100.0%\n",
                  "Total\t\t\t90401\t100%\t100%\n"
               ]
            }
         ],
         "source": [
            "# 文件夹路径\n",
            "folder_path = 'output/action/vasopressors'\n",
            "print('项目\\tVasopressors\\tCount\\t占比\\t前n项占比')\n",
            "\n",
            "# 获取文件夹中的所有CSV文件路径\n",
            "file_paths = [os.path.join(folder_path, file) for file in os.listdir(folder_path) if file.endswith('.csv')]\n",
            "\n",
            "# 存储每个CSV文件的行数\n",
            "rows_dict = {}\n",
            "\n",
            "# 计算行数之和\n",
            "total_rows = 0\n",
            "\n",
            "# 遍历每个CSV文件，获取行数\n",
            "for file_path in file_paths:\n",
            "    with open(file_path, 'r', newline='') as csvfile:\n",
            "        csv_reader = csv.reader(csvfile)\n",
            "        rows = sum(1 for row in csv_reader)\n",
            "        rows_dict[file_path] = rows\n",
            "        total_rows += rows\n",
            "\n",
            "# 按行数大小对字典进行排序\n",
            "sorted_rows = sorted(rows_dict.items(), key=lambda x: x[1], reverse=True)\n",
            "\n",
            "total_rows_first_n = 0\n",
            "index = 0\n",
            "# 打印排序结果\n",
            "for file_path, rows in sorted_rows:\n",
            "    index += 1\n",
            "    total_rows_first_n += rows\n",
            "    print(f\"{index}\\t{file_path[27:-4]}\\t{rows}\\t{round(rows/total_rows*100,2)}%\\t{round(total_rows_first_n/total_rows*100,2)}%\")\n",
            "print(f\"Total\\t\\t\\t{total_rows}\\t100%\\t100%\")"
         ]
      },
      {
         "attachments": {},
         "cell_type": "markdown",
         "metadata": {},
         "source": [
            "##### 3.2.2.3 Conclusion of Analysis of action data\n",
            "\n",
            "前5项血管加压药占比:98.22%，可见前5项血管加压药占比较大，因此我们只需要考虑前5项血管加压药即可。忽略Dobutamine和Milrinone。\n",
            "\n",
            "后两项血管加压药也被此文献忽视。'Vasopressor dose equivalence: A scoping review and suggested formula by Goradia et al. 2020'\n",
            "\n",
            "前5项血管加压药的等效计量值可以直接从mimiciv_derived.norepinephrine_equivalent_dose中获取:"
         ]
      },
      {
         "attachments": {},
         "cell_type": "markdown",
         "metadata": {},
         "source": [
            "#### 3.2.3 Obtain Vasopressor_norepinephrine_equivalent_dose"
         ]
      },
      {
         "cell_type": "code",
         "execution_count": 8,
         "metadata": {},
         "outputs": [
            {
               "name": "stdout",
               "output_type": "stream",
               "text": [
                  "output action (vasopressors_norepinephrine_equivalent_dose.csv)\n",
                  "\n",
                  "项目\tVasopressors_norepinephrine_equivalent_dose\tCount\n",
                  "1\tNorepinephrine\t60081\n",
                  "2\tDobutamine\t1132\n",
                  "3\tPhenylephrine\t19667\n",
                  "4\tVasopressin\t3763\n",
                  "5\tvasopressors_norepinephrine_equivalent_dose\t91823\n",
                  "6\tMilrinone\t481\n"
               ]
            }
         ],
         "source": [
            "# 从mimiciv_derived.norepinephrine_equivalent_dose中获取前5项血管加压药的等效计量值 norepinephrine_equivalent_dose_rate\n",
            "\n",
            "with conn.cursor() as cursor:\n",
            "\n",
            "    command = \"select stay_id, starttime, endtime, norepinephrine_equivalent_dose from mimiciv_derived.norepinephrine_equivalent_dose where stay_id in (select stay_id from mimiciv_derived.sepsis_patients_cohort);\" # get norepinephrine_equivalent_dose_rate\n",
            "    cursor.execute(command)\n",
            "\n",
            "    result = cursor.fetchall()\n",
            "    df = pd.DataFrame(result)\n",
            "    df.columns = ['stay_id', 'starttime', 'endtime', 'norepinephrine_equivalent_dose_rate'] # norepinephrine_equivalent_dose in mcg/kg/min\n",
            "    \n",
            "    df['duration'] = df['endtime'] - df['starttime']\n",
            "    df['duration'] = df['duration'].dt.total_seconds()  # Convert duration to seconds\n",
            "    df['duration'] = df['duration'] / 60\n",
            "    df['norepinephrine_equivalent_dose_rate'] = df['norepinephrine_equivalent_dose_rate'].astype(float)\n",
            "    \n",
            "    df.to_csv('./output/action/vasopressors_norepinephrine_equivalent_dose.csv', index=0)\n",
            "    print(\"output action (vasopressors_norepinephrine_equivalent_dose.csv)\")\n",
            "\n",
            "    cursor.close()\n",
            "\n",
            "# 文件夹路径\n",
            "folder_path = 'output/action'\n",
            "print('\\n项目\\tVasopressors_norepinephrine_equivalent_dose\\tCount')\n",
            "\n",
            "# 获取文件夹中的所有CSV文件路径\n",
            "file_paths = [os.path.join(folder_path, file) for file in os.listdir(folder_path) if file.endswith('.csv')]\n",
            "\n",
            "index = 0\n",
            "# 遍历每个CSV文件，获取行数\n",
            "for file_path in file_paths:\n",
            "    file_name = os.path.basename(file_path)\n",
            "    with open(file_path, 'r', newline='') as csvfile:\n",
            "        csv_reader = csv.reader(csvfile)\n",
            "        rows = sum(1 for row in csv_reader)\n",
            "        index += 1\n",
            "    print(f\"{index}\\t{file_path[14:-4]}\\t{rows}\")"
         ]
      },
      {
         "attachments": {},
         "cell_type": "markdown",
         "metadata": {},
         "source": [
            "## 4.Hourly Sample"
         ]
      },
      {
         "attachments": {},
         "cell_type": "markdown",
         "metadata": {},
         "source": [
            "### 4.1 Hourly Sample on State Space"
         ]
      },
      {
         "attachments": {},
         "cell_type": "markdown",
         "metadata": {},
         "source": [
            "#### 4.1.1 Define the hourly_sample_state function"
         ]
      },
      {
         "cell_type": "code",
         "execution_count": 60,
         "metadata": {},
         "outputs": [],
         "source": [
            "k = 5\n",
            "\n",
            "# Create a custom imputation function\n",
            "def lq_distance_imputer(X):\n",
            "    # Calculate the Lq distances\n",
            "    distances = np.abs(X - X[:, -1].reshape(-1, 1)) ** q\n",
            "\n",
            "    # Calculate the weights based on the inverse distances\n",
            "    weights = 1 / distances\n",
            "\n",
            "    # Normalize the weights\n",
            "    weights /= np.sum(weights, axis=1).reshape(-1, 1)\n",
            "\n",
            "    # Multiply the weights with the feature values and compute the weighted mean\n",
            "    return np.sum(weights * X[:, :-1], axis=1)\n",
            "\n",
            "def hourly_sample_state(selected_id):\n",
            "    # Set the folder path where the CSV files are stored\n",
            "    folder_path = './output/state/'\n",
            "    columns=['chartdatetime']\n",
            "\n",
            "    # define a new dataframe\n",
            "    df_output = pd.DataFrame(columns=columns)\n",
            "\n",
            "\n",
            "    #FIXME: flag only for test\n",
            "    i=0\n",
            "\n",
            "    # Loop through the file paths and read each file into a DataFrame\n",
            "    for itemid in itemid_list_state:\n",
            "        \n",
            "        feature=label_state[str(itemid)]\n",
            "        path = folder_path + feature+'.csv'\n",
            "        \n",
            "        # Load the CSV file into a pandas DataFrame\n",
            "        dtypes={'stay_id':str,'chartdatetime':str,feature:str}\n",
            "        df = pd.read_csv(path,names=['stay_id', 'chartdatetime', feature ],dtype=dtypes)\n",
            "        df['stay_id'] = pd.to_numeric(df['stay_id'], errors='coerce')\n",
            "        \n",
            "        # Filter the DataFrame to only the rows from the selected stay_id\n",
            "        df_filtered = df[df['stay_id'] == selected_id]\n",
            "        \n",
            "        # Convert the 'datetime' column to a datetime object\n",
            "        df_filtered.loc[:,'chartdatetime'] = pd.to_datetime(df_filtered['chartdatetime'].copy())\n",
            "        #df_filtered['chartdatetime'] = df_filtered['chartdatetime'].apply(pd.to_datetime)\n",
            "\n",
            "        # Set the 'datetime' column as the DataFrame's index\n",
            "        df_filtered.set_index('chartdatetime', inplace=True)\n",
            "        \n",
            "        # # Resample the DataFrame hourly and forward fill missing values\n",
            "        df_hourly= df_filtered.resample('H').ffill()\n",
            "        df_hourly=df_hourly.drop(['stay_id'],axis=1)\n",
            "        \n",
            "        df_output['chartdatetime'] = pd.to_datetime(df_output['chartdatetime'])\n",
            "        #df_output = pd.concat([df_output, df_hourly], join=\"outer\",sort=False)\n",
            "        df_output=pd.merge(df_output,df_hourly,how='outer',on='chartdatetime')\n",
            "        \n",
            "        \n",
            "        \n",
            "        #imputer = KNNImputer(n_neighbors=k,weights='distance',missing_values=float('NaN'))\n",
            "        \n",
            "        imputer = KNNImputer(n_neighbors=k,weights=lq_distance_imputer,missing_values=float('NaN'))\n",
            "        imputed_values=imputer.fit_transform(df_output[feature].values.reshape(-1,1))\n",
            "        df_output[feature] = imputed_values\n",
            "        \n",
            "        i+=1\n",
            "        if(i==8): break\n",
            "        \n",
            "    \n",
            "\n",
            "    os.makedirs('./output/hourly_sample/', exist_ok=True)\n",
            "    df_output.reset_index().to_csv(f'./output/hourly_sample/stay_id{selected_id}.csv',index=0)\n",
            "\n",
            "    # print(i)\n",
            "    # # Reset the index and save the resampled DataFrame to a new CSV file\n",
            "    # df_hourly.reset_index().to_csv('./output/your_resampled_file.csv', index=False, header=None)  "
         ]
      },
      {
         "attachments": {},
         "cell_type": "markdown",
         "metadata": {},
         "source": [
            "#### 4.1.2 Loop hourly_resample through stay_ids to obtain all the patient states."
         ]
      },
      {
         "cell_type": "code",
         "execution_count": 61,
         "metadata": {},
         "outputs": [
            {
               "name": "stderr",
               "output_type": "stream",
               "text": [
                  "/var/folders/05/nx04jp2500xc3gb43lxz42l40000gn/T/ipykernel_38331/2092157609.py:44: SettingWithCopyWarning: \n",
                  "A value is trying to be set on a copy of a slice from a DataFrame.\n",
                  "Try using .loc[row_indexer,col_indexer] = value instead\n",
                  "\n",
                  "See the caveats in the documentation: https://pandas.pydata.org/pandas-docs/stable/user_guide/indexing.html#returning-a-view-versus-a-copy\n",
                  "  df_filtered.loc[:,'chartdatetime'] = pd.to_datetime(df_filtered['chartdatetime'].copy())\n",
                  "/var/folders/05/nx04jp2500xc3gb43lxz42l40000gn/T/ipykernel_38331/2092157609.py:44: FutureWarning: In a future version, `df.iloc[:, i] = newvals` will attempt to set the values inplace instead of always setting a new array. To retain the old behavior, use either `df[df.columns[i]] = newvals` or, if columns are non-unique, `df.isetitem(i, newvals)`\n",
                  "  df_filtered.loc[:,'chartdatetime'] = pd.to_datetime(df_filtered['chartdatetime'].copy())\n",
                  "/var/folders/05/nx04jp2500xc3gb43lxz42l40000gn/T/ipykernel_38331/2092157609.py:44: SettingWithCopyWarning: \n",
                  "A value is trying to be set on a copy of a slice from a DataFrame.\n",
                  "Try using .loc[row_indexer,col_indexer] = value instead\n",
                  "\n",
                  "See the caveats in the documentation: https://pandas.pydata.org/pandas-docs/stable/user_guide/indexing.html#returning-a-view-versus-a-copy\n",
                  "  df_filtered.loc[:,'chartdatetime'] = pd.to_datetime(df_filtered['chartdatetime'].copy())\n",
                  "/var/folders/05/nx04jp2500xc3gb43lxz42l40000gn/T/ipykernel_38331/2092157609.py:44: FutureWarning: In a future version, `df.iloc[:, i] = newvals` will attempt to set the values inplace instead of always setting a new array. To retain the old behavior, use either `df[df.columns[i]] = newvals` or, if columns are non-unique, `df.isetitem(i, newvals)`\n",
                  "  df_filtered.loc[:,'chartdatetime'] = pd.to_datetime(df_filtered['chartdatetime'].copy())\n",
                  "/var/folders/05/nx04jp2500xc3gb43lxz42l40000gn/T/ipykernel_38331/2092157609.py:44: SettingWithCopyWarning: \n",
                  "A value is trying to be set on a copy of a slice from a DataFrame.\n",
                  "Try using .loc[row_indexer,col_indexer] = value instead\n",
                  "\n",
                  "See the caveats in the documentation: https://pandas.pydata.org/pandas-docs/stable/user_guide/indexing.html#returning-a-view-versus-a-copy\n",
                  "  df_filtered.loc[:,'chartdatetime'] = pd.to_datetime(df_filtered['chartdatetime'].copy())\n",
                  "/var/folders/05/nx04jp2500xc3gb43lxz42l40000gn/T/ipykernel_38331/2092157609.py:44: FutureWarning: In a future version, `df.iloc[:, i] = newvals` will attempt to set the values inplace instead of always setting a new array. To retain the old behavior, use either `df[df.columns[i]] = newvals` or, if columns are non-unique, `df.isetitem(i, newvals)`\n",
                  "  df_filtered.loc[:,'chartdatetime'] = pd.to_datetime(df_filtered['chartdatetime'].copy())\n",
                  "/var/folders/05/nx04jp2500xc3gb43lxz42l40000gn/T/ipykernel_38331/2092157609.py:44: SettingWithCopyWarning: \n",
                  "A value is trying to be set on a copy of a slice from a DataFrame.\n",
                  "Try using .loc[row_indexer,col_indexer] = value instead\n",
                  "\n",
                  "See the caveats in the documentation: https://pandas.pydata.org/pandas-docs/stable/user_guide/indexing.html#returning-a-view-versus-a-copy\n",
                  "  df_filtered.loc[:,'chartdatetime'] = pd.to_datetime(df_filtered['chartdatetime'].copy())\n",
                  "/var/folders/05/nx04jp2500xc3gb43lxz42l40000gn/T/ipykernel_38331/2092157609.py:44: FutureWarning: In a future version, `df.iloc[:, i] = newvals` will attempt to set the values inplace instead of always setting a new array. To retain the old behavior, use either `df[df.columns[i]] = newvals` or, if columns are non-unique, `df.isetitem(i, newvals)`\n",
                  "  df_filtered.loc[:,'chartdatetime'] = pd.to_datetime(df_filtered['chartdatetime'].copy())\n",
                  "/var/folders/05/nx04jp2500xc3gb43lxz42l40000gn/T/ipykernel_38331/2092157609.py:44: SettingWithCopyWarning: \n",
                  "A value is trying to be set on a copy of a slice from a DataFrame.\n",
                  "Try using .loc[row_indexer,col_indexer] = value instead\n",
                  "\n",
                  "See the caveats in the documentation: https://pandas.pydata.org/pandas-docs/stable/user_guide/indexing.html#returning-a-view-versus-a-copy\n",
                  "  df_filtered.loc[:,'chartdatetime'] = pd.to_datetime(df_filtered['chartdatetime'].copy())\n",
                  "/var/folders/05/nx04jp2500xc3gb43lxz42l40000gn/T/ipykernel_38331/2092157609.py:44: FutureWarning: In a future version, `df.iloc[:, i] = newvals` will attempt to set the values inplace instead of always setting a new array. To retain the old behavior, use either `df[df.columns[i]] = newvals` or, if columns are non-unique, `df.isetitem(i, newvals)`\n",
                  "  df_filtered.loc[:,'chartdatetime'] = pd.to_datetime(df_filtered['chartdatetime'].copy())\n",
                  "/var/folders/05/nx04jp2500xc3gb43lxz42l40000gn/T/ipykernel_38331/2092157609.py:44: SettingWithCopyWarning: \n",
                  "A value is trying to be set on a copy of a slice from a DataFrame.\n",
                  "Try using .loc[row_indexer,col_indexer] = value instead\n",
                  "\n",
                  "See the caveats in the documentation: https://pandas.pydata.org/pandas-docs/stable/user_guide/indexing.html#returning-a-view-versus-a-copy\n",
                  "  df_filtered.loc[:,'chartdatetime'] = pd.to_datetime(df_filtered['chartdatetime'].copy())\n",
                  "/var/folders/05/nx04jp2500xc3gb43lxz42l40000gn/T/ipykernel_38331/2092157609.py:44: FutureWarning: In a future version, `df.iloc[:, i] = newvals` will attempt to set the values inplace instead of always setting a new array. To retain the old behavior, use either `df[df.columns[i]] = newvals` or, if columns are non-unique, `df.isetitem(i, newvals)`\n",
                  "  df_filtered.loc[:,'chartdatetime'] = pd.to_datetime(df_filtered['chartdatetime'].copy())\n",
                  "/var/folders/05/nx04jp2500xc3gb43lxz42l40000gn/T/ipykernel_38331/2092157609.py:44: SettingWithCopyWarning: \n",
                  "A value is trying to be set on a copy of a slice from a DataFrame.\n",
                  "Try using .loc[row_indexer,col_indexer] = value instead\n",
                  "\n",
                  "See the caveats in the documentation: https://pandas.pydata.org/pandas-docs/stable/user_guide/indexing.html#returning-a-view-versus-a-copy\n",
                  "  df_filtered.loc[:,'chartdatetime'] = pd.to_datetime(df_filtered['chartdatetime'].copy())\n",
                  "/var/folders/05/nx04jp2500xc3gb43lxz42l40000gn/T/ipykernel_38331/2092157609.py:44: FutureWarning: In a future version, `df.iloc[:, i] = newvals` will attempt to set the values inplace instead of always setting a new array. To retain the old behavior, use either `df[df.columns[i]] = newvals` or, if columns are non-unique, `df.isetitem(i, newvals)`\n",
                  "  df_filtered.loc[:,'chartdatetime'] = pd.to_datetime(df_filtered['chartdatetime'].copy())\n",
                  "/var/folders/05/nx04jp2500xc3gb43lxz42l40000gn/T/ipykernel_38331/2092157609.py:44: SettingWithCopyWarning: \n",
                  "A value is trying to be set on a copy of a slice from a DataFrame.\n",
                  "Try using .loc[row_indexer,col_indexer] = value instead\n",
                  "\n",
                  "See the caveats in the documentation: https://pandas.pydata.org/pandas-docs/stable/user_guide/indexing.html#returning-a-view-versus-a-copy\n",
                  "  df_filtered.loc[:,'chartdatetime'] = pd.to_datetime(df_filtered['chartdatetime'].copy())\n",
                  "/var/folders/05/nx04jp2500xc3gb43lxz42l40000gn/T/ipykernel_38331/2092157609.py:44: FutureWarning: In a future version, `df.iloc[:, i] = newvals` will attempt to set the values inplace instead of always setting a new array. To retain the old behavior, use either `df[df.columns[i]] = newvals` or, if columns are non-unique, `df.isetitem(i, newvals)`\n",
                  "  df_filtered.loc[:,'chartdatetime'] = pd.to_datetime(df_filtered['chartdatetime'].copy())\n"
               ]
            }
         ],
         "source": [
            "selected_id = 32950566\n",
            "# selected_id = 32950566\n",
            "\n",
            "hourly_sample_state(selected_id)\n",
            "# for selected_id in stay_ids:\n",
            "#     hourly_sample_state(selected_id)"
         ]
      },
      {
         "attachments": {},
         "cell_type": "markdown",
         "metadata": {},
         "source": [
            "### 4.2 Hourly Sample on Action Space"
         ]
      },
      {
         "cell_type": "code",
         "execution_count": 17,
         "metadata": {},
         "outputs": [
            {
               "name": "stdout",
               "output_type": "stream",
               "text": [
                  "[33652589, 36960229, 30339244, 31000888, 36174467, 38711594, 32392061, 33344655, 38834002, 39583514, 30932864, 30787904, 34602935, 37999486, 32604416, 32772743, 34368740, 34790582, 30032418, 35305163, 30413406, 39537495, 33434455, 33478876, 36941890, 32935971, 38636014, 37111273, 34336536, 39576461, 36047947, 36443311, 31776148, 30085094, 33282613, 39918742, 32358344, 34865181, 32386069, 35682949, 36047928, 30420855, 38374351, 36297377, 32273111, 36870399, 37099943, 31397948, 31279934, 38294239, 39542547, 32458586, 37650707, 37984499, 31059962, 33398606, 32795311, 31719617, 37356325, 33463118, 39945306, 34377095, 35434730, 34294474, 39444062, 32224359, 31120876, 31604497, 37082200, 32511600, 33982792, 38909265, 35090086, 38236658, 31889885, 38108133, 37132783, 32446965, 31530527, 33746945, 38706653, 38063091, 36632389, 33767175, 38937841, 34674807, 30841844, 33222233, 34010095, 33232896, 32304585, 33811581, 33949923, 33804332, 35217981, 31872514, 37056020, 38671613, 37579911, 36344664, 38344390, 39698129, 33231770, 31716261, 37017734, 37710440, 33035558, 33070852, 37528413, 35943443, 39419087, 37729668, 39450911, 32576577, 31660060, 38973645, 37770460, 38770011, 37816133, 35267290, 30614643, 33266392, 38246462, 31570704, 30367285, 34279325, 38405237, 31651964, 39816550, 31977743, 30919886, 39295476, 39989105, 39672008, 35484834, 39369475, 34676524, 38054624, 32263761, 32254249, 39571846, 30397533, 35917868, 31136730, 39120208, 34083319, 39665700, 30632096, 35221278, 35156137, 33225678, 35973113, 31216618, 35942631, 31612048, 36598431, 38553297, 37780525, 36011240, 37936201, 30946826, 32508102, 37211838, 34216019, 30701881, 38567224, 34410436, 36841282, 31455451, 35731657, 39524149, 32545533, 36863901, 35799678, 35003295, 38444495, 35324484, 39245412, 32593154, 34410045, 38193190, 31954579, 31600824, 33011280, 39843254, 38810212, 37717749, 39079664, 33372263, 35114868, 32141930, 33692272, 39628138, 39598079, 38209073, 31545047, 35988527, 36225739, 39765292, 38549794, 38714918, 37523936, 33273853, 38319765, 30415993, 34649178, 39260168, 34496475, 37107520, 37656504, 35740743, 35489747, 31060371, 38376767, 34163745, 36516365, 32205978, 31835310, 37995728, 38613519, 35329544, 31209878, 39618079, 38688627, 33763373, 37008869, 37234121, 30994676, 36059411, 33850878, 34556632, 34402613, 38688694, 38083912, 32289051, 34975173, 34855529, 37786967, 32504476, 31577045, 32641669, 31621551, 36038481, 38945023, 35880733, 30037986, 30427481, 35446096, 35648262, 33519346, 39369843, 35027491, 37751533, 30946989, 30380489, 35716041, 38720996, 38627763, 33430306, 35233751, 32700227, 30373095, 39235969, 33383218, 35378766, 33882594, 32361904, 32858356, 32100826, 39012826, 37378627, 33875451, 36291637, 31160581, 39028151, 31463954, 33685090, 31833238, 37088390, 32616999, 32138129, 33898644, 30252876, 39340721, 38029143, 39484318, 38772315, 35545742, 35175882, 39939179, 36895824, 32660070, 35286776, 30114664, 39090171, 39233063, 35289144, 33055184, 36532707, 36972673, 32862166, 31268948, 34630660, 30137860, 30672327, 39715273, 34992538, 39282918, 30434111, 34103245, 37706110, 34982218, 35661990, 31182597, 31112986, 38392424, 31157301, 32185728, 31165770, 32616956, 31488049, 35774858, 30774040, 37707849, 35526338, 31840475, 38333325, 34450827, 30102040, 30491397, 34322833, 39285155, 35269156, 34913842, 39275599, 38373149, 31271196, 38200431, 35529313, 31811599, 30808557, 34895584, 33597827, 31595782, 35808931, 32897671, 33916815, 32451567, 33254257, 38164437, 31171769, 35602103, 32960510, 30106115, 31209355, 38093573, 37312347, 36787203, 38809220, 32275647, 39633054, 39999172, 35513513, 31285428, 33976324, 35602399, 31352049, 38897282, 30201314, 36345408, 35791403, 32929820, 36181950, 37370133, 31250437, 37049736, 38475204, 34987923, 38220843, 38993100, 30058861, 31874311, 32364665, 34413972, 30049710, 36812052, 39881634, 34206085, 30338625, 36729951, 31436871, 35391794, 30348214, 34105794, 30651352, 32090007, 34139621, 37761862, 34995591, 30849266, 30224533, 34454967, 33511420, 35909021, 35458600, 34811276, 35324638, 33748111, 32124093, 30180072, 30592303, 38939754, 30448148, 36623230, 36353597, 32617059, 33725667, 37039726, 31560380, 35635578, 36095830, 39076157, 31850870, 36920993, 32374363, 37445196, 38871008, 38415418, 37471848, 38369435, 34434748, 33459221, 34600243, 33038289, 30774712, 38094100, 38993479, 32946030, 38781322, 39753525, 32654814, 36912959, 34612105, 33870409, 34565601, 37335863, 35227825, 39078511, 34841364, 36147922, 34264065, 38786871, 38958537, 34332620, 36422887, 36629388, 37949677, 39838419, 35359444, 34699883, 38753669, 30255658, 31218485, 31690388, 32595658, 36809169, 35598865, 34752926, 39150002, 39160111, 30519693, 31160559, 33439163, 33561202, 30408520, 38593459, 34561881, 34414869, 38150079, 33316407, 34896153, 39423360, 33976285, 31127537, 32021881, 34448150, 33734267, 35026327, 37846841, 30217596, 39656774, 31726525, 38547174, 37464477, 38600176, 30497824, 34309408, 32456651, 38545632, 33930962, 38562441, 38043302, 38583460, 31012359, 34802325, 39208819, 34075183, 38045834, 37099881, 31331121, 37255789, 39506882, 31069304, 30997396, 32080620, 34586868, 31051330, 32300511, 31274618, 34428987, 32412962, 37980262, 38091710, 36310828, 37694805, 35497317, 36052654, 36751128, 35960952, 39342005, 35136459, 39103057, 36198476, 39405426, 34692667, 32231452, 30283046, 36650622, 31218733, 35133997, 36607335, 34578020, 37805633, 30669349, 35106979, 33268052, 39674093, 32427776, 32760738, 35883772, 36160966, 32144340, 38157874, 38037508, 37600831, 38536869, 32711341, 30695217, 39645876, 35886125, 39159840, 34691342, 33945955, 33950557, 31581901, 39648536, 33864717, 32065232, 36712046, 36723733, 34996638, 35033372, 36245464, 32166723, 34825361, 34224284, 34072490, 37046242, 33339952, 36790623, 39706497, 35507511, 34696113, 35093373, 38837816, 39875443, 36562457, 33281149, 31102228, 33946172, 34494818, 33367014, 36551912, 35715637, 37265708, 38532939, 39799904, 32130240, 33045631, 35551742, 35476419, 36692638, 35598002, 32497127, 37295254, 32498449, 33148591, 38486317, 39843646, 33205866, 36149963, 37890445, 36272397, 33594452, 35879058, 34533554, 38345144, 33085675, 30814676, 33196641, 38293505, 30033048, 39549022, 38491968, 33986115, 36124624, 31118375, 33581774, 32441016, 34998010, 36120303, 39704489, 32560765, 31340693, 38172931, 31506062, 34862475, 36135216, 32983756, 36400963, 30313907, 32835518, 33834452, 35690094, 36739121, 38503601, 36494984, 37485528, 33883119, 34218332, 33497796, 35753031, 34331796, 30670039, 33623867, 37636421, 38382169, 35450639, 33074467, 39604563, 37402305, 32165320, 35566478, 36893748, 31388560, 35185133, 35515769, 31165541, 38415274, 39212511, 34662959, 36019097, 35143737, 32799473, 31379662, 34146107, 32169994, 32123185, 34901461, 36892949, 39819417, 32773003, 31334350, 39797243, 37121598, 35141988, 30292228, 34364149, 32642534, 31890769, 39471439, 35458430, 31377041, 30572535, 30791449, 30834221, 35670237, 38705018, 37683695, 32194397, 35575456, 31240612, 36278120, 32760574, 36398180, 30002925, 39272262, 39797760, 31554357, 38187882, 30060166, 36710527, 34852935, 36340097, 32723705, 32880944, 39314973, 37132087, 31122178, 30984410, 39441035, 30240269, 38427224, 35385154, 38465328, 36544396, 33862863, 31068912, 32809464, 39491185, 38598429, 35226698, 35645218, 32190258, 31082626, 31448339, 33171103, 31032082, 31215248, 35951364, 34492937, 34010931, 30362659, 32794097, 34817308, 32187313, 34888345, 33761938, 30127825, 32204307, 34363368, 38927415, 35482478, 32890415, 35877156, 33271298, 34858567, 33648412, 36903163, 37485216, 37606661, 32598323, 33634657, 37537235, 34050524, 39313499, 35996267, 34381926, 39987641, 30393352, 31241596, 36985103, 38775437, 30219541, 35313534, 30369533, 36881400, 30418741, 38576850, 30283323, 39756502, 32563823, 38907453, 30349033, 36196554, 39779541, 37888515, 36092936, 31021732, 37511901, 35975788, 36511162, 35809180, 35681706, 34133437, 38353888, 36935014, 30023732, 33980144, 33421322, 32955236, 31942163, 33815010, 34916263, 30134271, 33160610, 38361957, 31669144, 37906662, 33121620, 39823085, 38752494, 37807704, 36732527, 34612965, 35818405, 36004811, 36796583, 39423085, 34503590, 33851708, 34917338, 38516488, 33781762, 33700304, 34118048, 33972711, 31663232, 35010680, 32621188, 37959759, 38443476, 39699391, 38430816, 30384699, 30779446, 34935331, 33359225, 38865226, 37430125, 33384718, 33398425, 31879195, 37124058, 34146918, 38433893, 32355617, 32258171, 30212938, 30817222, 30957600, 34617564, 38070295, 37924155, 30588048, 33187881, 38594245, 34850044, 36058123, 32147981, 36127398, 33701055, 34035988, 38723274, 30450149, 35245490, 31033860, 32595031, 36782338, 35365546, 37949042, 31598276, 36862984, 34029436, 31320690, 34618762, 37418815, 31188550, 39331037, 34283609, 37349962, 30858588, 30478516, 38707759, 32508751, 33474714, 31112549, 33641749, 38717050, 39076511, 34728611, 38115934, 39384349, 31824623, 33059872, 30615140, 33071920, 39426046, 38094688, 35987576, 35549689, 37227670, 35154807, 37424284, 32227937, 39326023, 31689276, 32318322, 33975860, 30700299, 39485928, 30581647, 32398411, 34369889, 30139512, 34433941, 37143937, 35521274, 35890155, 36375502, 38830563, 31676819, 36004625, 33097931, 32642582, 36507862, 34404392, 37004503, 34435441, 33965912, 30229939, 31651601, 31451880, 39045781, 38434929, 33049344, 32407335, 35432086, 33945892, 36679472, 33653406, 35174428, 30099685, 33181053, 33560726, 39487334, 31427919, 33730025, 38219369, 37322694, 39469496, 39248212, 32871177, 37151382, 38615985, 39947510, 37883727, 31565008, 31332932, 34118033, 31024755, 33860544, 37919107, 33485454, 37829112, 33292366, 33173611, 32515520, 38076089, 34819731, 39762348, 37473103, 39289133, 35323118, 36734659, 31137217, 30379671, 35318495, 30327928, 38762682, 37148760, 30190745, 35213792, 32018979, 33550707, 31482469, 35510195, 33618765, 31151535, 30789949, 38403968, 35077560, 39859510, 39945211, 33257880, 32733347, 38588662, 33922461, 31539329, 37059625, 30248984, 35449110, 36586022, 31841674, 36655103, 31523321, 31983721, 33622786, 30081487, 33288245, 33882599, 31906382, 35917611, 35807915, 38138775, 37571828, 32431675, 35129147, 34521781, 34958566, 31063361, 37837040, 34093314, 35811746, 34220394, 33228335, 30301258, 33792670, 37754984, 31080727, 34573037, 30383025, 31583889, 33930758, 35241545, 37904166, 35855170, 36408890, 34046472, 37101202, 33728631, 33970067, 35677539, 36896967, 36262875, 34707760, 33562905, 31284295, 38591089, 31897062, 30835220, 38127458, 37415051, 35511957, 39835580, 32269408, 38771253, 39906332, 33210927, 33373553, 35941893, 31329733, 32232273, 34174179, 36967725, 34912222, 37196072, 36958173, 31097789, 33783888, 31682967, 38428021, 30290196, 31836007, 34144618, 38845890, 37797416, 31635534, 34148175, 37568338, 34682387, 37832018, 37191416, 36671008, 35850130, 33988993, 34672925, 37114701, 36832236, 33814001, 30459451, 37497740, 36275404, 39003274, 32703727, 30616549, 32539345, 34464972, 32691465, 31607088, 35408962, 35429607, 39808319, 38856493, 37523749, 36666218, 30285446, 30268845, 36268361, 35024327, 34944454, 33888256, 34674015, 35170067, 37878640, 33778889, 33754460, 34912691, 34529918, 39536798, 30815663, 33577293, 38190120, 38555808, 37842287, 32164148, 36332674, 32259498, 38669449, 32950566, 33553827, 32882024, 39943969, 37713146, 34521136, 38814526, 38335619, 34567413, 31328712, 37947790, 30495708, 32365625, 34610324, 34916364, 36473302, 37515846, 33292600, 32608796, 31646823, 30308497, 31753439, 37125013, 33464808, 34125440, 35996953, 37635677, 37133366, 30307556, 39048627, 33690143, 38387444, 30533344, 30268393, 38479659, 38530180, 31460673, 36682835, 38870668, 30450813, 35699061, 30187632, 30521570, 31632061, 37521417, 31098627, 34358487, 35379890, 39180861, 37195725, 35198144, 34190988, 36299338, 30261457, 30837349, 31558222, 38813575, 39779840, 37656575, 36385143, 33055823, 33296875, 32671516, 31765134, 39825986, 35371954, 35925778, 31275316, 35990660, 33934932, 34256748, 34255933, 36294637, 30424774, 30649699, 36550328, 30668232, 39415876, 32130093, 35914030, 30829378, 33963040, 31558162, 31620205, 37751843, 32511402, 37216514, 32357993, 33379638, 34066903, 34987681, 37680436, 34903076, 31969376, 33901971, 36310332, 33102204, 33266962, 32969713, 33543043, 33816664, 39151720, 39063202, 36699108, 35831641, 38774354, 32894104, 32906693, 34234646, 38422103, 33753692, 39128144, 35802161, 35392063, 31226743, 37857647, 38653307, 32217841, 30752495, 38098590, 30613121, 30978260, 31320764, 32925603, 35517050, 39062672, 31941769, 33417744, 36369536, 38589481, 35617463, 32816546, 31504326, 39335216, 35492363, 36102924, 33576897, 31872137, 31202418, 31285360, 39903566, 35782409, 34681735, 32331092, 37858499, 38236345, 38664194, 34251119, 34613466, 37688152, 35347848, 33719157, 30236117, 32686120, 37845504, 37019542, 38243014, 30887836, 34921447, 30736185, 35519995, 31921244, 35257292, 38477213, 37257739, 34928761, 35583737, 36320742, 32217866, 34560685, 34865302, 36056798, 34634419, 30483894, 31268481, 35834097, 32316084, 30755387, 37690280, 32949164, 39221559, 33044568, 34007439, 34880494, 33957522, 36035122, 33433793, 38931490, 38534663, 38817112, 31289588, 30184955, 31439053, 32174279, 38777595, 31449056, 39842912, 39336319, 33998173, 32211840, 30689359, 35408023, 31780486, 30266087, 35623256, 37113445, 38313519, 38997455, 33607465, 33626949, 38553829, 32085993, 35862321, 35601694, 35363538, 32254843, 37548065, 33000715, 30237413, 38364725, 36494643, 35263672, 32054840, 33365187, 37924405, 31825620, 39034081, 34280555, 33685454, 36016977, 34797758, 39218329, 39688886, 36722125, 35031511, 31718370, 31679530, 39571119, 35836942, 36015481, 31036888, 36971537, 38426371, 38936606, 30188845, 34761819, 37329366, 37485177, 34800618, 39495041, 34877476, 33292933, 35209568, 32482524, 31974618, 38758694, 36049628, 38328675, 32107176, 31017849, 38339991, 36103413, 30459670, 38867832, 37118756, 37197646, 33973310, 33592733, 38765635, 31781815, 37766976, 37473314, 39021323, 33454651, 38988008, 39862435, 31495626, 32239536, 38744778, 35542300, 30031686, 39044136, 36305234, 31311850, 33805499, 30538065, 32432976, 36404931, 38711920, 31461238, 37903163, 39552350, 37133710, 32070316, 36427208, 35243774, 32612785, 32077531, 36173950, 30353595, 38658664, 35804465, 31398402, 38566461, 36973564, 33712680, 35259666, 39336799, 31314097, 38793783, 33583907, 37792195, 34758380, 39258314, 39788932, 33429315, 38538100, 38711322, 34573693, 34194516, 30085420, 39214883, 37537224, 37035646, 31811379, 36145269, 37707608, 38550886, 32768025, 30272018, 33520179, 32730794, 38642672, 36571787, 30543459, 32384574, 30869464, 30426415, 36419390, 38679834, 32614829, 30619752, 35732324, 38672009, 34030920, 39664604, 33105339, 35222883, 32125946, 33264142, 34762448, 30940608, 34491659, 31568756, 37080832, 31658023, 35992413, 37926393, 31021496, 32366059, 34289661, 30538130, 33461273, 30159547, 37843062, 30073242, 38358573, 36517119, 37833981, 39689629, 32859052, 34672916, 36442521, 35264144, 38446938, 30238426, 31349665, 31444035, 36317294, 38548910, 39604038, 33526475, 38172121, 31692677, 35771738, 38591458, 33576953, 39211138, 31089159, 30986867, 35296927, 34935823, 34413837, 33964277, 34667521, 39825857, 31838913, 38538692, 34463926, 34741843, 30001446, 31323444, 36126292, 39160004, 32075035, 30565809, 35335334, 33481299, 34747681, 37617082, 37517481, 37367943, 31634038, 39473177, 37442328, 35937734, 35757748, 37813077, 38498882, 33312959, 33298382, 30991795, 39292809, 37418444, 32542496, 33117054, 33248060, 33399947, 31307790, 38030591, 33996330, 33138207, 33096897, 30067410, 32527636, 32195458, 37325829, 33352784, 36852211, 32995342, 36817824, 31746954, 38447572, 32324096, 31857512, 31295587, 32331168, 38724802, 36167298, 34124448, 38318647, 31402695, 35664828, 38328517, 36464687, 31498951, 32441341, 34728659, 39798050, 30954212, 30839225, 33333924, 33708079, 37304234, 39110512, 31745298, 33349645, 32070868, 33328503, 35356603, 38001373, 34005093, 34036320, 35855135, 36927864, 30041209, 36975029, 37896444, 36663704, 37755482, 38158879, 36176022, 32740603, 33277375, 35208510, 30489904, 36232626, 35637126, 35186859, 39379592, 37556978, 38965330, 36194530, 38926623, 35289535, 35218458, 37242807, 37515104, 31821268, 36750948, 34158770, 31875286, 38467094, 31276436, 37795362, 36883969, 34910215, 30406155, 31624579, 39336266, 32893138, 31294596, 34531834, 36865503, 38030074, 33412508, 33702520, 31890833, 39599237, 38437161, 32024707, 33959042, 33295269, 32917835, 39901125, 34900611, 33378526, 39730314, 32956089, 33064929, 32696193, 34912081, 35149566, 37284681, 39982684, 36765763, 38403469, 36310506, 39146539, 37607625, 31600040, 37250194, 34918221, 34936904, 36683711, 31330227, 34121111, 38428701, 38402192, 38359716, 35846932, 38836194, 39887163, 37632845, 30956134, 39571833, 38847632, 37087791, 34782177, 30849381, 34207513, 33791747, 33448995, 35312825, 39934765, 35774420, 37713022, 30355683, 30433328, 31019491, 37795758, 39582364, 34586040, 30009753, 36243322, 39260177, 36320663, 33376638, 37001619, 34180005, 33954197, 38020942, 38713500, 38540127, 35257959, 33664552, 30828077, 36321418, 36573378, 35832946, 37500638, 30134202, 34188978, 32128181, 31383849, 39330400, 35311495, 31732458, 36404400, 38566259, 32873993, 35333793, 34527020, 30652081, 37032873, 39048038, 34482643, 39701707, 36565695, 32933680, 32298117, 35248570, 33406749, 38915996, 36192138, 35311785, 31708161, 34969901, 37457328, 36755828, 30970048, 35238497, 33055749, 38968093, 36031472, 39236245, 37481477, 35810430, 36509209, 36022723, 39804747, 34233559, 36653372, 31131596, 39333874, 37664224, 32592299, 33493781, 32799645, 36494890, 39120418, 36933920, 31345496, 33159659, 36180626, 35681636, 36818551, 30424266, 35388967, 35862237, 37098473, 31399354, 37200567, 38192829, 33477025, 38864110, 36195607, 35971285, 34512594, 38470307, 38957936, 30934559, 31599600, 38461618, 36698827, 36759260, 32771340, 36480534, 39453471, 37863848, 35233543, 30595287, 31217508, 38479907, 31212361, 39337015, 37768645, 33957911, 38302123, 34038219, 30340897, 36607247, 32535949, 32943380, 30906770, 31863678, 39605296, 35601001, 34609632, 31295254, 36175095, 37734821, 31151074, 33646421, 39116424, 32155382, 32735812, 39203082, 38436827, 30560523, 35573998, 36929828, 33193862, 35667683, 32212446, 30549305, 38184911, 39889382, 35269972, 36962764, 39774176, 37005236, 32833865, 36502457, 34201442, 34084081, 33411931, 33422011, 33868204, 37199588, 30711432, 36513679, 37160174, 30994545, 31728388, 35555173, 37199658, 36307019, 32822733, 33153385, 35289955, 30437431, 32763554, 30085244, 31587707, 38189476, 37460977, 34569654, 36109180, 37331460, 39123899, 32880062, 37815113, 33678745, 35977598, 30984495, 30732710, 30729609, 38660302, 35186287, 34673474, 39196495, 30302728, 32087485, 38802830, 38151500, 30379911, 38323244, 35700436, 39631305, 38204915, 35151960, 38454186, 34718079, 34294503, 33702542, 38362310, 31105222, 33030769, 34367685, 30609990, 36024494, 30031264, 39488195, 34883463, 35821425, 35967562, 38041019, 38079067, 38526110, 38742290, 36824058, 38915654, 34002185, 32206346, 30399386, 34392851, 39491343, 36031611, 30680671, 33118848, 31933880, 32246818, 36707858, 36888841, 38551629, 34988733, 36010950, 39252285, 31404511, 32839767, 37371944, 31681448, 30866644, 34173187, 36460359, 37488486, 32612180, 38237957, 30408933, 38193719, 36775418, 32792834, 32262619, 37253474, 34342062, 37274458, 35135657, 33630120, 32061991, 38541805, 31085955, 36948020, 33968105, 39979267, 39409090, 39191527, 31212455, 35699290, 33847960, 33199693, 37167199, 36339938, 31377399, 34945806, 33372819, 34354446, 37561178, 39100453, 30558768, 34245461, 30326851, 37254399, 30757476, 31578659, 33433798, 31078824, 35454080, 31541718, 36706560, 39678533, 32961208, 35264701, 39627616, 34159068, 36600328, 35552300, 36512347, 34422883, 34471048, 32070739, 32891190, 30798752, 34093552, 32066898, 32407196, 36716802, 37615526, 31764498, 39391018, 34988045, 32359651, 33410913, 30112339, 35515546, 31766399, 30148837, 36340233, 39972202, 30244643, 34145661, 37813117, 38444734, 39767683, 37947143, 30456158, 34860032, 30304895, 32038145, 39872668, 38084517, 38342364, 34860154, 34716178, 35384177, 34000037, 32644875, 38122459, 38596785, 34345257, 31976404, 30177702, 31748548, 35991591, 39800559, 37736411, 35895020, 34532159, 34547342, 31358442, 38370448, 35768388, 36374420, 32815361, 37356285, 30368484, 33106443, 39852939, 38095317, 38751725, 34670153, 32810941, 39956440, 33104517, 35268649, 33701183, 39560054, 39496225, 30042300, 38088832, 33759887, 39917784, 37661010, 33384061, 37107409, 31086828, 37878030, 35505901, 31362831, 39597974, 32713907, 39911875, 32127522, 31006988, 35330903, 39917365, 31570631, 34482432, 36259853, 37561165, 38643244, 36831809, 38133668, 32530604, 37037443, 37837849, 39135062, 35472373, 39669500, 35688748, 33514376, 39324967, 33370280, 36490151, 38104741, 33823633, 30184318, 35066547, 39696275, 31223020, 31495489, 38183480, 38629215, 34742470, 32727047, 34405651, 37354992, 39436980, 31131968, 35951244, 33646507, 31989838, 37073613, 31941440, 30997427, 30064922, 39856373, 38098353, 31574288, 31178942, 33843168, 30306121, 37889242, 33319062, 34618852, 36124473, 30254621, 38373091, 35031728, 38714211, 34895073, 36052602, 36254242, 38146463, 35002574, 34296445, 37307218, 34794027, 38329439, 36537599, 36286318, 38126294, 31845841, 31150069, 31288698, 34114772, 36676886, 31598298, 33466054, 31628207, 38067700, 31569688, 37488447, 39873415, 32243362, 37064120, 35060852, 39105133, 38543530, 32148424, 35959856, 38312736, 33510928, 37144362, 33008453, 38102168, 32891163, 36295227, 30545415, 37044985, 36832149, 31056667, 38056332, 39357775, 30219198, 38039482, 33593573, 32889816, 34601061, 31529663, 37865421, 33806430, 37805819, 31111301, 35545829, 38546687, 33072984, 35497143, 36299350, 31657862, 37387231, 33722314, 39074292, 37079354, 30705620, 31795812, 30374831, 37220986, 32690648, 37164191, 39269673, 33607155, 30912986, 33755025, 35336891, 37478616, 36841242, 36166656, 30709267, 31011255, 39945913, 31613173, 37001772, 30094797, 31805827, 32566576, 36831708, 33042587, 31056009, 30519502, 34647300, 35121926, 32752100, 30783439, 34997342, 31239230, 30067013, 36370324, 30954111, 34208938, 33526114, 31274661, 30130021, 37833895, 39207007, 34335614, 32883572, 35538669, 32765184, 34598926, 36390044, 33353325, 30949577, 39675531, 35801109, 36342317, 38021692, 32027404, 32982767, 37527687, 31720499, 38882916, 33057672, 39397813, 38435774, 35855020, 39234921, 38737155, 35170268, 39934716, 34786232, 39774729, 38982679, 37534737, 37223558, 32067238, 33000092, 32857677, 37978351, 32433705, 30348220, 34751053, 32796713, 33374877, 35696320, 33497213, 32317492, 38260102, 36734789, 34246589, 39637756, 32074655, 39523345, 34589582, 35014388, 38038006, 37364566, 34754689, 30954056, 33215323, 33489691, 36024631, 35373729, 37901693, 39262442, 31999535, 32900932, 31676061, 38284045, 32853769, 34922339, 31074346, 35998515, 33676100, 37148108, 31819017, 39112953, 37179180, 32932634, 30358255, 37178815, 36782769, 36762210, 31353342, 38346009, 34468245, 39505041, 36992290, 38712394, 30017572, 39630960, 30934747, 39777817, 34597902, 33007632, 32551143, 38930248, 37141591, 35887257, 36946264, 30423632, 35626133, 36904021, 36746829, 36401962, 31827232, 31368404, 39235862, 30048606, 38547612, 35998187, 34612798, 30739786, 33937992, 39061571, 31024873, 38291404, 32409095, 38010446, 30246430, 30546218, 36682150, 39473472, 31248750, 34741612, 33508622, 39666195, 30531158, 32762862, 39715020, 32900464, 33551512, 36698889, 38310497, 33867518, 37072393, 35688250, 36269140, 35218302, 35842533, 38861277, 32061183, 30434359, 34754790, 38709123, 36324829, 39776154, 37331665, 32139047, 34327761, 31169683, 30687382, 34676574, 38679785, 34490003, 30914775, 36941749, 37044807, 32629590, 39891937, 35047635, 39298714, 39475685, 32282095, 35098195, 30839105, 37884799, 32794024, 33841563, 39973012, 33221747, 35120850, 34909986, 30465776, 36929946, 37756371, 36045203, 39766313, 35400450, 31527082, 36692627, 34355823, 34105902, 36864067, 33226289, 38486952, 35013417, 39205609, 34175273, 33712385, 38809131, 36704141, 38340289, 39534522, 37771457, 31187694, 30431305, 34256006, 30340472, 35879749, 30132571, 32930821, 37046780, 33800975, 32594563, 30404506, 31165575, 32244151, 30867628, 38804805, 38397498, 35920130, 39206791, 31283616, 38787598, 31116209, 33947679, 36759257, 34924361, 35513226, 37968741, 32900913, 33698877, 39940932, 33679251, 32813329, 31437254, 37711117, 34233737, 33979759, 32933486, 35860915, 36416004, 31135031, 34030702, 31672363, 35999640, 31929041, 37044816, 33152523, 36952065, 34208339, 39562405, 36359750, 38228702, 32299898, 33630543, 37238716, 32208934, 30452860, 36836799, 32938530, 39804658, 36589030, 36657119, 32054886, 30756971, 39336169, 36584437, 34656214, 34034832, 33289455, 36591060, 31378709, 37777813, 30941552, 39941044, 37065914, 36542164, 33987172, 30788548, 39115554, 39457451, 33302977, 35191005, 36090192, 39941216, 35200225, 34566413, 37222847, 34625482, 36610216, 34331750, 37060968, 31471308, 33767986, 33160678, 36772522, 32068969, 32056255, 38547150, 33590203, 32384421, 34189958, 39754636, 34158060, 30252426, 30976345, 37086999, 30698281, 37477469, 37722446, 34317325, 30020774, 34533582, 39327777, 36841767, 35752713, 39031090, 33348209, 37882614, 34520611, 34530113, 32266418, 39696157, 31383231, 39073179, 38785896, 32180239, 36351539, 39799510, 37026680, 37996113, 35776274, 30307040, 33133767, 37551404, 35391360, 34292980, 36206062, 39063427, 33308927, 37263811, 31940386, 38510858, 38454921, 35719263, 32764204, 30817068, 36196638, 33485591, 34903259, 36298400, 31303342, 31164656, 31173862, 31812442, 30139213, 37468393, 33957854, 32964078, 39076422, 30566257, 35684916, 33145012, 35875171, 35376120, 32481904, 32391848, 39469697, 35537074, 34101107, 34070576, 32009796, 30293771, 34999626, 32131667, 32492976, 36369483, 31340164, 32117106, 38908441, 35777876, 33671283, 39906220, 39708539, 39021049, 37667741, 33686449, 34507657, 32213600, 39428387, 34104019, 38439518, 31035526, 37002265, 34086528, 37517144, 32476789, 33555392, 30793601, 33980784, 34692680, 39915617, 39033572, 32063503, 39822300, 32060896, 39477416, 31005517, 33399455, 31857951, 34702226, 30502427, 35174682, 32513771, 34089592, 30755390, 36975756, 33097719, 35418364, 37699040, 39110350, 33781576, 31123892, 38793668, 37979138, 30318708, 39297004, 34807064, 37214287, 31261940, 33445309, 32172367, 37609804, 32895123, 36547057, 32298177, 39410496, 36655127, 31559150, 35273058, 33961351, 36171521, 34008455, 34460244, 33307903, 39146140, 34009816, 38880620, 32591955, 38767530, 31250931, 30057454, 32473497, 36437553, 32810445, 33974423, 31663173, 36364510, 39831164, 38166910, 33633382, 30026250, 35835573, 37112285, 32736490, 30333293, 33264536, 32021026, 34654152, 31415726, 33969678, 39482634, 32505690, 33841521, 32998107, 30717105, 33203571, 38542004, 36710739, 33733648, 32927828, 37886305, 36316588, 36528912, 37251184, 33764403, 38165148, 37396130, 38503972, 33519072, 32828694, 35305279, 33992578, 32815562, 33224525, 35477221, 31534086, 34139463, 38859514, 38238509, 33567966, 38423938, 33996785, 34814453, 35137727, 31285451, 37065267, 34354125, 32295181, 31962043, 30413290, 38675451, 31273237, 37931933, 36622295, 35135074, 31344543, 30272477, 34802907, 32859619, 34327075, 30697769, 33600996, 39637004, 37369739, 33758365, 33138057, 35978055, 38641380, 35644280, 37003779, 32026882, 32831765, 36875488, 38661824, 34897658, 32435792, 30781203, 33481681, 34528818, 31621601, 32497559, 35358656, 35959444, 34385631, 31346369, 30803639, 33232291, 37168356, 32352192, 38579221, 37788909, 36126750, 31171157, 32882495, 35213955, 36802619, 38032046, 38707958, 31760091, 33157713, 35678714, 37297923, 32608249, 31454821, 36796503, 36508279, 34219714, 34992596, 30706450, 31166586, 33815212, 33680346, 38180015, 37228716, 35340546, 37017406, 35838221, 31007445, 39129346, 31452781, 31776497, 30012063, 33568844, 36683578, 39325148, 32874998, 31706988, 32839704, 30964824, 36317796, 31367662, 38392444, 32543544, 36043579, 32504439, 38106385, 32114520, 31559036, 37061810, 31277766, 39308557, 35146544, 37075003, 37268397, 39231278, 38947423, 38694683, 38202279, 32306963, 38676368, 31406916, 39832367, 33761771, 33565240, 32768012, 38715761, 33280285, 37329406, 30545387, 34087232, 39010561, 31975834, 34212764, 38063480, 32529060, 35906940, 35994260, 34141666, 36362872, 39866919, 39158351, 34412219, 31093400, 36940781, 33757419, 31214569, 33479900, 30281457, 37226575, 34557593, 33880611, 37409637, 39650054, 37312467, 32803428, 35184173, 34355818, 31387007, 36261086, 37114610, 33204925, 38645374, 31956406, 30050739, 34188547, 36964232, 31103966, 39746424, 34901199, 37389590, 30922910, 30099479, 31442095, 30461396, 30980027, 32937618, 35520548, 31208540, 39477463, 30162822, 32024773, 33695733, 32018912, 34488067, 37013285, 39892439, 32298691, 37748979, 35469165, 31250279, 38467051, 34304824, 39594105, 34612766, 30948755, 36312050, 39384190, 35631695, 34605615, 35191653, 34769344, 39241249, 37933216, 32373545, 39058636, 37253408, 31661987, 39558576, 31357326, 37898886, 34978160, 31568718, 34058582, 32142799, 34065702, 34885943, 35729583, 30171392, 35270070, 39389907, 32226600, 32000338, 34851261, 34933179, 33320127, 33520476, 38906142, 32816406, 31421277, 39314962, 31852193, 35837280, 38022845, 38017791, 34897382, 35186927, 37675129, 32328149, 37190517, 32342017, 37642967, 32330614, 32569912, 37571435, 30848440, 31227027, 38126328, 36978551, 37095950, 38307084, 34802568, 32799870, 37824876, 37346170, 34014186, 37310374, 39488735, 37355834, 35720982, 37943127, 37101991, 36744273, 36202741, 39147068, 36408687, 33463766, 30479204, 31737615, 36102723, 31174458, 38071274, 30920975, 34520150, 30402312, 31405563, 30479422, 37584373, 34893821, 35677400, 38357110, 31059404, 35788643, 33002237, 30785797, 30887685, 35582408, 36494622, 30899896, 36725660, 36517330, 30500635, 38282611, 35476403, 30852106, 33404420, 36213445, 31806442, 31144769, 39397174, 37522099, 31417223, 34428969, 36215125, 37763148, 30950799, 35873855, 33299347, 34110138, 30742918, 36224507, 39353880, 35089480, 31060201, 33817425, 39414867, 37376349, 38069689, 37423812, 32379074, 38769515, 36182571, 39059780, 39197692, 36111497, 38366464, 35103292, 37230643, 35042023, 39501193, 34102846, 32953825, 37603649, 34323089, 36190262, 33785467, 35384503, 32983455, 37772708, 38205131, 30571518, 31714187, 31025079, 38654011, 36779265, 31580610, 31357209, 39486247, 39973551, 31003900, 37089220, 39969229, 30625966, 31203657, 39377716, 31004279, 33981102, 33574213, 38365178, 30327948, 39495931, 30131317, 30721586, 36970572, 36404824, 30904415, 34766861, 34242423, 37746581, 35227066, 33479723, 35336680, 35897443, 32587646, 36470924, 35482798, 32261780, 35587402, 32906374, 34153778, 30395754, 38599401, 39420649, 34047022, 36596177, 37395051, 35692233, 32989280, 31262175, 35284657, 32167782, 36088833, 30289886, 33480863, 37065773, 38836070, 35058579, 30563521, 33406053, 34188576, 37031730, 38031196, 34780680, 39380958, 31393514, 37853688, 31653401, 38920775, 30091121, 30210385, 33055509, 36871051, 34735447, 36985158, 37011665, 39739331, 30528603, 31823608, 37101905, 33098612, 35858521, 38519468, 35808236, 38948720, 30688356, 32075641, 37661029, 30030163, 38846423, 37330100, 38669895, 33027324, 35777917, 31078659, 32792285, 36835038, 34313928, 32859380, 37273633, 32141986, 32845466, 33132537, 37527569, 38736555, 31274907, 30916589, 30162963, 34626474, 34552544, 32048159, 31376223, 35679947, 30486646, 35839772, 35360318, 32054351, 37295515, 32553925, 34647726, 35543685, 35295707, 32587889, 34849495, 32857134, 38267635, 35029856, 34735941, 36423747, 33284651, 32174220, 33566698, 31651231, 35699464, 39779556, 34632109, 33610695, 31359104, 36727824, 39033634, 31227129, 37985844, 37934571, 36730087, 38961998, 32272793, 36285369, 39065777, 36775215, 39206863, 34315786, 33229447, 33468751, 36372300, 38013392, 33355529, 31556366, 38623985, 33050577, 36910101, 33864839, 30215972, 32860703, 39221454, 35661241, 32426428, 31251469, 31235315, 39868106, 34059206, 36023087, 37928305, 33565962, 32988939, 38045431, 35780155, 39899350, 36931310, 39797334, 32391372, 37566161, 34537505, 38498382, 32854589, 36237605, 38680350, 35026666, 37013100, 30060401, 33988784, 38153169, 31488893, 33007017, 32891514, 38911542, 33589312, 34053665, 35668605, 30324300, 38048459, 38273797, 38996817, 35082801, 37731040, 32417958, 36593436, 30244029, 31037698, 35875748, 36912517, 32083537, 33385967, 30115507, 39242436, 34208107, 35423326, 34292315, 33167736, 38086412, 31085325, 39539737, 31309547, 37278476, 39079676, 33081968, 30770570, 30987286, 34967533, 30841086, 38218050, 37320089, 30922892, 37553713, 32191933, 39945261, 37786499, 37159201, 37909220, 33846924, 39871591, 35026051, 38435398, 30187317, 36550775, 37442205, 37450291, 34239032, 35303638, 35560888, 37989693, 32807761, 32323673, 36660955, 34648454, 35037193, 34183949, 38556887, 36818878, 31769531, 39982040, 34334248, 34683899, 30099845, 34451212, 36321194, 31441470, 38320976, 31724873, 32886344, 36323093, 33703235, 33524445, 30347748, 34915126, 38036146, 38436012, 32754657, 30770521, 32239877, 38955681, 34349625, 33832598, 31778969, 30521978, 32363894, 34960130, 33803709, 30156928, 33737462, 31696098, 30359481, 39175853, 33040529, 36378944, 30159869, 33039123, 39076523, 36686040, 36089145, 37972851, 38091012, 30741101, 32888099, 35036268, 37729145, 35208530, 34241430, 37679326, 39114159, 37617531, 38299971, 33953095, 32042288, 37492303, 37483246, 38156859, 35221096, 37308975, 36690570, 30229039, 38954915, 39278882, 32856270, 34725060, 38711950, 34369461, 33067510, 32043051, 35723154, 38986741, 30514185, 38653232, 37293243, 39635126, 36959334, 39981953, 33944184, 39450532, 30805815, 32094836, 33157841, 33279548, 31388562, 35262769, 37330310, 38541129, 32771239, 37132669, 30477957, 37679272, 37888304, 39567041, 31438906, 36054737, 33529811, 37905711, 37751073, 31645452, 37673265, 35456960, 33667563, 36461975, 39013763, 36513923, 39229955, 39777013, 33482646, 38534147, 30677517, 38717440, 37171349, 37464217, 30507456, 30121529, 31270048, 38757313, 33507375, 32976197, 34317305, 34692819, 32330413, 33958013, 33734805, 35155166, 32101481, 34303094, 38915951, 36866282, 33964764, 37927523, 33323633, 38016420, 30977260, 35705429, 32685499, 36574609, 31558328, 33327592, 35680096, 36292483, 34265855, 30675827, 32876792, 38488572, 34924751, 30397772, 32744303, 35122136, 32127509, 30183959, 37046400, 30784196, 30006565, 37084487, 39053661, 37904311, 36350237, 38243228, 32056358, 38818432, 35673045, 39152047, 37202169, 38828608, 33284819, 33174415, 33749076, 36181800, 35315630, 39222168, 38290115, 30076497, 32772613, 37957444, 32928042, 37537299, 35301360, 36612179, 35267268, 34052804, 31962512, 32940056, 37813272, 36692972, 39497383, 31074293, 30460078, 35914909, 32315584, 31533771, 36033308, 37767964, 30473503, 32078582, 36675511, 32200719, 38078730, 32932965, 34234805, 38166577, 39252173, 31416584, 32028235, 35479907, 38376596, 31185673, 36456830, 33382588, 34722571, 37505032, 32143163, 38052752, 37729646, 39954437, 36838254, 31183068, 31491747, 34053363, 37646440, 33048696, 39544393, 34618948, 30036424, 36729000, 36685020, 39315598, 38010831, 34230481, 39422238, 38298006, 33978216, 36244615, 30104664, 36446728, 38284226, 38730826, 34994396, 36595312, 32619852, 38962283, 36469779, 32103324, 30770918, 35612930, 30579374, 39647408, 31157409, 36415269, 31436892, 37211192, 32854026, 37000271, 30698945, 35185673, 34248711, 32838899, 34176612, 33221425, 39959902, 36906761, 30162885, 30595943, 32068918, 37184074, 32048306, 36214523, 38870954, 35701049, 31891369, 31498470, 32977656, 37013349, 34692296, 36595146, 33211552, 35324289, 37925650, 30946306, 34011689, 32115746, 39841374, 37629757, 35091678, 34833826, 30558709, 35705324, 36081927, 35307002, 33412421, 34470361, 30413209, 33816926, 34919779, 32844393, 39221511, 30258658, 31271824, 38848710, 31032715, 35237245, 32114152, 37841591, 34313516, 31239711, 39097660, 33467898, 30949414, 37779784, 38913981, 38743008, 38878561, 36436111, 33963059, 34542209, 31172355, 30050952, 30848264, 30208984, 36822331, 34155256, 30047981, 37470919, 36554117, 34325180, 38507044, 32758947, 34494699, 32454346, 30130254, 33339099, 33820493, 32702693, 35166247, 33216558, 37463866, 35286144, 30177465, 33004654, 32910659, 38523361, 36311593, 36297015, 39219795, 38647301, 34426602, 32214127, 30643998, 32996802, 38628028, 39471188, 38903435, 38310883, 38750528, 34596698, 31821073, 37582631, 31603298, 39948502, 39847406, 39869974, 36407013, 35152770, 36407909, 30823473, 30582517, 37226712, 32674254, 35711628, 39603225, 36812880, 37382587, 37231956, 36934231, 32476213, 33923054, 35465454, 39797827, 37566117, 36726125, 34660759, 34251102, 36045585, 32747229, 36696031, 39065443, 31575138, 37165412, 36386142, 33795968, 33554019, 31655318, 34403759, 33777535, 33978672, 38492739, 30440958, 30431561, 36558687, 36363932, 36938734, 32918744, 31570373, 36711167, 37779595, 39999230, 33171950, 30694228, 36025932, 37644633, 39672123, 34435255, 34250454, 33806045, 31014549, 38597061, 34327726, 36297066, 30588635, 37316840, 36738959, 37727987, 36844156, 31660563, 32060994, 31143461, 33136793, 35973102, 31427063, 31544530, 38465424, 33302944, 38237761, 32930721, 31276276, 31722375, 30110717, 30081291, 30166369, 39023071, 38886311, 30120670, 34665048, 30676077, 31404257, 36222295, 39835133, 39475422, 35228182, 39504563, 31147216, 37245085, 33186331, 38978026, 34586269, 32827988, 30489253, 35242738, 38227458, 36050511, 31986636, 34658860, 35923601, 34328580, 34592853, 32665906, 39561950, 34216849, 38833700, 31252616, 37338822, 36780026, 37793537, 32778035, 39847944, 33672086, 30626122, 39066357, 31593257, 34890081, 30500045, 34133506, 35280057, 34588052, 30679031, 35550825, 31250911, 39140028, 39040074, 39343378, 33477202, 34297117, 36148606, 34702229, 30249850, 31895739, 39599363, 30801457, 34283246, 35138758, 35013706, 31351887, 36632380, 33819188, 39253139, 36124908, 30912185, 32631086, 38156966, 34856610, 32699652, 30166619, 37584134, 38387543, 34049959, 35008016, 31824666, 30492975, 36801470, 37496708, 32216490, 36409754, 35296942, 30981206, 36050257, 32182777, 35651760, 34865314, 38091432, 32596241, 34818446, 38376939, 36670831, 35143097, 32007747, 32621287, 39928538, 37578016, 31438527, 39592085, 38504135, 38504431, 35263906, 37029444, 30205481, 30089953, 39471297, 38774544, 32087573, 32178014, 32556495, 30918199, 39374154, 38911695, 37565338, 39488951, 35155557, 31455671, 33295477, 31588174, 35783644, 38020037, 39952814, 32263948, 39993425, 37167264, 37307801, 35488437, 31930772, 39632868, 34278562, 36148917, 32963655, 30690174, 35243308, 32765573, 38974065, 38002029, 31019287, 39202775, 32660183, 35278428, 38008157, 34451275, 36628619, 38793520, 30292227, 39562628, 36156358, 35058916, 31522138, 38808212, 36204815, 30033304, 37024002, 34180968, 31700110, 35967102, 34361350, 32985137, 32680919, 30933677, 31085333, 32573714, 31849690, 30352264, 34251996, 32601327, 31642608, 36509891, 34074944, 37603454, 36523270, 30654663, 37301174, 33861609, 30976237, 39892032, 34372001, 34295421, 35985792, 33642967, 33885124, 37440092, 32777862, 34783798, 35910331, 31505527, 35654221, 33824385, 30450678, 30632193, 39887235, 32796113, 37107990, 38114645, 33044161, 39238232, 35989990, 32905278, 38548240, 34784026, 39993683, 38106109, 39776112, 36659576, 37329427, 32239624, 35717469, 39019568, 37371091, 36606216, 38873041, 31324591, 39462064, 34111015, 35398501, 38525709, 34206236, 36689896, 34135252, 39236251, 31645078, 36932398, 34035080, 31732032, 39335493, 33047021, 38668465, 34839782, 35128235, 37180117, 39895564, 34333223, 33912654, 39832182, 32199228, 37118588, 31806942, 36234920, 32555462, 39018405, 34248446, 33560514, 39638601, 37230660, 32301389, 34350939, 31321104, 34696661, 33613520, 30614877, 38392389, 37215446, 33955997, 36098132, 33129143, 32117500, 32841676, 32904379, 31813542, 33367985, 36501479, 31234422, 31811849, 35474597, 31831780, 34857663, 31265159, 36369973, 37081454, 30524356, 32204003, 36662757, 39243594, 30630150, 39526126, 35217054, 37375574, 32561355, 31084791, 39005586, 33030114, 34243329, 39141359, 35503068, 33865129, 33241111, 32547067, 33333613, 38212491, 37138421, 39401910, 36540685, 32203313, 30735947, 39589532, 33439410, 31818772, 38863565, 31617051, 39061477, 36066976, 34306381, 34232745, 30279527, 34265271, 34802602, 33911490, 39327409, 36431281, 35616026, 30567696, 34987065, 38628629, 38677692, 35212085, 35349613, 33305479, 31682881, 34398474, 37264012, 30361048, 31679114, 36513178, 33804579, 35878284, 33445848, 38357003, 35752500, 32950965, 30299604, 33363706, 36781724, 35264829, 36998054, 38025655, 32793236, 34961518, 36709485, 36434432, 34525851, 31698532, 34410677, 36374005, 37792009, 34518017, 34846719, 30609093, 39822017, 31391132, 34112501, 38405585, 35883202, 32789058, 30080382, 39391466, 30588516, 32761517, 31367417, 39304462, 36230816, 39743362, 31021348, 34617352, 32207736, 36981370, 37854016, 35509240, 37081269, 33732303, 36470424, 32625433, 36270805, 35277205, 36504681, 33937498, 36461012, 35803152, 39625681, 32197187, 38968790, 32074914, 37852730, 30357604, 34931799, 36560327, 31760614, 32856665, 32276945, 35967358, 39988158, 32775687, 37260226, 35300342, 36423313, 30122323, 31674165, 38510962, 34033164, 37634376, 33693177, 38186206, 37508738, 35546395, 33444947, 36827393, 33542614, 39409637, 38934741, 31675642, 36511722, 32159137, 36321221, 35168553, 32794599, 36332432, 31718598, 32300479, 32101551, 34132346, 32293675, 35087987, 31550357, 39376409, 31417634, 37163927, 34499716, 33317975, 39969809, 35724014, 32891780, 30907727, 38733045, 33492148, 32992822, 35898147, 32326179, 31290077, 39654351, 36716680, 32726638, 35456008, 37030090, 35416762, 34798564, 33091914, 39238414, 37510558, 38364246, 38902761, 32412704, 33759728, 39598672, 31651476, 31040689, 37023211, 39480629, 35104742, 39768852, 35709311, 39985110, 39303452, 30103945, 33687571, 38252897, 32261776, 33671496, 30549454, 39390360, 37531313, 32170791, 31847679, 31551579, 35763079, 37461900, 35080853, 39898261, 30843874, 38656987, 32372883, 33655764, 31159364, 33803449, 33260948, 30273925, 30251822, 33708841, 34215625, 38074877, 35432358, 30538137, 38085177, 31758945, 33717513, 37161165, 32411992, 30579992, 34511846, 38976156, 31831146, 39300549, 37571776, 31392141, 36540128, 31931892, 30057447, 35805814, 36061145, 33317756, 36974709, 32311248, 34259210, 37174402, 34206577, 30223320, 33933651, 33800719, 31350679, 38884953, 30539420, 39649332, 36873392, 31680233, 30922523, 34619495, 33779251, 33774144, 38875604, 36298131, 35235360, 38581789, 35951565, 30421751, 34845578, 39740657, 34949472, 38835212, 37227902, 34093113, 38891372, 34161199, 35818725, 38264827, 36321333, 32070899, 37146300, 36604210, 39714771, 30304963, 31188923, 37919023, 31686811, 38099719, 36432719, 33041853, 30659837, 38637990, 38598807, 36959615, 36125216, 31214514, 37056417, 38522245, 39959373, 35581493, 30509159, 31252425, 30479079, 30243230, 36989096, 37546894, 37741338, 36737172, 35027498, 35352436, 31047290, 38925543, 32642587, 36759904, 36447499, 37217711, 35817307, 37512067, 32815602, 34522496, 33915542, 39888655, 33915950, 37970310, 38236099, 34120121, 33555960, 32146797, 39203865, 34689170, 32637706, 32528492, 30307941, 36398667, 39397159, 31725229, 31407544, 31473734, 37529167, 31454224, 30800478, 32509935, 30412771, 31361987, 37589099, 35378211, 36833135, 36762146, 33166177, 31367199, 33563199, 39793481, 36033768, 39027819, 31296180, 31513908, 39558423, 30234310, 30325183, 39854304, 34982451, 33963090, 34108202, 31993856, 36697287, 32207451, 30864103, 34225793, 36128572, 30546406, 39299154, 30025720, 35671181, 38688395, 35958529, 34302858, 33429186, 34997867, 30534026, 34400144, 39178329, 34738470, 31507249, 32337068, 39509483, 34651494, 31246657, 39412779, 38567698, 30792974, 32527749, 32060452, 39681051, 38218041, 37453824, 35794169, 34099989, 34615279, 38912610, 36032707, 35634430, 32976412, 36460480, 36564082, 35110405, 32823249, 30390313, 34915990, 39663616, 36543828, 34179945, 32838658, 33703619, 30299333, 30614382, 32703250, 38400764, 32223261, 36085745, 36627436, 34998005, 31690914, 34713506, 32419696, 39042416, 34697238, 36223000, 32583467, 30920322, 37722291, 37650196, 37403074, 32347939, 39663204, 39592349, 33000507, 30695435, 38313166, 35244592, 35432896, 32869739, 30760029, 39069123, 31643227, 33832185, 39986786, 39361421, 38058757, 34785841, 37142816, 36655073, 31070525, 30663943, 36829404, 34680745, 31479246, 36300828, 35532991, 35882607, 36545848, 33088826, 39587733, 33058793, 33718183, 38343926, 37165207, 36427243, 30988311, 31355050, 39408187, 30351717, 32973791, 37643900, 39273729, 36577023, 35871970, 35054911, 39193844, 33665835, 38721723, 32798611, 39188573, 39429956, 32387793, 35084226, 35545270, 30190837, 38651502, 35739696, 31524337, 39550446, 36139529, 35269658, 30330935, 37705362, 38565503, 37967605, 35326020, 38818036, 31945048, 33978056, 34188473, 37658939, 39236072, 39385988, 30642894, 32765428, 39259067, 38611265, 31102145, 32716397, 32296471, 38941250, 39479086, 38060401, 35613530, 31421014, 30865927, 34870714, 35038340, 31074092, 36260187, 32448257, 35446030, 30621154, 38496220, 36901950, 32354505, 31495164, 39647170, 38812975, 34804835, 34687736, 38912850, 30506354, 33935970, 31581770, 37248588, 33267926, 32505177, 34659084, 31146994, 35415553, 36819312, 32672524, 36895638, 37766413, 35362593, 30659757, 36276908, 30364033, 31894186, 34338019, 30621733, 30350084, 35290225, 34619221, 36634323, 39331221, 38519967, 30045159, 37005508, 35222042, 32301485, 39377648, 35649295, 37181702, 35947875, 33032770, 32776186, 32883203, 31693580, 31522155, 35825706, 39505792, 36431681, 34179651, 36844889, 36066057, 37531469, 38713313, 31506703, 38625480, 35072114, 34203168, 32384974, 37827471, 33730528, 39855767, 36977131, 36407392, 33936864, 35406017, 33236024, 32731744, 38529336, 30909758, 34731397, 37120166, 34398297, 30959012, 32816620, 34542144, 34657834, 31100420, 30163152, 32228113, 34514118, 32336965, 33639495, 34860298, 35303105, 32771747, 34094895, 36542797, 36572050, 32623618, 35871095, 31832227, 34767193, 32911376, 31115966, 30921006, 35467757, 37167441, 39564922, 33799559, 33039506, 33766643, 31350751, 32047243, 36564590, 35376790, 38384277, 32854451, 36897693, 32619482, 30900521, 33771036, 35768527, 39942093, 30198321, 38447506, 30762929, 34718699, 33829503, 32090389, 39286797, 38128489, 37583068, 35366729, 38826157, 33966879, 34214907, 37123506, 33756127, 30038235, 39088395, 39146046, 35511505, 30967100, 31948656, 38294376, 30147796, 39816989, 34985665, 38503812, 33715014, 39405700, 38608256, 32126135, 37692530, 39306326, 30330897, 38754232, 34054228, 32114752, 35781413, 33359917, 36573334, 31125667, 30041148, 30814401, 38190525, 39741900, 39561865, 39504205, 38471678, 32131813, 37523661, 39201488, 34432639, 31590722, 35033233, 31282806, 35994154, 36309769, 36489256, 36402602, 33919105, 39786259, 31868189, 38088395, 34831657, 32131713, 38484145, 37489841, 35515725, 39256900, 35499050, 36670497, 31356762, 35540400, 33547852, 35701212, 32295235, 34081592, 33792450, 38492884, 32946993, 37587748, 30243949, 39942872, 35034826, 33386614, 34232270, 36736089, 39589974, 34874713, 33296670, 31505387, 37537578, 34809092, 36756755, 35553856, 38528958, 38721211, 39633643, 35644818, 37133453, 33835780, 32689844, 36394814, 39409803, 32313166, 34973807, 34857901, 37734261, 39000847, 39406735, 36721858, 31462151, 34656160, 33231105, 38023367, 36156954, 39134325, 34649319, 30167465, 35300828, 35853996, 37432009, 38027498, 38585080, 33436208, 30398853, 38358199, 30947718, 36123826, 39691476, 35504084, 36463107, 34032786, 38411771, 31044110, 38295932, 39649183, 31832021, 34980648, 33404486, 31101078, 35486825, 39359062, 38768955, 35813232, 36609927, 39320420, 32979423, 37471803, 36610348, 32564390, 34437982, 35867567, 38941792, 36500364, 33112399, 34486889, 30752134, 36537793, 36344135, 39835926, 37664570, 32227174, 36035322, 35937202, 36259544, 34761187, 34823020, 32692822, 30483906, 30034749, 36059229, 39951701, 30269574, 33540484, 37883738, 35121579, 38981370, 33859323, 33976461, 32730549, 39173721, 32310124, 31604391, 32032643, 32832399, 36358936, 37458276, 31139701, 33871797, 37348855, 33439150, 30732485, 33215719, 36356516, 37931991, 38357479, 33868624, 38229869, 39540452, 32934873, 33315118, 36329897, 36569840, 32732781, 39527797, 33795010, 37014143, 31759239, 34686387, 30457726, 35601646, 32686693, 37746291, 36615301, 35561369, 39751365, 34496443, 38735758, 36672632, 32386822, 30413300, 33271288, 36508126, 32170779, 33578304, 31803041, 32774203, 32597267, 35960676, 33349861, 30308627, 30471954, 37999546, 38533572, 34658152, 39678722, 39134960, 39369124, 36623642, 39902669, 31542873, 36032730, 39560723, 33137535, 39351170, 39757956, 33266695, 37695014, 38930399, 37931921, 31495310, 38291073, 33906941, 32819021, 38275869, 32737479, 31138122, 36342145, 35953833, 33060916, 34955883, 33620632, 30092827, 37698842, 32236186, 35215458, 37437370, 31744412, 35479676, 38120018, 30665914, 35900931, 31590699, 30993958, 32929071, 36044931, 30683390, 37304004, 31564399, 36794489, 36307451, 36096290, 38656237, 30141905, 37093652, 35488513, 31736070, 33596710, 31481030, 35137709, 36121274, 31793928, 38467750, 39367894, 31030017, 32761726, 31005487, 37402798, 36602755, 37205034, 35881014, 38185608, 37439651, 35473613, 39639613, 33279811, 37280361, 36402023, 30080141, 38052090, 38248341, 33640945, 37605925, 33174080, 34180844, 30914653, 33835036, 36070963, 36577114, 35358441, 34912178, 37985094, 36014877, 32037009, 36778439, 31586781, 32992961, 33655391, 34897008, 35813715, 30326687, 33236037, 39492971, 39469215, 32349057, 30057803, 31172538, 30557027, 34980706, 37337883, 36707753, 33440547, 31427806, 30064826, 35608061, 36202071, 33666108, 30733689, 39039492, 34140723, 30854218, 30145592, 31030314, 34848433, 34698716, 33590519, 37307878, 32023007, 37589355, 31304052, 33739259, 30314085, 33612340, 35442781, 36640493, 34442018, 36969396, 33381407, 30514767, 35378336, 31559071, 37784740, 32462521, 35732441, 31831287, 30107025, 34921368, 34514498, 30657809, 31013772, 39363395, 36507522, 37574767, 35907702, 31761596, 33034232, 37519861, 38702855, 35168369, 33674041, 33398746, 39924731, 30312152, 33664483, 32843623, 34863527, 35936126, 34393738, 31235235, 37689894, 36266441, 30762877, 39743707, 33920310, 35026312, 31835980, 32844471, 37406992, 34899173, 30651325, 37193919, 33460699, 38655198, 30412687, 35532277, 39317491, 39507963, 36647268, 30981861, 39626765, 39657226, 31478510, 34689947, 35168958, 39827270, 33575095, 31204104, 33803594, 34352268, 31050340, 38148079, 33977491, 36364327, 32681826, 30337941, 39930837, 37930196, 36182002, 33736091, 30101365, 37205305, 33309950, 35561820, 34250357, 36523688, 37635150, 32994756, 32483147, 36589026, 37510196, 35885777, 37490633, 34166660, 39563000, 30580317, 31748022, 30670800, 39223118, 35682633, 32952079, 34949019, 34363894, 36024624, 39348806, 38747719, 34749306, 34039469, 34616103, 38025132, 38846804, 38769700, 32328479, 35582204, 36954623, 30805473, 35839900, 35285905, 37317679, 37806214, 37334388, 32685873, 38832366, 39783992, 32430861, 34391042, 36257538, 36841797, 38165035, 38798172, 31627753, 35359521, 39719143, 36550551, 35235330, 35862000, 39818322, 33978454, 39472452, 34045161, 38611971, 38699889, 34995687, 31917091, 30605549, 39532341, 30053465, 32554437, 32120928, 38378702, 30962702, 33153286, 32733512, 38570803, 37565086, 35087786, 32612469, 36328790, 30792655, 32290386, 33170750, 36158009, 32026944, 38571233, 30960675, 33001091, 30932164, 30729828, 39782348, 39351152, 33339469, 37727840, 33536833, 31754367, 39422872, 32608164, 30429163, 36371437, 32302752, 31930058, 33641076, 34189676, 30029827, 31776068, 30744533, 39334307, 31504988, 31685501, 30511439, 30545486, 38210747, 30579346, 37516165, 31377904, 35951316, 32154233, 30746476, 31480953, 35768926, 30709753, 35988303, 39166701, 33334417, 39211222, 36764861, 36322246, 37915470, 33924440, 34758422, 34858282, 31468857, 38319736, 31775046, 37931136, 34782178, 36477073, 36822080, 34574934, 32878945, 39774465, 39061574, 37981528, 30594113, 34762735, 32832227, 35406781, 36421061, 32567217, 38193771, 32626112, 36445788, 34637766, 36441527, 33062405, 38394298, 31674620, 38501544, 33140730, 39794132, 31300333, 39730631, 34467176, 30985595, 33723636, 34004644, 31998028, 34920278, 30273308, 32780234, 39225703, 37630270, 31368984, 39152036, 34633809, 30924957, 38256726, 31413377, 37598902, 35001167, 34932789, 39405347, 37965378, 36141410, 34564160, 36556611, 36865388, 32719337, 35557003, 35626038, 30484169, 30276434, 30628950, 33357816, 39714789, 34008495, 38452447, 35949137, 35730337, 31577033, 32968262, 32367149, 35396549, 38398105, 33743622, 31809826, 37943405, 38661600, 32374547, 38713610, 32404979, 30325504, 33160177, 33964370, 34816380, 30400080, 35662074, 32296053, 30284206, 38202337, 36246228, 37153199, 31103412, 31101845, 32191827, 32430524, 38330612, 35803434, 32130936, 39143107, 38047180, 34148423, 30086627, 32306161, 38430513, 39361631, 39712677, 37234925, 31459516, 39909440, 37530970, 30594975, 38698140, 36279318, 34917970, 39469595, 37239112, 39527567, 37688034, 39488690, 34068215, 37003960, 38293164, 38345252, 37483740, 30074108, 38662354, 38060277, 31713528, 37220750, 30837727, 33602516, 37059308, 36593377, 30378500, 35304557, 37596711, 38239161, 31762736, 36827644, 37139535, 38037272, 30852793, 37519903, 34878753, 32107727, 31592547, 39506672, 32961198, 34632256, 37973496, 32779125, 35193899, 32466052, 38129335, 35135486, 39334861, 35801112, 38047987, 33130940, 36859905, 34597594, 31005604, 39445516, 35951940, 35420019, 36033873, 31890527, 34739020, 32818257, 30426846, 33378070, 37987126, 31334506, 32194647, 33012271, 33962853, 33125901, 34090287, 39656193, 37117569, 38275000, 38646642, 37098549, 34288205, 30783538, 35652393, 38629847, 35241835, 33855375, 39048546, 36510273, 37362462, 33891173, 33791547, 37673821, 36618406, 35735203, 35110090, 35363249, 34306236, 33469227, 30262951, 36623977, 36374526, 31382866, 33341439, 39083594, 31945149, 37668932, 33183723, 36429880, 33047479, 32261323, 38199647, 34308745, 36533926, 37164465, 30559320, 34587542, 39864032, 32203381, 35471845, 33969598, 34620605, 32359580, 39968457, 31031689, 39064788, 38105039, 35067591, 30389842, 36393940, 32941831, 38230755, 35845211, 30585683, 35216839, 37131736, 38011728, 36637683, 30726244, 34886673, 36889522, 30896335, 30323121, 39134242, 35664845, 32595996, 36398287, 31938366, 35216787, 37292182, 31348343, 36246142, 34331895, 39072405, 33841543, 37670960, 32527000, 33609800, 32015287, 31277417, 31990076, 35417518, 32855723, 38248554, 38184864, 30738593, 34475098, 34861717, 33354670, 35513209, 38780676, 39498903, 35832565, 36212840, 34456147, 31336869, 37386043, 35558601, 39699871, 34411018, 36086816, 32930488, 36848739, 37251947, 38875171, 35168141, 33492723, 35114990, 31579053, 39356375, 39276303, 35389239, 38845095, 37110541, 38590320, 34314883, 31256032, 31260845, 38368971, 34269964, 32793644, 39626379, 37366641, 35032965, 30209420, 35138141, 35726264, 31406516, 35763579, 32349593, 33579501, 38451782, 36394802, 30038013, 32925236, 36077555, 35086537, 37963361, 34275579, 35025499, 36506447, 37221519, 33264346, 30869806, 37810452, 32414218, 35886495, 36588942, 32764978, 30563924, 35143191, 39218209, 30012243, 37640039, 39516992, 32491633, 36106082, 39942936, 34217944, 31095463, 39589589, 30272416, 38427098, 31606377, 35886907, 35706441, 37223654, 37678747, 30552571, 31815784, 36804013, 33316192, 30303632, 38980177, 37306950, 38434653, 33377417, 32223390, 32236178, 39738508, 39296093, 34670508, 32181440, 30102401, 38913055, 33073214, 35206037, 38881410, 33189780, 37328133, 32284012, 38895226, 37914939, 36550773, 37417631, 34196077, 36377617, 36356955, 36309943, 36288584, 38127445, 39285688, 35021545, 34156240, 35786859, 31184028, 39447311, 38014458, 33415671, 34578216, 36618594, 39573536, 32856031, 30785142, 37016310, 34584615, 32947476, 32942745, 35102717, 35981291, 39919388, 37083473, 36974556, 37159529, 36430031, 34426010, 31701492, 32493748, 30140431, 37858271, 36592969, 36989845, 31180909, 36408968, 36570249, 32213693, 39189785, 35369832, 35847112, 35805241, 33563137, 35762622, 36647759, 39693243, 37511938, 39355461, 35643922, 38288467, 31923167, 34743322, 33055428, 30336275, 39603404, 34809083, 36074254, 36670557, 38988614, 39029380, 36882944, 35813129, 37481914, 39103379, 37132063, 37452686, 39254155, 38419880, 39148901, 35569514, 39074014, 32758576, 33906089, 36446798, 39567902, 39351484, 39249050, 37003426, 39709481, 33216968, 37064397, 33702581, 30744151, 30155104, 30157564, 38329482, 33685949, 37182522, 31075621, 39765779, 31032149, 36589810, 37395723, 30248375, 38370183, 34418610, 31869180, 30469086, 37487478, 39939773, 30401776, 39850978, 36211786, 35380841, 38726470, 33640629, 36279534, 34214668, 38541491, 37463202, 31494478, 33220412, 38844541, 32615640, 35448168, 37828893, 32301267, 30209929, 35576557, 32503160, 31526440, 38970291, 33599940, 31456436, 37309694, 34594996, 32137361, 36481457, 37204556, 34222208, 31151823, 33098616, 33147651, 39066196, 34388691, 37373881, 30983000, 33726251, 35884700, 30751925, 38881183, 33270595, 32798179, 38396416, 32560705, 34036223, 38235164, 30176155, 36239474, 30286747, 33473932, 34597839, 34789595, 36408310, 39841305, 36753681, 36629279, 39562594, 30036517, 32202312, 35386597, 33181880, 35857321, 37471469, 36829121, 30382383, 39063433, 31338941, 37542315, 34586180, 31405528, 35268194, 33229559, 31444354, 34272434, 32408660, 31852765, 36659101, 31012544, 33620758, 38250377, 36477045, 36714548, 33409364, 32844515, 33164405, 36504335, 34043462, 30113181, 31343903, 37046252, 37786265, 39000714, 35490965, 34403689, 38699951, 33326928, 36178061, 38385027, 33609871, 36773190, 37499681, 31804392, 39327465, 35769187, 33150173, 32853022, 35377640, 32757111, 30267297, 37239134, 35252326, 33211957, 34332954, 39403399, 35863938, 34253478, 32899958, 38334894, 39354141, 39612897, 31300090, 38852670, 36672392, 31131022, 30904750, 34746015, 36171890, 33522470, 31947763, 37274881, 35936067, 39112174, 39133525, 37050238, 31390110, 31179345, 30431175, 39535539, 38049497, 38581674, 33536399, 36374692, 36156211, 36944215, 36329345, 36198736, 32237593, 34265138, 32959578, 30033718, 38377475, 35975690, 34643753, 33399352, 36578063, 37529977, 34904121, 31527727, 33378401, 32105035, 37078411, 34829857, 31188154, 33685267, 32132014, 39099519, 33499331, 38989705, 33901871, 32176652, 36736774, 31528992, 31502451, 38774825, 39499384, 34434022, 33701270, 37761713, 30133837, 31117924, 32931989, 38451717, 35034965, 36578778, 35436925, 39133485, 32091208, 34180322, 33807870, 30046600, 37053152, 36352960, 39132033, 37752339, 32181960, 35181536, 38815212, 30766829, 30778757, 30541346, 30158404, 35440354, 32579403, 31641592, 33980903, 37247724, 37374761, 30786517, 35510159, 36341822, 36707672, 35724749, 39372308, 35016075, 39531489, 35783849, 34067638, 30764051, 30647219, 33083427, 32504131, 38840767, 38722585, 31332873, 39900002, 32511901, 38121747, 33029650, 32049555, 39425230, 39824196, 33583883, 34031152, 35060750, 31871522, 35579584, 38613122, 39343995, 34928659, 39597497, 36196072, 38320559, 30673770, 30970506, 35890944, 30037915, 34260730, 34161645, 31856160, 39253734, 30271409, 36950541, 30343476, 30109052, 31272814, 33880619, 39786646, 30114429, 39118760, 31549533, 33421852, 34217396, 31463262, 37906363, 39717944, 31034556, 32198585, 36030997, 31956658, 33297938, 31133450, 30228811, 30280872, 34836936, 33731767, 33966197, 30263415, 39526128, 36279028, 35506229, 37086054, 36841742, 38100570, 30593030, 32675919, 36299136, 35501835, 36825764, 31988500, 35187759, 38695990, 33807006, 34027284, 39769567, 35276354, 33782166, 37779094, 31219122, 30436278, 39857578, 35918303, 30865772, 37644055, 32145331, 32744565, 34341582, 36178821, 37821892, 35543533, 30974409, 37724884, 35452378, 35889304, 38274571, 32556385, 36161971, 32008152, 32006558, 38513771, 33743577, 38580947, 39556770, 35098730, 33477698, 34726634, 31208985, 32505492, 34340357, 35666901, 37123715, 35849158, 35210682, 39652155, 37065551, 33181285, 34184496, 37633960, 35739270, 34108895, 31532954, 39969198, 30611160, 38315547, 38031081, 36577855, 35622802, 32242127, 34655500, 32453051, 30190164, 30242774, 33363560, 38587763, 37679349, 30858314, 31600062, 35291334, 30512066, 38984004, 31021687, 32148456, 37373741, 32118761, 38948241, 38713989, 35368754, 36809832, 38637695, 34649270, 32378865, 35472678, 36804307, 39526331, 39367758, 32583747, 37221316, 39602017, 38166072, 36477376, 36264572, 38986983, 30495523, 30050835, 32364300, 37014871, 35734774, 35025754, 34543506, 38910328, 39591508, 35297175, 39348717, 36679966, 37369624, 31381138, 39904606, 34453158, 33702478, 31570655, 34613400, 30173142, 39126132, 37973277, 33046176, 37962470, 38177733, 33186192, 39637626, 38838709, 37182448, 32448624, 37335507, 37800727, 30313565, 31069486, 33966499, 31978237, 30905381, 32987676, 32852759, 30105012, 37141798, 38461357, 36952396, 39948068, 30447359, 35158537, 39415898, 32887508, 37429979, 33668354, 34397587, 36302596, 37020532, 33993496, 35651817, 32131903, 35421881, 38900175, 39169498, 34339915, 39312893, 39044877, 38755097, 32977919, 37043604, 34785751, 32133362, 37844091, 31623944, 38920294, 35227918, 34664708, 37453475, 30112210, 36833225, 37956867, 34378808, 34511039, 31456226, 34998479, 36967925, 35712262, 30306326, 37301764, 34545020, 33059496, 34037052, 36943264, 35092097, 37395362, 33751485, 37933258, 37418954, 36684797, 39441572, 36746710, 32498796, 38491966, 38221835, 33371761, 39423089, 33147602, 30412387, 36677105, 38002662, 39295619, 32698346, 32885970, 38701198, 31318322, 32513212, 34244938, 37070673, 36718729, 39849797, 34342355, 37763819, 31566616, 31975791, 35852976, 39407507, 36713305, 36653075, 37740973, 31937197, 35372728, 35750529, 36987367, 33155951, 37204128, 39022990, 30363332, 34776044, 30194581, 32439417, 37419727, 33432975, 38447805, 32526660, 37208356, 30778199, 32575725, 38065045, 30326472, 39140409, 38493376, 38997327, 36262734, 32464420, 39882826, 37359539, 34575878, 32744385, 37338018, 34233216, 34037186, 36966986, 35049724, 33631920, 39470702, 39752693, 33962892, 35509481, 35854963, 37820852, 31725625, 35423660, 35702229, 38354004, 35058334, 30302564, 36931305, 38367302, 38684677, 38637646, 30477634, 32084980, 39407686, 38056738, 39218860, 38418446, 39050266, 37477658, 30930553, 30601456, 31403287, 30341934, 36639624, 37218486, 35768724, 31673873, 32313992, 37541692, 37545130, 32863488, 30199538, 30463812, 38026241, 32482959, 36488865, 31361679, 33692182, 39624963, 36385609, 34614752, 36870222, 33668629, 36516671, 32900337, 34931211, 34749119, 38683657, 32547365, 37654008, 34254402, 36871772, 33191620, 32164654, 35674618, 31583232, 36491802, 31766573, 31327804, 30108965, 31066358, 32417468, 35404359, 35913304, 30139442, 39844778, 37276540, 36997459, 36917822, 37268115, 31725746, 35128759, 37739261, 33113265, 30719946, 39286395, 30213832, 34581867, 34078444, 35881376, 30027115, 32955299, 31474741, 35166263, 32321292, 39730220, 31172345, 39043566, 32432723, 33291610, 39275255, 32332328, 31093159, 37788532, 36789708, 31938501, 34921078, 35888990, 39782929, 31355611, 36367521, 33630048, 33726302, 39434666, 32915281, 32408957, 36076933, 35916905, 39222705, 31936975, 33562367, 37629882, 35224205, 35770004, 36331308, 36311465, 35473940, 36073408, 30102451, 35777971, 39739449, 36082222, 32702846, 30561526, 31997122, 33819586, 31925816, 34993835, 35733024, 31040046, 36924366, 37486199, 35739740, 33113429, 37843029, 35164439, 33530469, 30422738, 38407983, 37941980, 38815310, 33013986, 36742983, 33594426, 38721147, 36511354, 36469158, 33607161, 30697643, 39484877, 34590159, 38129221, 38578077, 33590020, 33661789, 38711477, 33191040, 38691592, 37296444, 31758909, 32997635, 33431764, 38309860, 33941062, 38538012, 33256748, 37058571, 32182324, 38616260, 35509670, 39996044, 36913772, 33365248, 34634701, 37979029, 39587278, 37343632, 37609236, 33337114, 35126808, 37918934, 34749519, 38712050, 34639197, 39542449, 33499859, 32138916, 31365891, 31503786, 35043090, 36413332, 32572527, 32671868, 39780489, 39241611, 38595507, 34293931, 35793524, 37689542, 33054851, 34618237, 37899511, 37745676, 35282970, 32253926, 39100043, 30622597, 38853975, 36045590, 34130012, 37532138, 30981192, 35949038, 31982192, 31800901, 30193458, 34842501, 33915555, 31703996, 30748914, 33538112, 31141250, 35663089, 38138471, 31116817, 31736098, 34130306, 30727430, 35106953, 37287723, 38234891, 33942616, 34642440, 31947752, 34413481, 33839862, 35327393, 31093046, 37164061, 38675535, 33185124, 35358474, 36398153, 38401113, 36232160, 32436929, 38771411, 34990164, 34512857, 30207942, 31583169, 34328160, 39199968, 30883428, 38818414, 31959994, 30747248, 31269880, 34532263, 39058288, 36360893, 36979945, 33445313, 38833788, 33848812, 38811410, 34897695, 39928091, 38253681, 32145880, 33739664, 34638150, 32620190, 34434159, 32914082, 38362761, 35573393, 37819041, 32759313, 32398002, 38698904, 31223406, 39900403, 39892039, 35965822, 36207619, 37035671, 30972748, 32729875, 32922138, 33845000, 38594338, 37974899, 30847796, 33274078, 36806521, 33947001, 31499719, 36881053, 30214598, 32856776, 37776066, 32232343, 34034988, 33295986, 37258034, 34181644, 31579295, 32205608, 31821520, 30571222, 30845656, 32041316, 39719439, 37033185, 35776095, 39463902, 31059172, 37575309, 33509380, 31779855, 32998654, 30121639, 30103395, 31758003, 31108231, 39701031, 39899146, 33813722, 33642148, 37047952, 37725857, 38329363, 38619454, 35867460, 32612189, 31517631, 31139036, 38613765, 38914211, 33769887, 37934000, 32387029, 35624691, 39226391, 33428929, 38173794, 37506213, 39645769, 36359958, 37981054, 32480054, 38479300, 37224605, 30543825, 39440598, 30208423, 39323401, 33123679, 37816217, 37832938, 35653143, 33366501, 36761597, 33296518, 38756379, 39525291, 35114774, 30360574, 36135037, 32866586, 30874645, 38558677, 30775991, 33558902, 33118083, 32799000, 34036003, 34292607, 31742002, 38154694, 31920220, 38061142, 31815334, 39548168, 33817347, 33434459, 33636905, 33443770, 39631540, 32457004, 32677574, 34488409, 34574040, 32578898, 34402090, 34095835, 30894401, 37124281, 31798293, 38793950, 34812134, 37225623, 34154931, 39852725, 33333614, 37418121, 34257353, 34150966, 31722652, 39083157, 37209827, 38588391, 39555696, 37004775, 38260217, 36539929, 32270777]\n"
               ]
            }
         ],
         "source": [
            "print(stay_ids)"
         ]
      }
   ],
   "metadata": {
      "kernelspec": {
         "display_name": "MLhomework",
         "language": "python",
         "name": "python3"
      },
      "language_info": {
         "codemirror_mode": {
            "name": "ipython",
            "version": 3
         },
         "file_extension": ".py",
         "mimetype": "text/x-python",
         "name": "python",
         "nbconvert_exporter": "python",
         "pygments_lexer": "ipython3",
         "version": "3.10.8"
      },
      "orig_nbformat": 4
   },
   "nbformat": 4,
   "nbformat_minor": 2
}
