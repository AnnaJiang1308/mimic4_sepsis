{
   "cells": [
      {
         "attachments": {},
         "cell_type": "markdown",
         "metadata": {},
         "source": [
            "Vasopressors Selection\n",
            "======================\n",
            "\n",
            "In this jupyter notebook we analyze the vasopressors selection of action space."
         ]
      },
      {
         "cell_type": "code",
         "execution_count": 14,
         "metadata": {},
         "outputs": [],
         "source": [
            "import psycopg2\n",
            "from psycopg2 import sql\n",
            "import csv\n",
            "import pandas as pd\n",
            "import numpy as np\n",
            "import os\n",
            "import shutil\n",
            "import csv\n",
            "from datetime import timedelta\n",
            "\n",
            "# implement the username, password and database name\n",
            "conn = psycopg2.connect(host='', user='', password='', database='mimiciv')"
         ]
      },
      {
         "attachments": {},
         "cell_type": "markdown",
         "metadata": {},
         "source": [
            "# 1 Data transfer of Vasopressors\n",
            "\n",
            "In *1.1* we transfer data of following Vasopressors from Postgresql to csv:\n",
            "\n",
            " - Vasopressors \n",
            "   - Norepinephrine\n",
            "   - Phenylephrine\n",
            "   - Vasopressin\n",
            "   - Epinephrine\n",
            "   - Dopamine\n",
            "   - Dobutamine\n",
            "   - Milrinone\n",
            "\n",
            "In *1.2*, we get the Vasopressors statistical data\n",
            "\n",
            "In *1.3*, after calculation and comparison, we show the reason why we can omit the two insignificant vasopressors: Dobutamine and Milrinone.\n",
            "\n",
            "So in this project we directly obtain the `vasopressors_norepinephrine_equivalent_dose` based on `\"Vasopressor dose equivalence: A scoping review and suggested formula\" by Goradia et al. 2020`."
         ]
      },
      {
         "attachments": {},
         "cell_type": "markdown",
         "metadata": {},
         "source": [
            "## 1.1 transfer action data of Vasopressors from Postgresql to csv\n",
            "\n",
            "Output files locate in `doc/output_action_vasopressors_selection/data/data_raw/action/vasopressors`"
         ]
      },
      {
         "cell_type": "code",
         "execution_count": 15,
         "metadata": {},
         "outputs": [
            {
               "name": "stdout",
               "output_type": "stream",
               "text": [
                  "output action (vasopressors):\tNorepinephrine.csv\n",
                  "output action (vasopressors):\tVasopressin.csv\n",
                  "output action (vasopressors):\tDobutamine.csv\n",
                  "output action (vasopressors):\tMilrinone.csv\n",
                  "output action (vasopressors):\tPhenylephrine.csv\n",
                  "output action (vasopressors):\tDopamine.csv\n",
                  "output action (vasopressors):\tEpinephrine.csv\n"
               ]
            }
         ],
         "source": [
            "# generate the dictionary of action\n",
            "with open('../csv/itemid_label_action.csv', newline='') as csvfile:\n",
            "    # Create a CSV reader object\n",
            "    reader = csv.reader(csvfile)\n",
            "    # Skip the header row\n",
            "    next(reader)\n",
            "    # Initialize an empty dictionary and list\n",
            "    action_label = {}\n",
            "    a_itemid_list = []\n",
            "    # Iterate over the rows in the CSV file\n",
            "    for row in reader:\n",
            "        # Add the key-value pair to the dictionary\n",
            "        action_label[row[0]] = row[1]\n",
            "        # Add the itemid to the list\n",
            "        a_itemid_list.append(row[0])\n",
            "\n",
            "if os.path.exists('./output_action_vasopressors_selection/data/data_raw/action/vasopressors'):shutil.rmtree('./output_action_vasopressors_selection/data/data_raw/action/vasopressors')\n",
            "os.makedirs('./output_action_vasopressors_selection/data/data_raw/action/vasopressors')\n",
            "\n",
            "with conn.cursor() as cursor:\n",
            "\n",
            "    for itemid in a_itemid_list:\n",
            "        if \"Dextrose_5%\" not in action_label[str(itemid)] and \"NaCl_0_9%\" not in action_label[str(itemid)]:\n",
            "            # QUESTION: why do we need to order by starttime?\n",
            "            command = \"select stay_id, starttime, endtime, amount from mimiciv_derived.sepsis_action where itemid={} order by starttime;\".format(itemid)\n",
            "            cursor.execute(command)\n",
            "\n",
            "            result = cursor.fetchall()\n",
            "            df = pd.DataFrame(result)\n",
            "            df.columns = ['stay_id', 'starttime', 'endtime', 'amount']\n",
            "            \n",
            "            df['duration'] = df['endtime'] - df['starttime']\n",
            "            df['duration'] = df['duration'].dt.total_seconds()  # Convert duration to seconds\n",
            "            df['duration'] = df['duration'] / 60\n",
            "            df['value_per_minute'] = df['amount'] / df['duration']\n",
            "            \n",
            "\n",
            "            df.to_csv('./output_action_vasopressors_selection/data/data_raw/action/vasopressors/{}.csv'.format(action_label[str(itemid)]), index=0)\n",
            "            print(\"output action (vasopressors):\\t\"+action_label[str(itemid)]+\".csv\")\n",
            "    cursor.close()"
         ]
      },
      {
         "attachments": {},
         "cell_type": "markdown",
         "metadata": {},
         "source": [
            "## 1.2 Analyze data of Vasopressors "
         ]
      },
      {
         "attachments": {},
         "cell_type": "markdown",
         "metadata": {},
         "source": [
            "### Get Vasopressors statistical data"
         ]
      },
      {
         "cell_type": "code",
         "execution_count": 16,
         "metadata": {},
         "outputs": [
            {
               "name": "stdout",
               "output_type": "stream",
               "text": [
                  "Item\tVasopressors\tCount\tPercentage\tTop N Percentage\n",
                  "1\tNorepinephrine\t60081\t66.46%\t\t66.46%\n",
                  "2\tPhenylephrine\t19667\t21.76%\t\t88.22%\n",
                  "3\tVasopressin\t3763\t4.16%\t\t92.38%\n",
                  "4\tEpinephrine\t2829\t3.13%\t\t95.51%\n",
                  "5\tDopamine\t2448\t2.71%\t\t98.22%\n",
                  "6\tDobutamine\t1132\t1.25%\t\t99.47%\n",
                  "7\tMilrinone\t481\t0.53%\t\t100.0%\n",
                  "\tTotal\t\t90401\t100%\t\t100%\n"
               ]
            }
         ],
         "source": [
            "# Folder path\n",
            "folder_path = './output_action_vasopressors_selection/data/data_raw/action/vasopressors'\n",
            "print('Item\\tVasopressors\\tCount\\tPercentage\\tTop N Percentage')\n",
            "\n",
            "# Get all CSV file paths in the folder\n",
            "file_paths = [os.path.join(folder_path, file) for file in os.listdir(folder_path) if file.endswith('.csv')]\n",
            "\n",
            "# Store the number of rows for each CSV file\n",
            "rows_dict = {}\n",
            "\n",
            "# Calculate the total number of rows\n",
            "total_rows = 0\n",
            "\n",
            "# Iterate through each CSV file and get the number of rows\n",
            "for file_path in file_paths:\n",
            "    with open(file_path, 'r', newline='') as csvfile:\n",
            "        csv_reader = csv.reader(csvfile)\n",
            "        rows = sum(1 for row in csv_reader)\n",
            "        rows_dict[file_path] = rows\n",
            "        total_rows += rows\n",
            "\n",
            "# Sort the dictionary by the number of rows in descending order\n",
            "sorted_rows = sorted(rows_dict.items(), key=lambda x: x[1], reverse=True)\n",
            "\n",
            "total_rows_first_n = 0\n",
            "index = 0\n",
            "# Print the sorted results\n",
            "for file_path, rows in sorted_rows:\n",
            "    index += 1\n",
            "    total_rows_first_n += rows\n",
            "    print(f\"{index}\\t{file_path[73:-4]}\\t{rows}\\t{round(rows/total_rows*100,2)}%\\t\\t{round(total_rows_first_n/total_rows*100,2)}%\")\n",
            "print(f\"\\tTotal\\t\\t{total_rows}\\t100%\\t\\t100%\")"
         ]
      },
      {
         "attachments": {},
         "cell_type": "markdown",
         "metadata": {},
         "source": [
            "## 1.3 Conclusion of Analysis of Vasopressors\n",
            "The top 5 vasopressors account for 98.22% of the total, indicating that they have a significant contribution. Therefore, we only need to consider the top 5 vasopressors and can ignore the last two vasopressors, Dobutamine and Milrinone.\n",
            "\n",
            "The last two vasopressors are also disregarded in this study: `\"Vasopressor dose equivalence: A scoping review and suggested formula\" by Goradia et al. 2020`.\n",
            "\n",
            "The equivalent dose values for the top 5 vasopressors can be directly obtained from mimiciv_derived.norepinephrine_equivalent_dose."
         ]
      }
   ],
   "metadata": {
      "kernelspec": {
         "display_name": "MLhomework",
         "language": "python",
         "name": "python3"
      },
      "language_info": {
         "codemirror_mode": {
            "name": "ipython",
            "version": 3
         },
         "file_extension": ".py",
         "mimetype": "text/x-python",
         "name": "python",
         "nbconvert_exporter": "python",
         "pygments_lexer": "ipython3",
         "version": "3.11.3"
      },
      "orig_nbformat": 4
   },
   "nbformat": 4,
   "nbformat_minor": 2
}
