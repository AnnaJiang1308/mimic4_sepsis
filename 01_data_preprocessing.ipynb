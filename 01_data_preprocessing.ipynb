{
 "cells": [
  {
   "attachments": {},
   "cell_type": "markdown",
   "metadata": {},
   "source": [
    "MIMIC_Sepsis\n",
    "=================\n",
    "\n",
    "# 1 Preparation\n",
    "\n",
    "To run this document the following requirements must be satisfied:\n",
    "\n",
    "- Implement the database mimic in **PostgreSQL** and start it. The instruction can be seen [here](https://github.com/MIT-LCP/mimic-code/tree/main/mimic-iv/buildmimic/postgres). (The name of this environment should be **mimiciv**)\n",
    "- generate useful abstractions of raw MIMIC-IV data. The instruction be seen [here](https://github.com/MIT-LCP/mimic-code/tree/main/mimic-iv/concepts_postgres) \n",
    "\n",
    "\n",
    "\n",
    "To create an anaconda environment and install all the required libraries, uncomment following and run:"
   ]
  },
  {
   "cell_type": "code",
   "execution_count": 11,
   "metadata": {},
   "outputs": [],
   "source": [
    "#!conda create --name mimiciv_sepsis python=3.11\n",
    "#!conda activate mimiciv_sepsis\n",
    "#!pip install -r requirements.txt"
   ]
  },
  {
   "attachments": {},
   "cell_type": "markdown",
   "metadata": {},
   "source": [
    "Run the following cell to connect to the database."
   ]
  },
  {
   "cell_type": "code",
   "execution_count": 12,
   "metadata": {},
   "outputs": [
    {
     "name": "stdout",
     "output_type": "stream",
     "text": [
      "The autoreload extension is already loaded. To reload it, use:\n",
      "  %reload_ext autoreload\n"
     ]
    }
   ],
   "source": [
    "%load_ext autoreload\n",
    "%autoreload 2\n",
    "\n",
    "import psycopg2\n",
    "from psycopg2 import sql\n",
    "import csv\n",
    "import pandas as pd\n",
    "import numpy as np\n",
    "import os\n",
    "import shutil\n",
    "import csv\n",
    "from datetime import timedelta\n",
    "from sklearn.impute import KNNImputer\n",
    "from sklearn.neighbors import KNeighborsRegressor\n",
    "\n",
    "# implement the username, password and database name\n",
    "conn = psycopg2.connect(host='', user='', password='', database='mimiciv')"
   ]
  },
  {
   "attachments": {},
   "cell_type": "markdown",
   "metadata": {},
   "source": [
    "# 2 Extract selected data from the original database \n",
    "\n",
    "We extract the `state space` and `action space` respectively from the mimiciv database. The table `itemid_info/mimic4 itemid.csv` lists all the items required.\n",
    "\n",
    "***Uncomment the following cell if you first time run the code***"
   ]
  },
  {
   "cell_type": "code",
   "execution_count": 13,
   "metadata": {},
   "outputs": [
    {
     "name": "stdout",
     "output_type": "stream",
     "text": [
      "mimiciv_derived_sepsis.sepsis_patients_cohort is created\n",
      "mimiciv_derived_sepsis.sepsis_state is created\n",
      "mimiciv_derived_sepsis.sepsis_action_inputevents is created\n",
      "mimiciv_derived_sepsis.sepsis_action_vasopressors_equivalent_dose is created\n"
     ]
    }
   ],
   "source": [
    "# uncomment the this cell if you first time run the code\n",
    "\n",
    "# Read the SQL file\n",
    "\n",
    "try:\n",
    "    with open('sql/select_patients_cohort.sql', 'r') as file0:\n",
    "        sql_script_select_patients_cohort = file0.read()\n",
    "        \n",
    "    with open('sql/state_from_chartevents.sql', 'r') as file1:\n",
    "        sql_script_state = file1.read()\n",
    "\n",
    "    with open('sql/action_from_inputevents.sql', 'r') as file2:\n",
    "        sql_script_action_from_inputevents = file2.read()\n",
    "\n",
    "    with open('sql/action_from_vasopressors_equivalent_dose.sql', 'r') as file3:\n",
    "        sql_script_action_from_vasopressors_equivalent_dose = file3.read()\n",
    "\n",
    "    # Execute the SQL script and create the tables in schema mimiciv_derived_sepsis\n",
    "    cursor = conn.cursor()\n",
    "    \n",
    "    cursor.execute(sql.SQL(sql_script_select_patients_cohort))\n",
    "    print(\"mimiciv_derived_sepsis.sepsis_patients_cohort is created\")\n",
    "\n",
    "    cursor.execute(sql.SQL(sql_script_state))\n",
    "    print(\"mimiciv_derived_sepsis.sepsis_state is created\")\n",
    "\n",
    "    cursor.execute(sql.SQL(sql_script_action_from_inputevents))\n",
    "    print(\"mimiciv_derived_sepsis.sepsis_action_inputevents is created\")\n",
    "\n",
    "    cursor.execute(sql.SQL(sql_script_action_from_vasopressors_equivalent_dose))\n",
    "    print(\"mimiciv_derived_sepsis.sepsis_action_vasopressors_equivalent_dose is created\")\n",
    "\n",
    "    conn.commit()\n",
    "    cursor.close()\n",
    "    \n",
    "except (Exception, psycopg2.DatabaseError) as error:\n",
    "    print(\"Error executing SQL statement:\", error)"
   ]
  },
  {
   "attachments": {},
   "cell_type": "markdown",
   "metadata": {},
   "source": [
    "Get the number of stay_ids"
   ]
  },
  {
   "cell_type": "code",
   "execution_count": 14,
   "metadata": {},
   "outputs": [
    {
     "name": "stdout",
     "output_type": "stream",
     "text": [
      "Number of stay_ids: 7404\n"
     ]
    }
   ],
   "source": [
    "with conn.cursor() as cursor:\n",
    "    command = \"SELECT distinct stay_id FROM mimiciv_derived_sepsis.sepsis_patients_cohort;\"\n",
    "    cursor.execute(command)   \n",
    "    result = cursor.fetchall()\n",
    "    stay_ids= [row[0] for row in result]\n",
    "    num_stay_ids = len(stay_ids)\n",
    "    print('Number of stay_ids: ' + str(num_stay_ids))\n",
    "    cursor.close()"
   ]
  },
  {
   "attachments": {},
   "cell_type": "markdown",
   "metadata": {},
   "source": [
    "# 3 Data transfer"
   ]
  },
  {
   "attachments": {},
   "cell_type": "markdown",
   "metadata": {},
   "source": [
    "## 3.1 Data transfer of State Space\n",
    "We transfer the data of State Space from Postgresql to csv."
   ]
  },
  {
   "cell_type": "code",
   "execution_count": 15,
   "metadata": {},
   "outputs": [
    {
     "name": "stdout",
     "output_type": "stream",
     "text": [
      "output:Heartrate.csv                           \tnumber of stay_id:7404\n",
      "output:ABPs.csv                                \tnumber of stay_id:2206\n",
      "output:NBPs.csv                                \tnumber of stay_id:7239\n",
      "output:ABPd.csv                                \tnumber of stay_id:2207\n",
      "output:NBPd.csv                                \tnumber of stay_id:7238\n",
      "output:ABPm.csv                                \tnumber of stay_id:2239\n"
     ]
    },
    {
     "name": "stdout",
     "output_type": "stream",
     "text": [
      "output:NBPm.csv                                \tnumber of stay_id:7238\n",
      "output:RespiratoryRate.csv                     \tnumber of stay_id:7403\n",
      "output:TemperatureF.csv                        \tnumber of stay_id:7187\n",
      "output:TemperatureC.csv                        \tnumber of stay_id:726\n",
      "output:PH_A.csv                                \tnumber of stay_id:3934\n",
      "output:PH_V.csv                                \tnumber of stay_id:3118\n",
      "output:ABE.csv                                 \tnumber of stay_id:3915\n",
      "output:Hematocrit_serum.csv                    \tnumber of stay_id:7331\n",
      "output:Hematocrit_wholeblood.csv               \tnumber of stay_id:1124\n",
      "output:Hemoglobin.csv                          \tnumber of stay_id:7325\n",
      "output:Platele.csv                             \tnumber of stay_id:7324\n",
      "output:WBC.csv                                 \tnumber of stay_id:7327\n",
      "output:Chloride_serum.csv                      \tnumber of stay_id:7353\n",
      "output:Chloride_wholeblood.csv                 \tnumber of stay_id:952\n",
      "output:Calcium_ion.csv                         \tnumber of stay_id:3601\n",
      "output:Calcium_nonion.csv                      \tnumber of stay_id:7256\n",
      "output:Potassium_serum.csv                     \tnumber of stay_id:7353\n",
      "output:Potassium_wholeblood.csv                \tnumber of stay_id:2034\n",
      "output:Sodium_serum.csv                        \tnumber of stay_id:7352\n",
      "output:Sodium_wholeblood.csv                   \tnumber of stay_id:1247\n",
      "output:ProthrombinTime.csv                     \tnumber of stay_id:6572\n",
      "output:PTT.csv                                 \tnumber of stay_id:6518\n",
      "output:INR.csv                                 \tnumber of stay_id:6572\n",
      "output:SaO2.csv                                \tnumber of stay_id:1727\n",
      "output:SpO2.csv                                \tnumber of stay_id:7400\n",
      "Error executing SQL statement: Length mismatch: Expected axis has 0 elements, new values have 3 elements\n",
      "drop:PaO2.csv                                \tnumber of stay_id:0\n",
      "output:PaCO2.csv                               \tnumber of stay_id:3915\n",
      "output:FiO2.csv                                \tnumber of stay_id:4435\n",
      "output:BUN.csv                                 \tnumber of stay_id:7352\n",
      "output:Creatinine_serum.csv                    \tnumber of stay_id:7353\n",
      "output:Creatinine_wholeblood.csv               \tnumber of stay_id:33\n",
      "output:Albumin.csv                             \tnumber of stay_id:3441\n",
      "output:AnionGap.csv                            \tnumber of stay_id:7352\n",
      "output:TotalBilirubin.csv                      \tnumber of stay_id:5020\n",
      "output:DirectBilirubin.csv                     \tnumber of stay_id:632\n",
      "output:ALT.csv                                 \tnumber of stay_id:4998\n",
      "output:AST.csv                                 \tnumber of stay_id:4996\n",
      "drop:UrineOutput.csv                         \tnumber of stay_id:1\n",
      "output:GCS_EyeOpening.csv                      \tnumber of stay_id:7403\n",
      "output:GCS_VerbalResponse.csv                  \tnumber of stay_id:7402\n",
      "output:GCS_MotorResponse.csv                   \tnumber of stay_id:7402\n"
     ]
    }
   ],
   "source": [
    "# output to /output/data/data_raw/state/{state_name}.csv\n",
    "from python.data_preprocessing.data_transfer import data_transfer_state\n",
    "\n",
    "itemid_list_state, label_state = data_transfer_state(conn, num_stay_ids, threshold = 1000)"
   ]
  },
  {
   "attachments": {},
   "cell_type": "markdown",
   "metadata": {},
   "source": [
    "## 3.2 Data transfer of Action Space"
   ]
  },
  {
   "attachments": {},
   "cell_type": "markdown",
   "metadata": {},
   "source": [
    "### 3.2.1 Data transfer of Action Space for *IV fluid bolus*\n",
    "\n",
    " - IV fluid bolus\n",
    "   - NaCl_0.9%\n",
    "   - Dextrose_5%"
   ]
  },
  {
   "cell_type": "code",
   "execution_count": 16,
   "metadata": {},
   "outputs": [
    {
     "name": "stdout",
     "output_type": "stream",
     "text": [
      "output action (IV_fluid_bolus):\tNaCl_0_9%.csv\n",
      "output action (IV_fluid_bolus):\tDextrose_5%.csv\n"
     ]
    }
   ],
   "source": [
    "# output to /output/data/data_raw/action/IV_fluid_bolus/{IV_fluid_bolus_name}.csv\n",
    "from python.data_preprocessing.data_transfer import data_transfer_action_IV_fluid_bolus\n",
    "\n",
    "data_transfer_action_IV_fluid_bolus(conn)"
   ]
  },
  {
   "attachments": {},
   "cell_type": "markdown",
   "metadata": {},
   "source": [
    "### 3.2.2 Data transfer of Action Space for *Vasopressors*\n",
    "\n",
    "we directly obtain `vasopressors_equivalent_dose` \n",
    "\n",
    "from `mimiciv_derived.norepinephrine_equivalent_dose` \n",
    "\n",
    "based on *\"Vasopressor dose equivalence: A scoping review and suggested formula\" by Goradia et al. 2020*."
   ]
  },
  {
   "cell_type": "code",
   "execution_count": 17,
   "metadata": {},
   "outputs": [
    {
     "name": "stdout",
     "output_type": "stream",
     "text": [
      "output action (vasopressors): vasopressors_equivalent_dose.csv\n"
     ]
    }
   ],
   "source": [
    "# output to /output/data/data_raw/action/vasopressors/vasopressors_equivalent_dose.csv\n",
    "from python.data_preprocessing.data_transfer import data_transfer_action_vasopressors_equivalent_dose\n",
    "\n",
    "data_transfer_action_vasopressors_equivalent_dose(conn)"
   ]
  },
  {
   "attachments": {},
   "cell_type": "markdown",
   "metadata": {},
   "source": [
    "# 4 Hourly Sample"
   ]
  },
  {
   "attachments": {},
   "cell_type": "markdown",
   "metadata": {},
   "source": [
    "## 4.1 Hourly Sample on State Space"
   ]
  },
  {
   "cell_type": "code",
   "execution_count": 18,
   "metadata": {},
   "outputs": [
    {
     "name": "stdout",
     "output_type": "stream",
     "text": [
      "Selected stay_id: 31872514\n"
     ]
    }
   ],
   "source": [
    "# output to /output/data/data_hourly_sample/state/stay_id_{selected_id}.csv\n",
    "from python.data_preprocessing.hourly_sample import hourly_sample_state\n",
    "import random\n",
    "if os.path.exists('./output/data/data_hourly_sample/state'):shutil.rmtree('./output/data/data_hourly_sample/state')\n",
    "\n",
    "# selected_ids = random.sample(stay_ids, 5)\n",
    "# print(f'Selected stay_id: {selected_ids}')\n",
    "# for selected_id in selected_ids:\n",
    "#     hourly_sample_state(selected_id, itemid_list_state, label_state, k = 5)\n",
    "\n",
    "# selected_ids = random.sample(stay_ids, 5)\n",
    "# print(f'Selected stay_id: {selected_ids}')\n",
    "selected_id = 31872514\n",
    "hourly_sample_state(selected_id, itemid_list_state, label_state, k = 10)\n",
    "\n",
    "\n",
    "#for selected_id in selected_ids:\n",
    "#    hourly_sample_state(selected_id, itemid_list_state, label_state, k = 5)\n",
    "\n",
    "# hourly_sample_state(selected_id, itemid_list_state, label_state, k = 5)",
    "# more than 72 hours ICU stay in following stay_ids\n",
    "# selected_id = 32217866\n",
    "# selected_id = 32332328\n",
    "# selected_id = 38362310\n",
    "selected_id = 31872514\n",
    "print(f'Selected stay_id: {selected_id}')\n",
    "hourly_sample_state(selected_id, itemid_list_state, label_state, k = 5)"
   ]
  },
  {
   "attachments": {},
   "cell_type": "markdown",
   "metadata": {},
   "source": [
    "## 4.2 Hourly Sample on Action Space"
   ]
  },
  {
   "attachments": {},
   "cell_type": "markdown",
   "metadata": {},
   "source": [
    "### 4.2.1 Hourly sample IV_fluid_bolus for both continuous and discrete action space"
   ]
  },
  {
   "cell_type": "code",
   "execution_count": 19,
   "metadata": {},
   "outputs": [
    {
     "name": "stdout",
     "output_type": "stream",
     "text": [
      "Error count: 911\n"
     ]
    }
   ],
   "source": [
    "# output to /output/data/data_hourly_sample/action/IV_fluid_bolus/stay_id_{selected_id}.csv\n",
    "from python.data_preprocessing.hourly_sample import hourly_sample_action_IV_fluid_bolus\n",
    "if os.path.exists('./output/data/data_hourly_sample/action/IV_fluid_bolus/'):shutil.rmtree('./output/data/data_hourly_sample/action/IV_fluid_bolus/')\n",
    "\n",
    "\n",
    "# selected_id = 31872514 # more than 72 hours ICU stay \n",
    "# print(f'Selected stay_id: {selected_id}')\n",
    "# hourly_sample_action_IV_fluid_bolus(selected_id)\n",
    "\n",
    "count = 0\n",
    "for selected_id in stay_ids:\n",
    "    try:\n",
    "        hourly_sample_action_IV_fluid_bolus(selected_id)\n",
    "    except:\n",
    "        # print(f'Error with {selected_id}')\n",
    "        count += 1\n",
    "print(f'Error count: {count}') # 911 out of 7404 stay_ids (12.3%) did not have IV_fluid_bolus. 7404 - 911 = 6493 (87.7%) stay_ids have IV_fluid_bolus"
   ]
  },
  {
   "attachments": {},
   "cell_type": "markdown",
   "metadata": {},
   "source": [
    "### 4.2.2 Hourly sample vasopressors_equivalent_dose for both continuous and discrete action space"
   ]
  },
  {
   "cell_type": "code",
   "execution_count": 20,
   "metadata": {},
   "outputs": [
    {
     "name": "stdout",
     "output_type": "stream",
     "text": [
      "Error count: 4452\n"
     ]
    }
   ],
   "source": [
    "# output to /output/data/data_hourly_sample/action/vasopressors_equivalent_dose/stay_id_{selected_id}.csv\n",
    "from python.data_preprocessing.hourly_sample import hourly_sample_action_vasopressors_equivalent_dose\n",
    "if os.path.exists('./output/data/data_hourly_sample/action/vasopressors_equivalent_dose'):shutil.rmtree('./output/data/data_hourly_sample/action/vasopressors_equivalent_dose')\n",
    "\n",
    "\n",
    "# selected_id = 31872514 # more than 72 hours ICU stay \n",
    "# print(f'Selected stay_id: {selected_id}')\n",
    "# hourly_sample_action_vasopressors_equivalent_dose(selected_id)\n",
    "\n",
    "count = 0\n",
    "for selected_id in stay_ids:\n",
    "    try:\n",
    "        hourly_sample_action_vasopressors_equivalent_dose(selected_id)\n",
    "    except:\n",
    "        # print(f'Error with {selected_id}')\n",
    "        count += 1\n",
    "print(f'Error count: {count}') # 4452 out of 7404 stay_ids (60.1%) did not have vasopressors. 7404 - 4452 = 2952 (39.9%) stay_ids have vasopressors"
   ]
  }
 ],
 "metadata": {
  "kernelspec": {
   "display_name": "mimic",
   "language": "python",
   "name": "python3"
  },
  "language_info": {
   "codemirror_mode": {
    "name": "ipython",
    "version": 3
   },
   "file_extension": ".py",
   "mimetype": "text/x-python",
   "name": "python",
   "nbconvert_exporter": "python",
   "pygments_lexer": "ipython3",
   "version": "3.10.11"
  },
  "orig_nbformat": 4
 },
 "nbformat": 4,
 "nbformat_minor": 2
}
