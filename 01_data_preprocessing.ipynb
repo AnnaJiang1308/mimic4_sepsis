{
 "cells": [
  {
   "attachments": {},
   "cell_type": "markdown",
   "metadata": {},
   "source": [
    "MIMIC_Sepsis\n",
    "=================\n",
    "\n",
    "# 1 Preparation\n",
    "\n",
    "To run this document the following requirements must be satisfied:\n",
    "\n",
    "- Implement the database mimic in **PostgreSQL** and start it. The instruction can be seen [here](https://github.com/MIT-LCP/mimic-code/tree/main/mimic-iv/buildmimic/postgres). (The name of this environment should be **mimiciv**)\n",
    "- generate useful abstractions of raw MIMIC-IV data. The instruction be seen [here](https://github.com/MIT-LCP/mimic-code/tree/main/mimic-iv/concepts_postgres) \n",
    "\n",
    "\n",
    "\n",
    "To create an anaconda environment and install all the required libraries, uncomment following and run:"
   ]
  },
  {
   "cell_type": "code",
   "execution_count": 2,
   "metadata": {},
   "outputs": [],
   "source": [
    "#!conda create --name mimiciv_sepsis python=3.11\n",
    "#!conda activate mimiciv_sepsis\n",
    "#!pip install -r requirements.txt"
   ]
  },
  {
   "attachments": {},
   "cell_type": "markdown",
   "metadata": {},
   "source": [
    "Run the following cell to connect to the database."
   ]
  },
  {
   "cell_type": "code",
   "execution_count": 163,
   "metadata": {},
   "outputs": [
    {
     "name": "stdout",
     "output_type": "stream",
     "text": [
      "The autoreload extension is already loaded. To reload it, use:\n",
      "  %reload_ext autoreload\n"
     ]
    }
   ],
   "source": [
    "%load_ext autoreload\n",
    "%autoreload 2\n",
    "\n",
    "import psycopg2\n",
    "from psycopg2 import sql\n",
    "import csv\n",
    "import pandas as pd\n",
    "import numpy as np\n",
    "import os\n",
    "import shutil\n",
    "import csv\n",
    "from datetime import timedelta\n",
    "from sklearn.impute import KNNImputer\n",
    "from sklearn.neighbors import KNeighborsRegressor\n",
    "\n",
    "# implement the username, password and database name\n",
    "conn = psycopg2.connect(host='', user='', password='', database='mimiciv')"
   ]
  },
  {
   "attachments": {},
   "cell_type": "markdown",
   "metadata": {},
   "source": [
    "# 2 Extract selected data from the original database \n",
    "\n",
    "We extract the `state space` and `action space` respectively from the mimiciv database. The table `itemid_info/mimic4 itemid.csv` lists all the items required.\n",
    "\n",
    "***Uncomment the following cell if you first time run the code***"
   ]
  },
  {
   "cell_type": "code",
   "execution_count": 61,
   "metadata": {},
   "outputs": [
    {
     "name": "stdout",
     "output_type": "stream",
     "text": [
      "mimiciv_derived_sepsis.sepsis_patients_cohort is created\n",
      "mimiciv_derived_sepsis.sepsis_state is created\n",
      "mimiciv_derived_sepsis.sepsis_action_inputevents is created\n",
      "mimiciv_derived_sepsis.sepsis_action_vasopressors_equivalent_dose is created\n"
     ]
    }
   ],
   "source": [
    "# uncomment the this cell if you first time run the code\n",
    "\n",
    "# Read the SQL file\n",
    "\n",
    "try:\n",
    "    with open('sql/select_patients_cohort.sql', 'r') as file0:\n",
    "        sql_script_select_patients_cohort = file0.read()\n",
    "        \n",
    "    with open('sql/state_from_chartevents.sql', 'r') as file1:\n",
    "        sql_script_state = file1.read()\n",
    "\n",
    "    with open('sql/action_from_inputevents.sql', 'r') as file2:\n",
    "        sql_script_action_from_inputevents = file2.read()\n",
    "\n",
    "    with open('sql/action_from_vasopressors_equivalent_dose.sql', 'r') as file3:\n",
    "        sql_script_action_from_vasopressors_equivalent_dose = file3.read()\n",
    "\n",
    "    # Execute the SQL script and create the tables in schema mimiciv_derived_sepsis\n",
    "    cursor = conn.cursor()\n",
    "    \n",
    "    cursor.execute(sql.SQL(sql_script_select_patients_cohort))\n",
    "    print(\"mimiciv_derived_sepsis.sepsis_patients_cohort is created\")\n",
    "\n",
    "    cursor.execute(sql.SQL(sql_script_state))\n",
    "    print(\"mimiciv_derived_sepsis.sepsis_state is created\")\n",
    "\n",
    "    cursor.execute(sql.SQL(sql_script_action_from_inputevents))\n",
    "    print(\"mimiciv_derived_sepsis.sepsis_action_inputevents is created\")\n",
    "\n",
    "    cursor.execute(sql.SQL(sql_script_action_from_vasopressors_equivalent_dose))\n",
    "    print(\"mimiciv_derived_sepsis.sepsis_action_vasopressors_equivalent_dose is created\")\n",
    "\n",
    "    conn.commit()\n",
    "    cursor.close()\n",
    "    \n",
    "except (Exception, psycopg2.DatabaseError) as error:\n",
    "    print(\"Error executing SQL statement:\", error)"
   ]
  },
  {
   "attachments": {},
   "cell_type": "markdown",
   "metadata": {},
   "source": [
    "Get the number of stay_ids"
   ]
  },
  {
   "cell_type": "code",
   "execution_count": 164,
   "metadata": {},
   "outputs": [
    {
     "name": "stdout",
     "output_type": "stream",
     "text": [
      "Number of stay_ids: 7404\n"
     ]
    }
   ],
   "source": [
    "with conn.cursor() as cursor:\n",
    "    command = \"SELECT distinct stay_id FROM mimiciv_derived_sepsis.sepsis_patients_cohort;\"\n",
    "    cursor.execute(command)   \n",
    "    result = cursor.fetchall()\n",
    "    stay_ids= [row[0] for row in result]\n",
    "    num_stay_ids = len(stay_ids)\n",
    "    print('Number of stay_ids: ' + str(num_stay_ids))\n",
    "    cursor.close()"
   ]
  },
  {
   "attachments": {},
   "cell_type": "markdown",
   "metadata": {},
   "source": [
    "# 3 Data transfer"
   ]
  },
  {
   "attachments": {},
   "cell_type": "markdown",
   "metadata": {},
   "source": [
    "## 3.1 Data transfer of State Space\n",
    "We transfer the data of State Space from Postgresql to csv."
   ]
  },
  {
   "cell_type": "code",
   "execution_count": 171,
   "metadata": {},
   "outputs": [],
   "source": [
    "with conn.cursor() as cursor:\n",
    "    command = \"SELECT icu.stay_id, a.age, pat.gender, pat.dod FROM mimiciv_derived.age as a  INNER JOIN mimiciv_hosp.patients pat  ON a.subject_id = pat.subject_id INNER JOIN mimiciv_icu.icustays icu ON icu.subject_id = a.subject_id and icu.hadm_id=a.hadm_id INNER JOIN mimiciv_derived_sepsis.sepsis_patients_cohort sepsis ON sepsis.stay_id=icu.stay_id;\"\n",
    "    cursor.execute(command)   \n",
    "    result = cursor.fetchall()\n",
    "    cursor.close()\n",
    "df=pd.DataFrame(result)\n",
    "df.columns = ['stay_id', 'age', 'gender', 'dod']\n",
    "\n",
    "#binary\n",
    "df['dod_b']=df['dod'].apply(lambda x: 1 if x is not None else 0)\n",
    "\n",
    "# normailzation\n",
    "df['gender_n']=df['gender'].apply(lambda x: 1 if x=='M' else 0) \n",
    "df['age']=df['age'].astype(float)\n",
    "df['age_n']=(df['age']-df['age'].mean())/(df['age'].std())\n",
    "\n",
    "minimum = min(df['age_n'])\n",
    "maximum = max(df['age_n'])\n",
    "df['age_n'] = (df['age_n'] - minimum)/(maximum-minimum)\n",
    "\n",
    "\n",
    "df.to_csv('./output/data/data_raw/PatientAttribute.csv',index=0)"
   ]
  },
  {
   "cell_type": "code",
   "execution_count": 166,
   "metadata": {},
   "outputs": [
    {
     "name": "stdout",
     "output_type": "stream",
     "text": [
      "the total number of value is: 48\n",
      "output:Heartrate.csv                           \tpercent of stay_id:1.0\n",
      "output:ABPs.csv                                \tpercent of stay_id:0.297947055645597\n",
      "output:NBPs.csv                                \tpercent of stay_id:0.9777147487844409\n",
      "output:ABPd.csv                                \tpercent of stay_id:0.29808211777417615\n",
      "output:NBPd.csv                                \tpercent of stay_id:0.9775796866558617\n",
      "output:ABPm.csv                                \tpercent of stay_id:0.3024041058887088\n",
      "output:NBPm.csv                                \tpercent of stay_id:0.9775796866558617\n",
      "output:RespiratoryRate.csv                     \tpercent of stay_id:0.9998649378714208\n",
      "output:TemperatureF.csv                        \tpercent of stay_id:0.9706915180983252\n",
      "output:TemperatureC.csv                        \tpercent of stay_id:0.09805510534846029\n",
      "output:PH_A.csv                                \tpercent of stay_id:0.531334413830362\n",
      "output:PH_V.csv                                \tpercent of stay_id:0.4211237169097785\n",
      "output:ABE.csv                                 \tpercent of stay_id:0.5287682333873582\n",
      "output:Hematocrit_serum.csv                    \tpercent of stay_id:0.9901404646137223\n",
      "drop:Hematocrit_wholeblood.csv               \tnumber of stay_id:1124\n",
      "output:Hemoglobin.csv                          \tpercent of stay_id:0.9893300918422474\n",
      "output:Platele.csv                             \tpercent of stay_id:0.9891950297136682\n",
      "output:WBC.csv                                 \tpercent of stay_id:0.9896002160994057\n",
      "output:Chloride_serum.csv                      \tpercent of stay_id:0.9931118314424635\n",
      "drop:Chloride_wholeblood.csv                 \tnumber of stay_id:952\n",
      "output:Calcium_ion.csv                         \tpercent of stay_id:0.4863587250135062\n",
      "output:Calcium_nonion.csv                      \tpercent of stay_id:0.9800108049702864\n",
      "output:Potassium_serum.csv                     \tpercent of stay_id:0.9931118314424635\n",
      "output:Potassium_wholeblood.csv                \tpercent of stay_id:0.2747163695299838\n",
      "output:Sodium_serum.csv                        \tpercent of stay_id:0.9929767693138843\n",
      "drop:Sodium_wholeblood.csv                   \tnumber of stay_id:1247\n",
      "output:ProthrombinTime.csv                     \tpercent of stay_id:0.8876283090221502\n",
      "output:PTT.csv                                 \tpercent of stay_id:0.8803349540788763\n",
      "output:INR.csv                                 \tpercent of stay_id:0.8876283090221502\n",
      "output:SaO2.csv                                \tpercent of stay_id:0.23325229605618583\n",
      "output:SpO2.csv                                \tpercent of stay_id:0.9994597514856834\n",
      "Error executing SQL statement: Length mismatch: Expected axis has 0 elements, new values have 3 elements\n",
      "drop:PaO2.csv                                \tnumber of stay_id:0\n",
      "output:PaCO2.csv                               \tpercent of stay_id:0.5287682333873582\n",
      "output:FiO2.csv                                \tpercent of stay_id:0.5990005402485143\n",
      "output:BUN.csv                                 \tpercent of stay_id:0.9929767693138843\n",
      "output:Creatinine_serum.csv                    \tpercent of stay_id:0.9931118314424635\n",
      "drop:Creatinine_wholeblood.csv               \tnumber of stay_id:33\n",
      "output:Albumin.csv                             \tpercent of stay_id:0.4647487844408428\n",
      "output:AnionGap.csv                            \tpercent of stay_id:0.9929767693138843\n",
      "output:TotalBilirubin.csv                      \tpercent of stay_id:0.678011885467315\n",
      "drop:DirectBilirubin.csv                     \tnumber of stay_id:632\n",
      "output:ALT.csv                                 \tpercent of stay_id:0.6750405186385737\n",
      "output:AST.csv                                 \tpercent of stay_id:0.6747703943814155\n",
      "drop:UrineOutput.csv                         \tnumber of stay_id:1\n",
      "output:GCS_EyeOpening.csv                      \tpercent of stay_id:0.9998649378714208\n",
      "output:GCS_VerbalResponse.csv                  \tpercent of stay_id:0.9997298757428417\n",
      "output:GCS_MotorResponse.csv                   \tpercent of stay_id:0.9997298757428417\n",
      "output:daily_weight.csv                        \tpercent of stay_id:0.401269584008644\n",
      "the number remain is: 41\n"
     ]
    }
   ],
   "source": [
    "# output to /output/data/data_raw/state/{state_name}.csv\n",
    "from python.data_preprocessing.data_transfer import data_transfer_state\n",
    "\n",
    "itemid_list_state, label_state = data_transfer_state(conn, num_stay_ids, percent=0.2)"
   ]
  },
  {
   "attachments": {},
   "cell_type": "markdown",
   "metadata": {},
   "source": [
    "## 3.2 Data transfer of Action Space"
   ]
  },
  {
   "attachments": {},
   "cell_type": "markdown",
   "metadata": {},
   "source": [
    "### 3.2.1 Data transfer of Action Space for *IV fluid bolus*\n",
    "\n",
    " - IV fluid bolus\n",
    "   - NaCl_0.9%\n",
    "   - Dextrose_5%"
   ]
  },
  {
   "cell_type": "code",
   "execution_count": 167,
   "metadata": {},
   "outputs": [
    {
     "name": "stdout",
     "output_type": "stream",
     "text": [
      "output action (IV_fluid_bolus):\tNaCl_0_9%.csv\n",
      "output action (IV_fluid_bolus):\tDextrose_5%.csv\n"
     ]
    }
   ],
   "source": [
    "# output to /output/data/data_raw/action/IV_fluid_bolus/{IV_fluid_bolus_name}.csv\n",
    "from python.data_preprocessing.data_transfer import data_transfer_action_IV_fluid_bolus\n",
    "\n",
    "data_transfer_action_IV_fluid_bolus(conn)"
   ]
  },
  {
   "attachments": {},
   "cell_type": "markdown",
   "metadata": {},
   "source": [
    "### 3.2.2 Data transfer of Action Space for *Vasopressors*\n",
    "\n",
    "we directly obtain `vasopressors_equivalent_dose` \n",
    "\n",
    "from `mimiciv_derived.norepinephrine_equivalent_dose` \n",
    "\n",
    "based on *\"Vasopressor dose equivalence: A scoping review and suggested formula\" by Goradia et al. 2020*."
   ]
  },
  {
   "cell_type": "code",
   "execution_count": 65,
   "metadata": {},
   "outputs": [
    {
     "name": "stdout",
     "output_type": "stream",
     "text": [
      "output action (vasopressors): vasopressors_equivalent_dose.csv\n"
     ]
    }
   ],
   "source": [
    "# output to /output/data/data_raw/action/vasopressors/vasopressors_equivalent_dose.csv\n",
    "from python.data_preprocessing.data_transfer import data_transfer_action_vasopressors_equivalent_dose\n",
    "\n",
    "data_transfer_action_vasopressors_equivalent_dose(conn)"
   ]
  },
  {
   "attachments": {},
   "cell_type": "markdown",
   "metadata": {},
   "source": [
    "# 4 Data Summerization"
   ]
  },
  {
   "attachments": {},
   "cell_type": "markdown",
   "metadata": {},
   "source": [
    "## 4.1 Hourly Sample on State Space"
   ]
  },
  {
   "cell_type": "code",
   "execution_count": 168,
   "metadata": {},
   "outputs": [
    {
     "name": "stdout",
     "output_type": "stream",
     "text": [
      "Selected stay_id: [34451212, 38212491, 34598926, 37221316, 36316588, 38859514, 33957911, 39603225, 35391794, 35774420, 31274907, 36298400, 32964078, 37837180, 37205305, 37167199, 34451275, 36604210, 37263811, 32354505, 36653179, 37985094, 35762622, 37571435, 35323118, 31116817, 33575095, 38049497, 33352784, 39412779, 31528992, 30977260, 39598079, 31275316, 34694695, 38192829, 36679472, 38982679, 32276945, 38533572, 31338941, 30477957, 34090287, 35121579, 35739740, 30244643, 39892039, 34349427, 38897282, 36545848, 31818772, 32587646, 35185026, 30838616, 34456147, 35454080, 39945211, 34888345, 36593377, 39799510, 38445207, 30841844, 32928042, 38267127, 33086644, 35067591, 37761713, 32303930, 30002925, 37786499, 31984623, 36320742, 34823020, 31444354, 31762736, 39637626, 31570373, 34976345, 33668629, 36394814, 35783644, 36589026, 31695091, 32138916, 35599475, 32227174, 37125013, 36023087, 33870409, 32839767, 32799870, 35703530, 30783538, 39471439, 39231278, 38902994, 35839772, 34188547, 30208984, 31035796]\n",
      "        chartdatetime  Heartrate  ABPs      NBPs  ABPd      NBPd  ABPm  \\\n",
      "0 2139-11-20 12:00:00   0.000539   NaN  0.000769   NaN  0.000567   NaN   \n",
      "1 2139-11-20 13:00:00   0.000572   NaN  0.000772   NaN  0.000610   NaN   \n",
      "2 2139-11-20 14:00:00   0.000585   NaN  0.000739   NaN  0.000555   NaN   \n",
      "3 2139-11-20 15:00:00   0.000565   NaN  0.000697   NaN  0.000555   NaN   \n",
      "4 2139-11-20 16:00:00   0.000611   NaN  0.000756   NaN  0.000533   NaN   \n",
      "\n",
      "       NBPm  RespiratoryRate  TemperatureF  ...  Albumin  AnionGap  \\\n",
      "0  0.005379         0.004564      0.058000  ...      NaN       NaN   \n",
      "1  0.005640         0.004607      0.058000  ...      NaN       NaN   \n",
      "2  0.005186         0.006378      0.058000  ...      NaN       NaN   \n",
      "3  0.005095         0.003544      0.057892  ...      NaN       NaN   \n",
      "4  0.005095         0.004961      0.058039  ...      NaN       NaN   \n",
      "\n",
      "   TotalBilirubin  ALT  AST  GCS_EyeOpening  GCS_VerbalResponse  \\\n",
      "0             NaN  NaN  NaN             1.0                 1.0   \n",
      "1             NaN  NaN  NaN             1.0                 1.0   \n",
      "2             NaN  NaN  NaN             1.0                 1.0   \n",
      "3             NaN  NaN  NaN             1.0                 1.0   \n",
      "4             NaN  NaN  NaN             1.0                 1.0   \n",
      "\n",
      "   GCS_MotorResponse  daily_weight   stay_id  \n",
      "0           0.961905           NaN  34451212  \n",
      "1           0.961905           NaN  34451212  \n",
      "2           0.961905           NaN  34451212  \n",
      "3           1.000000           NaN  34451212  \n",
      "4           1.000000           NaN  34451212  \n",
      "\n",
      "[5 rows x 42 columns]\n"
     ]
    }
   ],
   "source": [
    "# output to /output/data/data_hourly_sample/state/stay_id_{selected_id}.csv\n",
    "from python.data_preprocessing.hourly_sample import hourly_sample_state\n",
    "import random\n",
    "import pandas as pd\n",
    "if os.path.exists('./output/data/data_hourly_sample/state'):shutil.rmtree('./output/data/data_hourly_sample/state')\n",
    "os.makedirs('./output/data/data_hourly_sample/state', exist_ok=True)\n",
    "\n",
    "df_state_space = pd.DataFrame()\n",
    "\n",
    "# FIXME: code for test\n",
    "selected_ids = random.sample(stay_ids, 100)\n",
    "print(f'Selected stay_id: {selected_ids}')\n",
    "# selected_id = 31872514\n",
    "for selected_id in selected_ids:\n",
    "    df_state_space=hourly_sample_state(df_state_space,selected_id, itemid_list_state, label_state, k = 10)\n",
    "    \n",
    "print(df_state_space.head())\n",
    "df_state_space.reset_index().to_csv(f'./output/data/data_hourly_sample/state/df_state_space.csv')\n"
   ]
  },
  {
   "cell_type": "markdown",
   "metadata": {},
   "source": [
    "## 4.1.2 combination\n",
    "combine the data with age, gender, survival situation in patient attribute"
   ]
  },
  {
   "cell_type": "code",
   "execution_count": 172,
   "metadata": {},
   "outputs": [],
   "source": [
    "import pandas as pd\n",
    "\n",
    "df_patient_attribute = pd.read_csv('./output/data/data_raw/PatientAttribute.csv', header=0)\n",
    "df_patient_attribute = df_patient_attribute.drop(0)\n",
    "\n",
    "# remove columns 'dod', 'gender', 'age'\n",
    "df_patient_attribute = df_patient_attribute.drop(['dod', 'gender', 'age'], axis=1)\n",
    "\n",
    "\n",
    "df_state_space_f = pd.merge(df_patient_attribute, df_state_space, on='stay_id', how='right')\n",
    "df_state_space_f.to_csv('./output/data/data_hourly_sample/state/df_state_space_f.csv', index=0)\n"
   ]
  },
  {
   "cell_type": "markdown",
   "metadata": {},
   "source": [
    "## 4.1.3 state cluster "
   ]
  },
  {
   "cell_type": "code",
   "execution_count": 182,
   "metadata": {},
   "outputs": [
    {
     "name": "stdout",
     "output_type": "stream",
     "text": [
      "Initialization complete\n",
      "Iteration 0, inertia 668.6179304419451.\n",
      "Iteration 1, inertia 496.24759045914345.\n",
      "Iteration 2, inertia 478.822751009294.\n",
      "Iteration 3, inertia 471.64875395257445.\n",
      "Iteration 4, inertia 468.6197438548077.\n",
      "Iteration 5, inertia 466.9691330422394.\n",
      "Iteration 6, inertia 464.5460559770887.\n",
      "Iteration 7, inertia 463.0013066896726.\n",
      "Iteration 8, inertia 461.765726650902.\n",
      "Iteration 9, inertia 461.4837322581118.\n",
      "Iteration 10, inertia 461.3339760447683.\n",
      "Iteration 11, inertia 461.12614599877134.\n",
      "Iteration 12, inertia 460.55842833662894.\n",
      "Iteration 13, inertia 458.7308179087561.\n",
      "Iteration 14, inertia 456.8117216710706.\n",
      "Iteration 15, inertia 455.87303789103197.\n",
      "Iteration 16, inertia 455.1775216129097.\n",
      "Iteration 17, inertia 454.56466203282787.\n",
      "Iteration 18, inertia 454.2811595510568.\n",
      "Iteration 19, inertia 453.90935298976024.\n",
      "Iteration 20, inertia 453.54408438233145.\n",
      "Iteration 21, inertia 453.1291806097605.\n",
      "Iteration 22, inertia 452.8319214370471.\n",
      "Iteration 23, inertia 452.60514335804737.\n",
      "Iteration 24, inertia 452.34966200443506.\n",
      "Iteration 25, inertia 452.1898773531268.\n",
      "Iteration 26, inertia 452.0045588324758.\n",
      "Iteration 27, inertia 451.84775133687856.\n",
      "Iteration 28, inertia 451.77679151287873.\n",
      "Iteration 29, inertia 451.7667101775417.\n",
      "Converged at iteration 29: center shift 1.003549923432358e-05 within tolerance 3.7498226610623366e-05.\n",
      "Initialization complete\n",
      "Iteration 0, inertia 675.7721373545664.\n",
      "Iteration 1, inertia 493.7805841453919.\n",
      "Iteration 2, inertia 482.87037813706087.\n",
      "Iteration 3, inertia 478.8983888896548.\n",
      "Iteration 4, inertia 474.566636466669.\n",
      "Iteration 5, inertia 471.19027022333375.\n",
      "Iteration 6, inertia 470.02253819550884.\n",
      "Iteration 7, inertia 469.5835579192553.\n",
      "Iteration 8, inertia 469.32724411981627.\n",
      "Iteration 9, inertia 469.1491024049477.\n",
      "Iteration 10, inertia 468.9061770457398.\n",
      "Iteration 11, inertia 468.6033524174575.\n",
      "Iteration 12, inertia 467.8004688715107.\n",
      "Iteration 13, inertia 467.10492435363847.\n",
      "Iteration 14, inertia 466.82156201529324.\n",
      "Iteration 15, inertia 466.712875978711.\n",
      "Iteration 16, inertia 466.7076781209608.\n",
      "Converged at iteration 16: strict convergence.\n",
      "Initialization complete\n",
      "Iteration 0, inertia 672.5937913662285.\n",
      "Iteration 1, inertia 468.09452263187035.\n",
      "Iteration 2, inertia 452.0648299933481.\n",
      "Iteration 3, inertia 448.21354597845755.\n",
      "Iteration 4, inertia 445.63068416838803.\n",
      "Iteration 5, inertia 443.1801964806663.\n",
      "Iteration 6, inertia 442.47238503438035.\n",
      "Iteration 7, inertia 441.89786545724144.\n",
      "Iteration 8, inertia 441.2406395047822.\n",
      "Iteration 9, inertia 440.03911684362004.\n",
      "Iteration 10, inertia 439.26355664795454.\n",
      "Iteration 11, inertia 438.9766436439047.\n",
      "Iteration 12, inertia 438.83502588866656.\n",
      "Iteration 13, inertia 438.8237492871521.\n",
      "Iteration 14, inertia 438.7987382650379.\n",
      "Iteration 15, inertia 438.79189270723435.\n",
      "Converged at iteration 15: strict convergence.\n",
      "Initialization complete\n",
      "Iteration 0, inertia 692.8744074835852.\n",
      "Iteration 1, inertia 500.8348699215878.\n",
      "Iteration 2, inertia 484.78453391121263.\n",
      "Iteration 3, inertia 479.1001192196996.\n",
      "Iteration 4, inertia 474.33881820395527.\n",
      "Iteration 5, inertia 471.0506593992425.\n",
      "Iteration 6, inertia 467.81175794020527.\n",
      "Iteration 7, inertia 466.6250219148776.\n",
      "Iteration 8, inertia 465.6963439310662.\n",
      "Iteration 9, inertia 465.1805138255905.\n",
      "Iteration 10, inertia 464.9350846980702.\n",
      "Iteration 11, inertia 464.8281761536733.\n",
      "Iteration 12, inertia 464.7512031749429.\n",
      "Iteration 13, inertia 464.73790108242383.\n",
      "Iteration 14, inertia 464.7188822131137.\n",
      "Iteration 15, inertia 464.7110170281222.\n",
      "Converged at iteration 15: center shift 2.5433613637115986e-05 within tolerance 3.7498226610623366e-05.\n",
      "Initialization complete\n",
      "Iteration 0, inertia 658.4635401721837.\n",
      "Iteration 1, inertia 489.3753490909128.\n",
      "Iteration 2, inertia 476.3645020126741.\n",
      "Iteration 3, inertia 471.2871768486661.\n",
      "Iteration 4, inertia 468.3129175283259.\n",
      "Iteration 5, inertia 467.0153218460745.\n",
      "Iteration 6, inertia 465.7065087184503.\n",
      "Iteration 7, inertia 464.24833502709964.\n",
      "Iteration 8, inertia 463.5131345658214.\n",
      "Iteration 9, inertia 462.73734627992167.\n",
      "Iteration 10, inertia 462.46625652884876.\n",
      "Iteration 11, inertia 462.2886789382368.\n",
      "Iteration 12, inertia 462.16237590697176.\n",
      "Iteration 13, inertia 462.149739826898.\n",
      "Converged at iteration 13: center shift 3.627175728109582e-05 within tolerance 3.7498226610623366e-05.\n",
      "[34 34 34 ... 41 41 41]\n"
     ]
    }
   ],
   "source": [
    "from sklearn.decomposition import NMF\n",
    "from sklearn.cluster import KMeans\n",
    "\n",
    "features = [label_state[itemid] for itemid in itemid_list_state] +['gender_n','age_n']\n",
    "features.remove('TemperatureC')\n",
    "\n",
    "# Convert your DataFrame to a matrix\n",
    "matrix = df_state_space_f[features].fillna(0).values\n",
    "\n",
    "# Apply NMF\n",
    "model = NMF(n_components=50, init='random', random_state=0)\n",
    "W = model.fit_transform(matrix)\n",
    "H = model.components_\n",
    "# print(H.shape)\n",
    "kmeans_train = KMeans(n_clusters=50, random_state=0, verbose=True, n_init=5).fit(W)\n",
    "state_clusters = kmeans_train.labels_\n",
    "\n",
    "\n"
   ]
  },
  {
   "cell_type": "markdown",
   "metadata": {},
   "source": [
    "### 4.1.4"
   ]
  },
  {
   "attachments": {},
   "cell_type": "markdown",
   "metadata": {},
   "source": [
    "## 4.2 Hourly Sample on Action Space"
   ]
  },
  {
   "attachments": {},
   "cell_type": "markdown",
   "metadata": {},
   "source": [
    "### 4.2.1 Hourly sample IV_fluid_bolus for both continuous and discrete action space"
   ]
  },
  {
   "cell_type": "code",
   "execution_count": 67,
   "metadata": {},
   "outputs": [],
   "source": [
    "# output to /output/data/data_hourly_sample/action/IV_fluid_bolus/stay_id_{selected_id}.csv\n",
    "from python.data_preprocessing.hourly_sample import hourly_sample_action_IV_fluid_bolus\n",
    "if os.path.exists('./output/data/data_hourly_sample/action/IV_fluid_bolus/'):shutil.rmtree('./output/data/data_hourly_sample/action/IV_fluid_bolus/')\n",
    "\n",
    "\n",
    "# selected_id = 31872514 # more than 72 hours ICU stay \n",
    "# print(f'Selected stay_id: {selected_id}')\n",
    "# hourly_sample_action_IV_fluid_bolus(selected_id)\n",
    "\n",
    "count = 0\n",
    "for selected_id in stay_ids:\n",
    "    try:\n",
    "        hourly_sample_action_IV_fluid_bolus(selected_id)\n",
    "    except:\n",
    "        # print(f'Error with {selected_id}')\n",
    "        count += 1\n",
    "print(f'Error count: {count}') # 911 out of 7404 stay_ids (12.3%) did not have IV_fluid_bolus. 7404 - 911 = 6493 (87.7%) stay_ids have IV_fluid_bolus"
   ]
  },
  {
   "attachments": {},
   "cell_type": "markdown",
   "metadata": {},
   "source": [
    "### 4.2.2 Hourly sample vasopressors_equivalent_dose for both continuous and discrete action space"
   ]
  },
  {
   "cell_type": "code",
   "execution_count": null,
   "metadata": {},
   "outputs": [
    {
     "name": "stdout",
     "output_type": "stream",
     "text": [
      "Error count: 4452\n"
     ]
    }
   ],
   "source": [
    "# output to /output/data/data_hourly_sample/action/vasopressors_equivalent_dose/stay_id_{selected_id}.csv\n",
    "from python.data_preprocessing.hourly_sample import hourly_sample_action_vasopressors_equivalent_dose\n",
    "if os.path.exists('./output/data/data_hourly_sample/action/vasopressors_equivalent_dose'):shutil.rmtree('./output/data/data_hourly_sample/action/vasopressors_equivalent_dose')\n",
    "\n",
    "\n",
    "# selected_id = 31872514 # more than 72 hours ICU stay \n",
    "# print(f'Selected stay_id: {selected_id}')\n",
    "# hourly_sample_action_vasopressors_equivalent_dose(selected_id)\n",
    "\n",
    "count = 0\n",
    "for selected_id in stay_ids:\n",
    "    try:\n",
    "        hourly_sample_action_vasopressors_equivalent_dose(selected_id)\n",
    "    except:\n",
    "        # print(f'Error with {selected_id}')\n",
    "        count += 1\n",
    "print(f'Error count: {count}') # 4452 out of 7404 stay_ids (60.1%) did not have vasopressors. 7404 - 4452 = 2952 (39.9%) stay_ids have vasopressors"
   ]
  }
 ],
 "metadata": {
  "kernelspec": {
   "display_name": "mimic",
   "language": "python",
   "name": "python3"
  },
  "language_info": {
   "codemirror_mode": {
    "name": "ipython",
    "version": 3
   },
   "file_extension": ".py",
   "mimetype": "text/x-python",
   "name": "python",
   "nbconvert_exporter": "python",
   "pygments_lexer": "ipython3",
   "version": "3.10.11"
  },
  "orig_nbformat": 4
 },
 "nbformat": 4,
 "nbformat_minor": 2
}
