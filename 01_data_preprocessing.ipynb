{
 "cells": [
  {
   "attachments": {},
   "cell_type": "markdown",
   "metadata": {},
   "source": [
    "MIMIC_Sepsis\n",
    "=================\n",
    "\n",
    "# 1 Preparation\n",
    "\n",
    "To run this document the following requirements must be satisfied:\n",
    "\n",
    "- Implement the database mimic in **PostgreSQL** and start it. The instruction can be seen [here](https://github.com/MIT-LCP/mimic-code/tree/main/mimic-iv/buildmimic/postgres). (The name of this environment should be **mimiciv**)\n",
    "- generate useful abstractions of raw MIMIC-IV data. The instruction be seen [here](https://github.com/MIT-LCP/mimic-code/tree/main/mimic-iv/concepts_postgres) \n",
    "\n",
    "\n",
    "\n",
    "To create an anaconda environment and install all the required libraries, uncomment following and run:"
   ]
  },
  {
   "cell_type": "code",
   "execution_count": 2,
   "metadata": {},
   "outputs": [],
   "source": [
    "#!conda create --name mimiciv_sepsis python=3.11\n",
    "#!conda activate mimiciv_sepsis\n",
    "#!pip install -r requirements.txt"
   ]
  },
  {
   "attachments": {},
   "cell_type": "markdown",
   "metadata": {},
   "source": [
    "Run the following cell to connect to the database."
   ]
  },
  {
   "cell_type": "code",
   "execution_count": 163,
   "metadata": {},
   "outputs": [
    {
     "name": "stdout",
     "output_type": "stream",
     "text": [
      "The autoreload extension is already loaded. To reload it, use:\n",
      "  %reload_ext autoreload\n"
     ]
    }
   ],
   "source": [
    "%load_ext autoreload\n",
    "%autoreload 2\n",
    "\n",
    "import psycopg2\n",
    "from psycopg2 import sql\n",
    "import csv\n",
    "import pandas as pd\n",
    "import numpy as np\n",
    "import os\n",
    "import shutil\n",
    "import csv\n",
    "from datetime import timedelta\n",
    "from sklearn.impute import KNNImputer\n",
    "from sklearn.neighbors import KNeighborsRegressor\n",
    "\n",
    "# implement the username, password and database name\n",
    "conn = psycopg2.connect(host='', user='', password='', database='mimiciv')"
   ]
  },
  {
   "attachments": {},
   "cell_type": "markdown",
   "metadata": {},
   "source": [
    "# 2 Extract selected data from the original database \n",
    "\n",
    "We extract the `state space` and `action space` respectively from the mimiciv database. The table `itemid_info/mimic4 itemid.csv` lists all the items required.\n",
    "\n",
    "***Uncomment the following cell if you first time run the code***"
   ]
  },
  {
   "cell_type": "code",
   "execution_count": 61,
   "metadata": {},
   "outputs": [
    {
     "name": "stdout",
     "output_type": "stream",
     "text": [
      "mimiciv_derived_sepsis.sepsis_patients_cohort is created\n",
      "mimiciv_derived_sepsis.sepsis_state is created\n",
      "mimiciv_derived_sepsis.sepsis_action_inputevents is created\n",
      "mimiciv_derived_sepsis.sepsis_action_vasopressors_equivalent_dose is created\n"
     ]
    }
   ],
   "source": [
    "# uncomment the this cell if you first time run the code\n",
    "\n",
    "# Read the SQL file\n",
    "\n",
    "try:\n",
    "    with open('sql/select_patients_cohort.sql', 'r') as file0:\n",
    "        sql_script_select_patients_cohort = file0.read()\n",
    "        \n",
    "    with open('sql/state_from_chartevents.sql', 'r') as file1:\n",
    "        sql_script_state = file1.read()\n",
    "\n",
    "    with open('sql/action_from_inputevents.sql', 'r') as file2:\n",
    "        sql_script_action_from_inputevents = file2.read()\n",
    "\n",
    "    with open('sql/action_from_vasopressors_equivalent_dose.sql', 'r') as file3:\n",
    "        sql_script_action_from_vasopressors_equivalent_dose = file3.read()\n",
    "\n",
    "    # Execute the SQL script and create the tables in schema mimiciv_derived_sepsis\n",
    "    cursor = conn.cursor()\n",
    "    \n",
    "    cursor.execute(sql.SQL(sql_script_select_patients_cohort))\n",
    "    print(\"mimiciv_derived_sepsis.sepsis_patients_cohort is created\")\n",
    "\n",
    "    cursor.execute(sql.SQL(sql_script_state))\n",
    "    print(\"mimiciv_derived_sepsis.sepsis_state is created\")\n",
    "\n",
    "    cursor.execute(sql.SQL(sql_script_action_from_inputevents))\n",
    "    print(\"mimiciv_derived_sepsis.sepsis_action_inputevents is created\")\n",
    "\n",
    "    cursor.execute(sql.SQL(sql_script_action_from_vasopressors_equivalent_dose))\n",
    "    print(\"mimiciv_derived_sepsis.sepsis_action_vasopressors_equivalent_dose is created\")\n",
    "\n",
    "    conn.commit()\n",
    "    cursor.close()\n",
    "    \n",
    "except (Exception, psycopg2.DatabaseError) as error:\n",
    "    print(\"Error executing SQL statement:\", error)"
   ]
  },
  {
   "attachments": {},
   "cell_type": "markdown",
   "metadata": {},
   "source": [
    "Get the number of stay_ids"
   ]
  },
  {
   "cell_type": "code",
   "execution_count": 164,
   "metadata": {},
   "outputs": [
    {
     "name": "stdout",
     "output_type": "stream",
     "text": [
      "Number of stay_ids: 7404\n"
     ]
    }
   ],
   "source": [
    "with conn.cursor() as cursor:\n",
    "    command = \"SELECT distinct stay_id FROM mimiciv_derived_sepsis.sepsis_patients_cohort;\"\n",
    "    cursor.execute(command)   \n",
    "    result = cursor.fetchall()\n",
    "    stay_ids= [row[0] for row in result]\n",
    "    num_stay_ids = len(stay_ids)\n",
    "    print('Number of stay_ids: ' + str(num_stay_ids))\n",
    "    cursor.close()"
   ]
  },
  {
   "attachments": {},
   "cell_type": "markdown",
   "metadata": {},
   "source": [
    "# 3 Data transfer"
   ]
  },
  {
   "attachments": {},
   "cell_type": "markdown",
   "metadata": {},
   "source": [
    "## 3.1 Data transfer of State Space\n",
    "We transfer the data of State Space from Postgresql to csv."
   ]
  },
  {
   "cell_type": "code",
   "execution_count": 171,
   "metadata": {},
   "outputs": [],
   "source": [
    "with conn.cursor() as cursor:\n",
    "    command = \"SELECT icu.stay_id, a.age, pat.gender, pat.dod FROM mimiciv_derived.age as a  INNER JOIN mimiciv_hosp.patients pat  ON a.subject_id = pat.subject_id INNER JOIN mimiciv_icu.icustays icu ON icu.subject_id = a.subject_id and icu.hadm_id=a.hadm_id INNER JOIN mimiciv_derived_sepsis.sepsis_patients_cohort sepsis ON sepsis.stay_id=icu.stay_id;\"\n",
    "    cursor.execute(command)   \n",
    "    result = cursor.fetchall()\n",
    "    cursor.close()\n",
    "df=pd.DataFrame(result)\n",
    "df.columns = ['stay_id', 'age', 'gender', 'dod']\n",
    "\n",
    "#binary\n",
    "df['dod_b']=df['dod'].apply(lambda x: 1 if x is not None else 0)\n",
    "\n",
    "# normailzation\n",
    "df['gender_n']=df['gender'].apply(lambda x: 1 if x=='M' else 0) \n",
    "df['age']=df['age'].astype(float)\n",
    "df['age_n']=(df['age']-df['age'].mean())/(df['age'].std())\n",
    "\n",
    "minimum = min(df['age_n'])\n",
    "maximum = max(df['age_n'])\n",
    "df['age_n'] = (df['age_n'] - minimum)/(maximum-minimum)\n",
    "\n",
    "\n",
    "df.to_csv('./output/data/data_raw/PatientAttribute.csv',index=0)"
   ]
  },
  {
   "cell_type": "code",
   "execution_count": 166,
   "metadata": {},
   "outputs": [
    {
     "name": "stdout",
     "output_type": "stream",
     "text": [
      "the total number of value is: 48\n",
      "output:Heartrate.csv                           \tpercent of stay_id:1.0\n",
      "output:ABPs.csv                                \tpercent of stay_id:0.297947055645597\n",
      "output:NBPs.csv                                \tpercent of stay_id:0.9777147487844409\n",
      "output:ABPd.csv                                \tpercent of stay_id:0.29808211777417615\n",
      "output:NBPd.csv                                \tpercent of stay_id:0.9775796866558617\n",
      "output:ABPm.csv                                \tpercent of stay_id:0.3024041058887088\n",
      "output:NBPm.csv                                \tpercent of stay_id:0.9775796866558617\n",
      "output:RespiratoryRate.csv                     \tpercent of stay_id:0.9998649378714208\n",
      "output:TemperatureF.csv                        \tpercent of stay_id:0.9706915180983252\n",
      "output:TemperatureC.csv                        \tpercent of stay_id:0.09805510534846029\n",
      "output:PH_A.csv                                \tpercent of stay_id:0.531334413830362\n",
      "output:PH_V.csv                                \tpercent of stay_id:0.4211237169097785\n",
      "output:ABE.csv                                 \tpercent of stay_id:0.5287682333873582\n",
      "output:Hematocrit_serum.csv                    \tpercent of stay_id:0.9901404646137223\n",
      "drop:Hematocrit_wholeblood.csv               \tnumber of stay_id:1124\n",
      "output:Hemoglobin.csv                          \tpercent of stay_id:0.9893300918422474\n",
      "output:Platele.csv                             \tpercent of stay_id:0.9891950297136682\n",
      "output:WBC.csv                                 \tpercent of stay_id:0.9896002160994057\n",
      "output:Chloride_serum.csv                      \tpercent of stay_id:0.9931118314424635\n",
      "drop:Chloride_wholeblood.csv                 \tnumber of stay_id:952\n",
      "output:Calcium_ion.csv                         \tpercent of stay_id:0.4863587250135062\n",
      "output:Calcium_nonion.csv                      \tpercent of stay_id:0.9800108049702864\n",
      "output:Potassium_serum.csv                     \tpercent of stay_id:0.9931118314424635\n",
      "output:Potassium_wholeblood.csv                \tpercent of stay_id:0.2747163695299838\n",
      "output:Sodium_serum.csv                        \tpercent of stay_id:0.9929767693138843\n",
      "drop:Sodium_wholeblood.csv                   \tnumber of stay_id:1247\n",
      "output:ProthrombinTime.csv                     \tpercent of stay_id:0.8876283090221502\n",
      "output:PTT.csv                                 \tpercent of stay_id:0.8803349540788763\n",
      "output:INR.csv                                 \tpercent of stay_id:0.8876283090221502\n",
      "output:SaO2.csv                                \tpercent of stay_id:0.23325229605618583\n",
      "output:SpO2.csv                                \tpercent of stay_id:0.9994597514856834\n",
      "Error executing SQL statement: Length mismatch: Expected axis has 0 elements, new values have 3 elements\n",
      "drop:PaO2.csv                                \tnumber of stay_id:0\n",
      "output:PaCO2.csv                               \tpercent of stay_id:0.5287682333873582\n",
      "output:FiO2.csv                                \tpercent of stay_id:0.5990005402485143\n",
      "output:BUN.csv                                 \tpercent of stay_id:0.9929767693138843\n",
      "output:Creatinine_serum.csv                    \tpercent of stay_id:0.9931118314424635\n",
      "drop:Creatinine_wholeblood.csv               \tnumber of stay_id:33\n",
      "output:Albumin.csv                             \tpercent of stay_id:0.4647487844408428\n",
      "output:AnionGap.csv                            \tpercent of stay_id:0.9929767693138843\n",
      "output:TotalBilirubin.csv                      \tpercent of stay_id:0.678011885467315\n",
      "drop:DirectBilirubin.csv                     \tnumber of stay_id:632\n",
      "output:ALT.csv                                 \tpercent of stay_id:0.6750405186385737\n",
      "output:AST.csv                                 \tpercent of stay_id:0.6747703943814155\n",
      "drop:UrineOutput.csv                         \tnumber of stay_id:1\n",
      "output:GCS_EyeOpening.csv                      \tpercent of stay_id:0.9998649378714208\n",
      "output:GCS_VerbalResponse.csv                  \tpercent of stay_id:0.9997298757428417\n",
      "output:GCS_MotorResponse.csv                   \tpercent of stay_id:0.9997298757428417\n",
      "output:daily_weight.csv                        \tpercent of stay_id:0.401269584008644\n",
      "the number remain is: 41\n"
     ]
    }
   ],
   "source": [
    "# output to /output/data/data_raw/state/{state_name}.csv\n",
    "from python.data_preprocessing.data_transfer import data_transfer_state\n",
    "\n",
    "itemid_list_state, label_state = data_transfer_state(conn, num_stay_ids, percent=0.2)"
   ]
  },
  {
   "attachments": {},
   "cell_type": "markdown",
   "metadata": {},
   "source": [
    "## 3.2 Data transfer of Action Space"
   ]
  },
  {
   "attachments": {},
   "cell_type": "markdown",
   "metadata": {},
   "source": [
    "### 3.2.1 Data transfer of Action Space for *IV fluid bolus*\n",
    "\n",
    " - IV fluid bolus\n",
    "   - NaCl_0.9%\n",
    "   - Dextrose_5%"
   ]
  },
  {
   "cell_type": "code",
   "execution_count": 167,
   "metadata": {},
   "outputs": [
    {
     "name": "stdout",
     "output_type": "stream",
     "text": [
      "output action (IV_fluid_bolus):\tNaCl_0_9%.csv\n",
      "output action (IV_fluid_bolus):\tDextrose_5%.csv\n"
     ]
    }
   ],
   "source": [
    "# output to /output/data/data_raw/action/IV_fluid_bolus/{IV_fluid_bolus_name}.csv\n",
    "from python.data_preprocessing.data_transfer import data_transfer_action_IV_fluid_bolus\n",
    "\n",
    "data_transfer_action_IV_fluid_bolus(conn)"
   ]
  },
  {
   "attachments": {},
   "cell_type": "markdown",
   "metadata": {},
   "source": [
    "### 3.2.2 Data transfer of Action Space for *Vasopressors*\n",
    "\n",
    "we directly obtain `vasopressors_equivalent_dose` \n",
    "\n",
    "from `mimiciv_derived.norepinephrine_equivalent_dose` \n",
    "\n",
    "based on *\"Vasopressor dose equivalence: A scoping review and suggested formula\" by Goradia et al. 2020*."
   ]
  },
  {
   "cell_type": "code",
   "execution_count": 65,
   "metadata": {},
   "outputs": [
    {
     "name": "stdout",
     "output_type": "stream",
     "text": [
      "output action (vasopressors): vasopressors_equivalent_dose.csv\n"
     ]
    }
   ],
   "source": [
    "# output to /output/data/data_raw/action/vasopressors/vasopressors_equivalent_dose.csv\n",
    "from python.data_preprocessing.data_transfer import data_transfer_action_vasopressors_equivalent_dose\n",
    "\n",
    "data_transfer_action_vasopressors_equivalent_dose(conn)"
   ]
  },
  {
   "attachments": {},
   "cell_type": "markdown",
   "metadata": {},
   "source": [
    "# 4 Data Summerization"
   ]
  },
  {
   "attachments": {},
   "cell_type": "markdown",
   "metadata": {},
   "source": [
    "## 4.1 Hourly Sample on State Space"
   ]
  },
  {
   "cell_type": "code",
   "execution_count": 183,
   "metadata": {},
   "outputs": [
    {
     "name": "stdout",
     "output_type": "stream",
     "text": [
      "Selected stay_id: [34432639, 35315630, 38177733, 38767530, 33964764, 30786517, 37557889, 37060968, 36295227, 39630960, 34214907, 32426428, 30549305, 34159068, 32711341, 35762622, 39278882, 31692677, 38166910, 38156966, 39941216, 38596785, 32087573, 35023608, 32843623, 34132133, 35318495, 36541777, 34738470, 34323089, 36294431, 38106109, 39152047, 33359225, 30173142, 38385027, 32853022, 34742470, 38721211, 30304963, 31005604, 33489691, 39018405, 31458920, 36915920, 31248750, 38647301, 39769567, 32148424, 32026944, 39405426, 30612444, 30788548, 36223052, 39406735, 34817308, 33072984, 30434359, 31568756, 32126135, 37756371, 35648262, 38611971, 31165541, 33050386, 34428987, 38273797, 31005487, 33737462, 34658152, 35168141, 39367894, 36704141, 31024755, 33769887, 38910328, 34856610, 33370280, 39286395, 32765573, 38418446, 30705620, 37919107, 31173738, 36344664, 37729145, 30675827, 35668605, 31035526, 39835926, 32231504, 33701270, 32043051, 36011240, 37035646, 37230660, 36408687, 31456226, 34574934, 39275599]\n"
     ]
    },
    {
     "name": "stderr",
     "output_type": "stream",
     "text": [
      "100%|██████████| 100/100 [04:50<00:00,  2.90s/it]\n"
     ]
    }
   ],
   "source": [
    "# output to /output/data/data_hourly_sample/state/stay_id_{selected_id}.csv\n",
    "from python.data_preprocessing.hourly_sample import hourly_sample_state\n",
    "import random\n",
    "import pandas as pd\n",
    "from tqdm import tqdm\n",
    "if os.path.exists('./output/data/data_hourly_sample/state'):shutil.rmtree('./output/data/data_hourly_sample/state')\n",
    "os.makedirs('./output/data/data_hourly_sample/state', exist_ok=True)\n",
    "\n",
    "df_state_space = pd.DataFrame()\n",
    "\n",
    "# FIXME: code for test\n",
    "selected_ids = random.sample(stay_ids, 100)\n",
    "print(f'Selected stay_id: {selected_ids}')\n",
    "# selected_id = 31872514\n",
    "for selected_id in tqdm(selected_ids):\n",
    "    df_state_space=hourly_sample_state(df_state_space,selected_id, itemid_list_state, label_state, k = 10)\n",
    "    \n",
    "df_state_space.reset_index().to_csv(f'./output/data/data_hourly_sample/state/df_state_space.csv')\n"
   ]
  },
  {
   "cell_type": "markdown",
   "metadata": {},
   "source": [
    "## 4.1.2 combination\n",
    "combine the data with age, gender, survival situation in patient attribute"
   ]
  },
  {
   "cell_type": "code",
   "execution_count": 184,
   "metadata": {},
   "outputs": [],
   "source": [
    "import pandas as pd\n",
    "\n",
    "df_patient_attribute = pd.read_csv('./output/data/data_raw/PatientAttribute.csv', header=0)\n",
    "df_patient_attribute = df_patient_attribute.drop(0)\n",
    "\n",
    "# remove columns 'dod', 'gender', 'age'\n",
    "df_patient_attribute = df_patient_attribute.drop(['dod', 'gender', 'age'], axis=1)\n",
    "\n",
    "\n",
    "df_state_space_f = pd.merge(df_patient_attribute, df_state_space, on='stay_id', how='right')\n",
    "df_state_space_f.to_csv('./output/data/data_hourly_sample/state/df_state_space_f.csv', index=0)\n"
   ]
  },
  {
   "cell_type": "markdown",
   "metadata": {},
   "source": [
    "## 4.1.3 state cluster "
   ]
  },
  {
   "cell_type": "code",
   "execution_count": 187,
   "metadata": {},
   "outputs": [
    {
     "name": "stdout",
     "output_type": "stream",
     "text": [
      "Initialization complete\n",
      "Iteration 0, inertia 534.1545887783366.\n",
      "Iteration 1, inertia 399.4514861783373.\n",
      "Iteration 2, inertia 391.8797539505227.\n",
      "Iteration 3, inertia 387.582122447381.\n",
      "Iteration 4, inertia 384.69072988976825.\n",
      "Iteration 5, inertia 383.74395187171854.\n",
      "Iteration 6, inertia 383.2288143170326.\n",
      "Iteration 7, inertia 383.02462530244134.\n",
      "Iteration 8, inertia 382.89115290951224.\n",
      "Iteration 9, inertia 382.75619229832046.\n",
      "Iteration 10, inertia 382.57986252633725.\n",
      "Iteration 11, inertia 382.4981038431745.\n",
      "Iteration 12, inertia 382.4046307597723.\n",
      "Iteration 13, inertia 382.3401078707655.\n",
      "Iteration 14, inertia 382.25276337999105.\n",
      "Iteration 15, inertia 382.1689414017759.\n",
      "Iteration 16, inertia 382.13228854758717.\n",
      "Iteration 17, inertia 382.1284920780507.\n",
      "Converged at iteration 17: strict convergence.\n",
      "Initialization complete\n",
      "Iteration 0, inertia 539.3127618127252.\n",
      "Iteration 1, inertia 395.50175425423856.\n",
      "Iteration 2, inertia 388.6651872546686.\n",
      "Iteration 3, inertia 384.99507575904744.\n",
      "Iteration 4, inertia 381.5310782787638.\n",
      "Iteration 5, inertia 378.97549203618405.\n",
      "Iteration 6, inertia 377.6025781918652.\n",
      "Iteration 7, inertia 376.9630418245557.\n",
      "Iteration 8, inertia 376.7313226153677.\n",
      "Iteration 9, inertia 376.51490226552744.\n",
      "Iteration 10, inertia 376.31948368743696.\n",
      "Iteration 11, inertia 376.16471848315945.\n",
      "Iteration 12, inertia 375.78386828093534.\n",
      "Iteration 13, inertia 375.5651174888201.\n",
      "Iteration 14, inertia 375.414484503067.\n",
      "Iteration 15, inertia 375.27846254362555.\n",
      "Iteration 16, inertia 374.93550223128517.\n",
      "Iteration 17, inertia 374.7018446945502.\n",
      "Iteration 18, inertia 374.60686183272276.\n",
      "Iteration 19, inertia 374.5618974073387.\n",
      "Iteration 20, inertia 374.52446924843315.\n",
      "Iteration 21, inertia 374.52153628298834.\n",
      "Converged at iteration 21: strict convergence.\n",
      "Initialization complete\n",
      "Iteration 0, inertia 517.67543267914.\n",
      "Iteration 1, inertia 389.053876582802.\n",
      "Iteration 2, inertia 379.4008922346106.\n",
      "Iteration 3, inertia 375.8797873365229.\n",
      "Iteration 4, inertia 373.70209942433513.\n",
      "Iteration 5, inertia 373.1467001142339.\n",
      "Iteration 6, inertia 372.1103321993897.\n",
      "Iteration 7, inertia 370.3595080608952.\n",
      "Iteration 8, inertia 369.2758033426604.\n",
      "Iteration 9, inertia 369.00942142569954.\n",
      "Iteration 10, inertia 368.94844054028613.\n",
      "Converged at iteration 10: strict convergence.\n",
      "Initialization complete\n",
      "Iteration 0, inertia 520.0039823078473.\n",
      "Iteration 1, inertia 388.1859110014642.\n",
      "Iteration 2, inertia 380.6772955747876.\n",
      "Iteration 3, inertia 378.0614015340364.\n",
      "Iteration 4, inertia 376.6889715754361.\n",
      "Iteration 5, inertia 376.1658469346616.\n",
      "Iteration 6, inertia 375.58782165591856.\n",
      "Iteration 7, inertia 375.1333339910483.\n",
      "Iteration 8, inertia 374.77070708178746.\n",
      "Iteration 9, inertia 374.6678923984756.\n",
      "Iteration 10, inertia 374.647937271363.\n",
      "Iteration 11, inertia 374.6306668322241.\n",
      "Iteration 12, inertia 374.62069197965246.\n",
      "Iteration 13, inertia 374.6180862628672.\n",
      "Converged at iteration 13: center shift 1.3351595631609e-06 within tolerance 3.508345184106025e-06.\n",
      "Initialization complete\n",
      "Iteration 0, inertia 567.7189728127355.\n",
      "Iteration 1, inertia 410.73447241836857.\n",
      "Iteration 2, inertia 397.1457695688216.\n",
      "Iteration 3, inertia 388.8788766376227.\n",
      "Iteration 4, inertia 384.5540376231728.\n",
      "Iteration 5, inertia 381.80951731863496.\n",
      "Iteration 6, inertia 381.06133093955066.\n",
      "Iteration 7, inertia 380.8145381299124.\n",
      "Iteration 8, inertia 380.5620143193894.\n",
      "Iteration 9, inertia 380.4791583629469.\n",
      "Iteration 10, inertia 380.4718125079612.\n",
      "Converged at iteration 10: strict convergence.\n",
      "(4238, 45)\n",
      "(4238, 50)\n",
      "(4238,)\n"
     ]
    }
   ],
   "source": [
    "from sklearn.decomposition import NMF\n",
    "from sklearn.cluster import KMeans\n",
    "\n",
    "cluster_num = 50\n",
    "\n",
    "features = [label_state[itemid] for itemid in itemid_list_state] +['gender_n','age_n']\n",
    "features.remove('TemperatureC')\n",
    "\n",
    "# Convert your DataFrame to a matrix\n",
    "matrix = df_state_space_f[features].fillna(0).values\n",
    "\n",
    "# Apply NMF\n",
    "model = NMF(n_components=cluster_num, init='random', random_state=0)\n",
    "W = model.fit_transform(matrix)\n",
    "H = model.components_\n",
    "# print(H.shape)\n",
    "kmeans_train = KMeans(n_clusters=cluster_num, random_state=0, verbose=True, n_init=5).fit(W)\n",
    "\n",
    "\n"
   ]
  },
  {
   "cell_type": "markdown",
   "metadata": {},
   "source": [
    "### 4.1.4 assemble all the data related to state"
   ]
  },
  {
   "cell_type": "code",
   "execution_count": 190,
   "metadata": {},
   "outputs": [],
   "source": [
    "state_clusters = kmeans_train.labels_\n",
    "state_set_final = pd.DataFrame()\n",
    "state_set_final['stay_id']=df_state_space_f['stay_id']\n",
    "state_set_final['chartdatetime']=df_state_space_f['chartdatetime']\n",
    "state_set_final['state']=state_clusters\n",
    "state_set_final['mortality']=df_state_space_f['dod_b']\n",
    "\n",
    "#FIXME: still missing: reward ,action\n"
   ]
  },
  {
   "attachments": {},
   "cell_type": "markdown",
   "metadata": {},
   "source": [
    "## 4.2 Hourly Sample on Action Space"
   ]
  },
  {
   "attachments": {},
   "cell_type": "markdown",
   "metadata": {},
   "source": [
    "### 4.2.1 Hourly sample IV_fluid_bolus for both continuous and discrete action space"
   ]
  },
  {
   "cell_type": "code",
   "execution_count": 67,
   "metadata": {},
   "outputs": [],
   "source": [
    "# output to /output/data/data_hourly_sample/action/IV_fluid_bolus/stay_id_{selected_id}.csv\n",
    "from python.data_preprocessing.hourly_sample import hourly_sample_action_IV_fluid_bolus\n",
    "if os.path.exists('./output/data/data_hourly_sample/action/IV_fluid_bolus/'):shutil.rmtree('./output/data/data_hourly_sample/action/IV_fluid_bolus/')\n",
    "\n",
    "\n",
    "# selected_id = 31872514 # more than 72 hours ICU stay \n",
    "# print(f'Selected stay_id: {selected_id}')\n",
    "# hourly_sample_action_IV_fluid_bolus(selected_id)\n",
    "\n",
    "count = 0\n",
    "for selected_id in stay_ids:\n",
    "    try:\n",
    "        hourly_sample_action_IV_fluid_bolus(selected_id)\n",
    "    except:\n",
    "        # print(f'Error with {selected_id}')\n",
    "        count += 1\n",
    "print(f'Error count: {count}') # 911 out of 7404 stay_ids (12.3%) did not have IV_fluid_bolus. 7404 - 911 = 6493 (87.7%) stay_ids have IV_fluid_bolus"
   ]
  },
  {
   "attachments": {},
   "cell_type": "markdown",
   "metadata": {},
   "source": [
    "### 4.2.2 Hourly sample vasopressors_equivalent_dose for both continuous and discrete action space"
   ]
  },
  {
   "cell_type": "code",
   "execution_count": null,
   "metadata": {},
   "outputs": [
    {
     "name": "stdout",
     "output_type": "stream",
     "text": [
      "Error count: 4452\n"
     ]
    }
   ],
   "source": [
    "# output to /output/data/data_hourly_sample/action/vasopressors_equivalent_dose/stay_id_{selected_id}.csv\n",
    "from python.data_preprocessing.hourly_sample import hourly_sample_action_vasopressors_equivalent_dose\n",
    "if os.path.exists('./output/data/data_hourly_sample/action/vasopressors_equivalent_dose'):shutil.rmtree('./output/data/data_hourly_sample/action/vasopressors_equivalent_dose')\n",
    "\n",
    "\n",
    "# selected_id = 31872514 # more than 72 hours ICU stay \n",
    "# print(f'Selected stay_id: {selected_id}')\n",
    "# hourly_sample_action_vasopressors_equivalent_dose(selected_id)\n",
    "\n",
    "count = 0\n",
    "for selected_id in stay_ids:\n",
    "    try:\n",
    "        hourly_sample_action_vasopressors_equivalent_dose(selected_id)\n",
    "    except:\n",
    "        # print(f'Error with {selected_id}')\n",
    "        count += 1\n",
    "print(f'Error count: {count}') # 4452 out of 7404 stay_ids (60.1%) did not have vasopressors. 7404 - 4452 = 2952 (39.9%) stay_ids have vasopressors"
   ]
  }
 ],
 "metadata": {
  "kernelspec": {
   "display_name": "mimic",
   "language": "python",
   "name": "python3"
  },
  "language_info": {
   "codemirror_mode": {
    "name": "ipython",
    "version": 3
   },
   "file_extension": ".py",
   "mimetype": "text/x-python",
   "name": "python",
   "nbconvert_exporter": "python",
   "pygments_lexer": "ipython3",
   "version": "3.10.11"
  },
  "orig_nbformat": 4
 },
 "nbformat": 4,
 "nbformat_minor": 2
}
