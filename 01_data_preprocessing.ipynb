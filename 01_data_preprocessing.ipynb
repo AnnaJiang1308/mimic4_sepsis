{
 "cells": [
  {
   "attachments": {},
   "cell_type": "markdown",
   "metadata": {},
   "source": [
    "MIMIC_Sepsis\n",
    "=================\n",
    "\n",
    "# 1 Preparation\n",
    "\n",
    "To run this document the following requirements must be satisfied:\n",
    "\n",
    "- Implement the database mimic in **PostgreSQL** and start it. The instruction can be seen [here](https://github.com/MIT-LCP/mimic-code/tree/main/mimic-iv/buildmimic/postgres). (The name of this environment should be **mimiciv**)\n",
    "- generate useful abstractions of raw MIMIC-IV data. The instruction be seen [here](https://github.com/MIT-LCP/mimic-code/tree/main/mimic-iv/concepts_postgres) \n",
    "\n",
    "\n",
    "\n",
    "To install all the required libraries, uncomment following and run:"
   ]
  },
  {
   "cell_type": "code",
   "execution_count": 46,
   "metadata": {},
   "outputs": [],
   "source": [
    "# !pip install -r requirements.txt"
   ]
  },
  {
   "attachments": {},
   "cell_type": "markdown",
   "metadata": {},
   "source": [
    "Run the following cell to connect to the database."
   ]
  },
  {
   "cell_type": "code",
   "execution_count": 47,
   "metadata": {},
   "outputs": [
    {
     "name": "stdout",
     "output_type": "stream",
     "text": [
      "The autoreload extension is already loaded. To reload it, use:\n",
      "  %reload_ext autoreload\n"
     ]
    }
   ],
   "source": [
    "%load_ext autoreload\n",
    "%autoreload 2\n",
    "\n",
    "import psycopg2\n",
    "from psycopg2 import sql\n",
    "import csv\n",
    "import pandas as pd\n",
    "import numpy as np\n",
    "import os\n",
    "import shutil\n",
    "import csv\n",
    "from datetime import timedelta\n",
    "from sklearn.impute import KNNImputer\n",
    "from sklearn.neighbors import KNeighborsRegressor\n",
    "\n",
    "# implement the username, password and database name\n",
    "conn = psycopg2.connect(host='', user='', password='', database='mimiciv')"
   ]
  },
  {
   "attachments": {},
   "cell_type": "markdown",
   "metadata": {},
   "source": [
    "# 2 Extract selected data from the original database \n",
    "\n",
    "According to the paper we need to extract the **state space** and **action space** respectively from the mimiciv database. The table **mimic4 itemid.csv** lists all the items required.\n",
    "\n",
    "***Uncomment the following line if you first time run the code***"
   ]
  },
  {
   "cell_type": "code",
   "execution_count": 48,
   "metadata": {},
   "outputs": [],
   "source": [
    "# # uncomment the following line if you first time run the code\n",
    "\n",
    "# # Read the SQL file\n",
    "\n",
    "# try:\n",
    "#     with open('sql/select_patients_cohort.sql', 'r') as file0:\n",
    "#         sql_script_select_patients_cohort = file0.read()\n",
    "        \n",
    "#     with open('sql/state_from_chartevents.sql', 'r') as file1:\n",
    "#         sql_script_state = file1.read()\n",
    "\n",
    "#     with open('sql/action_from_inputevents.sql', 'r') as file2:\n",
    "#         sql_script_action = file2.read()\n",
    "\n",
    "#     # Execute the SQL script\n",
    "#     cursor = conn.cursor()\n",
    "    \n",
    "#     cursor.execute(sql.SQL(sql_script_select_patients_cohort))\n",
    "#     cursor.execute(sql.SQL(sql_script_state))\n",
    "#     cursor.execute(sql.SQL(sql_script_action))\n",
    "\n",
    "#     conn.commit()\n",
    "#     cursor.close()\n",
    "    \n",
    "# except (Exception, psycopg2.DatabaseError) as error:\n",
    "#     print(\"Error executing SQL statement:\", error)"
   ]
  },
  {
   "attachments": {},
   "cell_type": "markdown",
   "metadata": {},
   "source": [
    "Get the number of stay_ids"
   ]
  },
  {
   "cell_type": "code",
   "execution_count": 49,
   "metadata": {},
   "outputs": [
    {
     "name": "stdout",
     "output_type": "stream",
     "text": [
      "Number of stay_ids: 6669\n"
     ]
    }
   ],
   "source": [
    "with conn.cursor() as cursor:\n",
    "    command = \"SELECT distinct stay_id FROM mimiciv_derived.sepsis_patients_cohort;\"\n",
    "    cursor.execute(command)   \n",
    "    result = cursor.fetchall()\n",
    "    stay_ids= [row[0] for row in result]\n",
    "    num_stay_ids = len(stay_ids)\n",
    "    print('Number of stay_ids: ' + str(num_stay_ids))\n",
    "    cursor.close()"
   ]
  },
  {
   "attachments": {},
   "cell_type": "markdown",
   "metadata": {},
   "source": [
    "# 3 Data transfer"
   ]
  },
  {
   "attachments": {},
   "cell_type": "markdown",
   "metadata": {},
   "source": [
    "## 3.1 Data transfer of State Space\n",
    "We transfer the data of State Space from Postgresql to csv."
   ]
  },
  {
   "cell_type": "code",
   "execution_count": 50,
   "metadata": {},
   "outputs": [
    {
     "name": "stdout",
     "output_type": "stream",
     "text": [
      "output:Heartrate.csv                           \tnumber of stay_id:6669\n",
      "output:ABPs.csv                                \tnumber of stay_id:2129\n",
      "output:NBPs.csv                                \tnumber of stay_id:6632\n",
      "output:ABPd.csv                                \tnumber of stay_id:2131\n",
      "output:NBPd.csv                                \tnumber of stay_id:6632\n",
      "output:ABPm.csv                                \tnumber of stay_id:2168\n",
      "output:NBPm.csv                                \tnumber of stay_id:6632\n",
      "output:RespiratoryRate.csv                     \tnumber of stay_id:6669\n",
      "output:TemperatureF.csv                        \tnumber of stay_id:6576\n",
      "output:TemperatureC.csv                        \tnumber of stay_id:832\n",
      "output:PH_A.csv                                \tnumber of stay_id:3663\n",
      "output:PH_V.csv                                \tnumber of stay_id:3184\n",
      "output:ABE.csv                                 \tnumber of stay_id:3645\n",
      "output:Hematocrit_serum.csv                    \tnumber of stay_id:6596\n",
      "output:Hematocrit_wholeblood.csv               \tnumber of stay_id:1200\n",
      "output:Hemoglobin.csv                          \tnumber of stay_id:6591\n",
      "output:Platele.csv                             \tnumber of stay_id:6591\n",
      "output:WBC.csv                                 \tnumber of stay_id:6593\n",
      "output:Chloride_serum.csv                      \tnumber of stay_id:6618\n",
      "output:Chloride_wholeblood.csv                 \tnumber of stay_id:1058\n",
      "output:Calcium_ion.csv                         \tnumber of stay_id:3459\n",
      "output:Calcium_nonion.csv                      \tnumber of stay_id:6549\n",
      "output:Potassium_serum.csv                     \tnumber of stay_id:6617\n",
      "output:Potassium_wholeblood.csv                \tnumber of stay_id:2181\n",
      "output:Sodium_serum.csv                        \tnumber of stay_id:6617\n",
      "output:Sodium_wholeblood.csv                   \tnumber of stay_id:1401\n",
      "output:ProthrombinTime.csv                     \tnumber of stay_id:6011\n",
      "output:PTT.csv                                 \tnumber of stay_id:5970\n",
      "output:INR.csv                                 \tnumber of stay_id:6011\n",
      "output:SaO2.csv                                \tnumber of stay_id:1905\n",
      "output:SpO2.csv                                \tnumber of stay_id:6665\n",
      "Error executing SQL statement: Length mismatch: Expected axis has 0 elements, new values have 3 elements\n",
      "drop:PaO2.csv                                \tnumber of stay_id:0\n",
      "output:PaCO2.csv                               \tnumber of stay_id:3645\n",
      "output:FiO2.csv                                \tnumber of stay_id:4044\n",
      "output:BUN.csv                                 \tnumber of stay_id:6616\n",
      "output:Creatinine_serum.csv                    \tnumber of stay_id:6618\n",
      "output:Creatinine_wholeblood.csv               \tnumber of stay_id:40\n",
      "output:Albumin.csv                             \tnumber of stay_id:3608\n",
      "output:AnionGap.csv                            \tnumber of stay_id:6617\n",
      "output:TotalBilirubin.csv                      \tnumber of stay_id:4797\n",
      "output:DirectBilirubin.csv                     \tnumber of stay_id:818\n",
      "output:ALT.csv                                 \tnumber of stay_id:4771\n",
      "output:AST.csv                                 \tnumber of stay_id:4769\n",
      "drop:UrineOutput.csv                         \tnumber of stay_id:1\n",
      "output:GCS_EyeOpening.csv                      \tnumber of stay_id:6669\n",
      "output:GCS_VerbalResponse.csv                  \tnumber of stay_id:6668\n",
      "output:GCS_MotorResponse.csv                   \tnumber of stay_id:6668\n",
      "['220045', '220050', '220179', '220051', '220180', '220052', '220181', '220210', '223761', '223762', '223830', '220274', '224828', '220545', '226540', '220228', '227457', '220546', '220602', '226536', '225667', '225625', '227442', '227464', '220645', '226534', '227465', '227466', '227467', '220227', '220277', '220235', '223835', '225624', '220615', '229761', '227456', '227073', '225690', '225651', '220644', '220587', '220739', '223900', '223901']\n"
     ]
    }
   ],
   "source": [
    "from python.data_preprocessing.data_transfer import data_transfer_state\n",
    "data_transfer_state(conn, num_stay_ids, threshold = 1000)"
   ]
  },
  {
   "attachments": {},
   "cell_type": "markdown",
   "metadata": {},
   "source": [
    "## 3.2 Data transfer of Action Space\n",
    "\n",
    "In *3.2.1* we transfer data of following actions from Postgresql to csv:\n",
    "\n",
    " - IV fluid bolus\n",
    "   - NaCl_0.9%\n",
    "   - Dextrose_5%\n",
    "\n",
    "\n",
    "After calculation and comparison, in *3.2.2* we will omit the two insignificant vasopressors: Dobutamine and Milrinone.\n",
    "\n",
    "So that in *3.2.3* we can directly obtain a vasopressors_norepinephrine_equivalent_dose based on \"Vasopressor dose equivalence: A scoping review and suggested formula\" by Goradia et al. 2020."
   ]
  },
  {
   "attachments": {},
   "cell_type": "markdown",
   "metadata": {},
   "source": [
    "### 3.2.1 Data transfer of Action Space for *IV fluid bolus*\n",
    "\n",
    " - IV fluid bolus\n",
    "   - NaCl_0.9%\n",
    "   - Dextrose_5%"
   ]
  },
  {
   "cell_type": "code",
   "execution_count": 51,
   "metadata": {},
   "outputs": [
    {
     "name": "stdout",
     "output_type": "stream",
     "text": [
      "output action (IV_fluid_bolus):\tNaCl_0_9%.csv\n",
      "output action (IV_fluid_bolus):\tDextrose_5%.csv\n"
     ]
    }
   ],
   "source": [
    "from python.data_preprocessing.data_transfer import data_transfer_action_IV_fluid_bolus\n",
    "data_transfer_action_IV_fluid_bolus(conn)"
   ]
  },
  {
   "attachments": {},
   "cell_type": "markdown",
   "metadata": {},
   "source": [
    "### 3.2.2 Data transfer of Action Space for *Vasopressors*\n",
    "\n",
    "we directly obtain `vasopressors_norepinephrine_equivalent_dose` \n",
    "\n",
    "from `mimiciv_derived.norepinephrine_equivalent_dose` \n",
    "\n",
    "based on *\"Vasopressor dose equivalence: A scoping review and suggested formula\" by Goradia et al. 2020*."
   ]
  },
  {
   "cell_type": "code",
   "execution_count": 53,
   "metadata": {},
   "outputs": [
    {
     "name": "stdout",
     "output_type": "stream",
     "text": [
      "output action (vasopressors): vasopressors_norepinephrine_equivalent_dose.csv\n"
     ]
    }
   ],
   "source": [
    "from python.data_preprocessing.data_transfer import data_transfer_action_vasopressors_equivalent_dose\n",
    "data_transfer_action_vasopressors_equivalent_dose(conn)"
   ]
  },
  {
   "attachments": {},
   "cell_type": "markdown",
   "metadata": {},
   "source": [
    "# 4 Hourly Sample"
   ]
  },
  {
   "attachments": {},
   "cell_type": "markdown",
   "metadata": {},
   "source": [
    "## 4.1 Hourly Sample on State Space"
   ]
  },
  {
   "attachments": {},
   "cell_type": "markdown",
   "metadata": {},
   "source": [
    "### 4.1.1 Define function hourly_sample_state(selected_id)"
   ]
  },
  {
   "cell_type": "code",
   "execution_count": null,
   "metadata": {},
   "outputs": [],
   "source": []
  }
 ],
 "metadata": {
  "kernelspec": {
   "display_name": "mimic",
   "language": "python",
   "name": "python3"
  },
  "language_info": {
   "codemirror_mode": {
    "name": "ipython",
    "version": 3
   },
   "file_extension": ".py",
   "mimetype": "text/x-python",
   "name": "python",
   "nbconvert_exporter": "python",
   "pygments_lexer": "ipython3",
   "version": "3.11.3"
  },
  "orig_nbformat": 4
 },
 "nbformat": 4,
 "nbformat_minor": 2
}
