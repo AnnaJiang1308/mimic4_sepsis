{
 "cells": [
  {
   "attachments": {},
   "cell_type": "markdown",
   "metadata": {},
   "source": [
    "MIMIC_Sepsis\n",
    "=================\n",
    "\n",
    "# 1 Preparation\n",
    "\n",
    "To run this document the following requirements must be satisfied:\n",
    "\n",
    "- Implement the database mimic in **PostgreSQL** and start it. The instruction can be seen [here](https://github.com/MIT-LCP/mimic-code/tree/main/mimic-iv/buildmimic/postgres). (The name of this environment should be **mimiciv**)\n",
    "- generate useful abstractions of raw MIMIC-IV data. The instruction be seen [here](https://github.com/MIT-LCP/mimic-code/tree/main/mimic-iv/concepts_postgres) \n",
    "\n",
    "\n",
    "\n",
    "To install all the libraries, run:\n",
    "```\n",
    "pip install -r requirements.txt\n",
    "```\n",
    "\n",
    "\n",
    "After all the preparation is done, run the following cell to connect to the database."
   ]
  },
  {
   "cell_type": "code",
   "execution_count": null,
   "metadata": {},
   "outputs": [],
   "source": [
    "import psycopg2\n",
    "from psycopg2 import sql\n",
    "import csv\n",
    "import pandas as pd\n",
    "import numpy as np\n",
    "import os\n",
    "import shutil\n",
    "import csv\n",
    "from datetime import timedelta\n",
    "from sklearn.impute import KNNImputer\n",
    "from sklearn.neighbors import KNeighborsRegressor\n",
    "\n",
    "# implement the username, password and database name\n",
    "conn = psycopg2.connect(host='', user='', password='', database='mimiciv')"
   ]
  },
  {
   "attachments": {},
   "cell_type": "markdown",
   "metadata": {},
   "source": [
    "# 2 Extract selected data from the original database \n",
    "\n",
    "According to the paper we need to extract the **state space** and **action space** respectively from the mimiciv database. The table **mimic4 itemid.csv** lists all the items required.\n",
    "\n",
    "***Uncomment the following line if you first time run the code***"
   ]
  },
  {
   "cell_type": "code",
   "execution_count": null,
   "metadata": {},
   "outputs": [],
   "source": [
    "# # uncomment the following line if you first time run the code\n",
    "\n",
    "# # Read the SQL file\n",
    "\n",
    "# try:\n",
    "#     with open('sql_file/select_patients_cohort.sql', 'r') as file0:\n",
    "#         sql_script_select_patients_cohort = file0.read()\n",
    "        \n",
    "#     with open('sql_file/state_from_chartevents.sql', 'r') as file1:\n",
    "#         sql_script_state = file1.read()\n",
    "\n",
    "#     with open('sql_file/action_from_inputevents.sql', 'r') as file2:\n",
    "#         sql_script_action = file2.read()\n",
    "\n",
    "#     # Execute the SQL script\n",
    "#     cursor = conn.cursor()\n",
    "    \n",
    "#     cursor.execute(sql.SQL(sql_script_select_patients_cohort))\n",
    "#     cursor.execute(sql.SQL(sql_script_state))\n",
    "#     cursor.execute(sql.SQL(sql_script_action))\n",
    "\n",
    "#     conn.commit()\n",
    "#     cursor.close()\n",
    "    \n",
    "# except (Exception, psycopg2.DatabaseError) as error:\n",
    "#     print(\"Error executing SQL statement:\", error)"
   ]
  },
  {
   "attachments": {},
   "cell_type": "markdown",
   "metadata": {},
   "source": [
    "Get the number of stay_ids:"
   ]
  },
  {
   "cell_type": "code",
   "execution_count": null,
   "metadata": {},
   "outputs": [],
   "source": [
    "with conn.cursor() as cursor:\n",
    "    command = \"SELECT distinct stay_id FROM mimiciv_derived.sepsis_patients_cohort;\"\n",
    "    cursor.execute(command)   \n",
    "    result = cursor.fetchall()\n",
    "    stay_ids= [row[0] for row in result]\n",
    "    num_stay_ids = len(stay_ids)\n",
    "    print('Number of stay_ids: ' + str(num_stay_ids))\n",
    "    cursor.close()"
   ]
  },
  {
   "attachments": {},
   "cell_type": "markdown",
   "metadata": {},
   "source": [
    "# 3 Data transfor"
   ]
  },
  {
   "attachments": {},
   "cell_type": "markdown",
   "metadata": {},
   "source": [
    "## 3.1 Data transfer of State Space\n",
    "We transfer the data of State Space from Postgresql to csv."
   ]
  }
 ],
 "metadata": {
  "kernelspec": {
   "display_name": "mimic",
   "language": "python",
   "name": "python3"
  },
  "language_info": {
   "name": "python",
   "version": "3.10.11"
  },
  "orig_nbformat": 4
 },
 "nbformat": 4,
 "nbformat_minor": 2
}
